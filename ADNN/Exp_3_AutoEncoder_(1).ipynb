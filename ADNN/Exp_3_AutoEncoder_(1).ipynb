{
  "cells": [
    {
      "cell_type": "markdown",
      "metadata": {
        "id": "iJ0ZKrDxffoG"
      },
      "source": [
        "#**Importing Necessary libraries**\n"
      ]
    },
    {
      "cell_type": "code",
      "execution_count": null,
      "metadata": {
        "id": "9kxgAa7fw07t",
        "outputId": "dbff1712-018a-465f-e411-bbb9e3e10034"
      },
      "outputs": [
        {
          "name": "stdout",
          "output_type": "stream",
          "text": [
            "Requirement already satisfied: matplotlib in /usr/local/lib/python3.10/dist-packages (3.9.1)\n",
            "Requirement already satisfied: contourpy>=1.0.1 in /usr/local/lib/python3.10/dist-packages (from matplotlib) (1.2.1)\n",
            "Requirement already satisfied: cycler>=0.10 in /usr/local/lib/python3.10/dist-packages (from matplotlib) (0.12.1)\n",
            "Requirement already satisfied: fonttools>=4.22.0 in /usr/local/lib/python3.10/dist-packages (from matplotlib) (4.53.1)\n",
            "Requirement already satisfied: kiwisolver>=1.3.1 in /usr/local/lib/python3.10/dist-packages (from matplotlib) (1.4.5)\n",
            "Requirement already satisfied: numpy>=1.23 in /usr/local/lib/python3.10/dist-packages (from matplotlib) (1.24.4)\n",
            "Requirement already satisfied: packaging>=20.0 in /usr/local/lib/python3.10/dist-packages (from matplotlib) (23.2)\n",
            "Requirement already satisfied: pillow>=8 in /usr/local/lib/python3.10/dist-packages (from matplotlib) (10.2.0)\n",
            "Requirement already satisfied: pyparsing>=2.3.1 in /usr/local/lib/python3.10/dist-packages (from matplotlib) (3.1.2)\n",
            "Requirement already satisfied: python-dateutil>=2.7 in /usr/local/lib/python3.10/dist-packages (from matplotlib) (2.9.0.post0)\n",
            "Requirement already satisfied: six>=1.5 in /usr/local/lib/python3.10/dist-packages (from python-dateutil>=2.7->matplotlib) (1.16.0)\n",
            "\u001b[33mWARNING: Running pip as the 'root' user can result in broken permissions and conflicting behaviour with the system package manager. It is recommended to use a virtual environment instead: https://pip.pypa.io/warnings/venv\u001b[0m\u001b[33m\n",
            "\u001b[0m"
          ]
        }
      ],
      "source": [
        "!pip install matplotlib"
      ]
    },
    {
      "cell_type": "code",
      "execution_count": null,
      "metadata": {
        "id": "7iXDJSIGjjn-"
      },
      "outputs": [],
      "source": [
        "import numpy as np\n",
        "import tensorflow as tf\n",
        "import matplotlib.pyplot as plt\n",
        "import keras\n",
        "from tensorflow.keras import layers\n",
        "from tensorflow.keras.datasets import mnist\n",
        "from tensorflow.keras.models import Model"
      ]
    },
    {
      "cell_type": "markdown",
      "metadata": {
        "id": "0Nkpt3-Ijn6a"
      },
      "source": [
        "# **Pre-processing**\n",
        "**Normalizing the data into 0 to 1 and reshaping the size**"
      ]
    },
    {
      "cell_type": "code",
      "execution_count": null,
      "metadata": {
        "id": "dhdMwRI-jzRw"
      },
      "outputs": [],
      "source": [
        "def preprocess(array):\n",
        "    \"\"\"\n",
        "    Normalizes the supplied array and reshapes it into the appropriate format.\n",
        "    \"\"\"\n",
        "\n",
        "    array = array.astype(\"float32\") / 255.0\n",
        "    array = np.reshape(array, (len(array), 28, 28, 1))\n",
        "    return array"
      ]
    },
    {
      "cell_type": "markdown",
      "metadata": {
        "id": "55DproJfj1KD"
      },
      "source": [
        "# **Adding noise to the original images**"
      ]
    },
    {
      "cell_type": "code",
      "execution_count": null,
      "metadata": {
        "id": "PV-2LxIfj6QW"
      },
      "outputs": [],
      "source": [
        "def noise(array):\n",
        "    \"\"\"\n",
        "    Adds random noise to each image in the supplied array.\n",
        "    \"\"\"\n",
        "\n",
        "    noise_factor = 0.4\n",
        "    noisy_array = array + noise_factor * np.random.normal(\n",
        "        loc=0.0, scale=1.0, size=array.shape\n",
        "    )\n",
        "\n",
        "    return np.clip(noisy_array, 0.0, 1.0)"
      ]
    },
    {
      "cell_type": "markdown",
      "metadata": {
        "id": "k-tnCcn8j-EY"
      },
      "source": [
        "# **Visualizing the images**"
      ]
    },
    {
      "cell_type": "code",
      "execution_count": null,
      "metadata": {
        "id": "JuKSi3EJyGb-"
      },
      "outputs": [],
      "source": [
        "def display(array1, array2):\n",
        "    \"\"\"\n",
        "    Displays ten random images from each one of the supplied arrays.\n",
        "    \"\"\"\n",
        "\n",
        "    n = 10\n",
        "\n",
        "    indices = np.random.randint(len(array1), size=n)\n",
        "    images1 = array1[indices, :]\n",
        "    images2 = array2[indices, :]\n",
        "\n",
        "    plt.figure(figsize=(20, 4))\n",
        "    for i, (image1, image2) in enumerate(zip(images1, images2)):\n",
        "        ax = plt.subplot(2, n, i + 1)\n",
        "        plt.imshow(image1.reshape(28, 28))\n",
        "        plt.gray()\n",
        "        ax.get_xaxis().set_visible(False)\n",
        "        ax.get_yaxis().set_visible(False)\n",
        "\n",
        "        ax = plt.subplot(2, n, i + 1 + n)\n",
        "        plt.imshow(image2.reshape(28, 28))\n",
        "        plt.gray()\n",
        "        ax.get_xaxis().set_visible(False)\n",
        "        ax.get_yaxis().set_visible(False)\n",
        "\n",
        "    plt.show()\n"
      ]
    },
    {
      "cell_type": "markdown",
      "metadata": {
        "id": "yzRVuD3qkGvD"
      },
      "source": [
        "# **Preparing the data**"
      ]
    },
    {
      "cell_type": "code",
      "execution_count": null,
      "metadata": {
        "colab": {
          "base_uri": "https://localhost:8080/",
          "height": 391
        },
        "id": "RI03JfP7kEKA",
        "outputId": "a756593f-e24f-4233-ea38-0425f8a6132a"
      },
      "outputs": [
        {
          "data": {
            "image/png": "[encoded data removed]",
            "text/plain": [
              "<Figure size 2000x400 with 20 Axes>"
            ]
          },
          "metadata": {},
          "output_type": "display_data"
        }
      ],
      "source": [
        "# Since we only need images from the dataset to encode and decode, we\n",
        "# won't use the labels.\n",
        "(train_data, _), (test_data, _) = mnist.load_data()\n",
        "\n",
        "# Normalize and reshape the data\n",
        "train_data = preprocess(train_data)\n",
        "test_data = preprocess(test_data)\n",
        "\n",
        "# Create a copy of the data with added noise\n",
        "noisy_train_data = noise(train_data)\n",
        "noisy_test_data = noise(test_data)\n",
        "\n",
        "# Display the train data and a version of it with added noise\n",
        "display(train_data, noisy_train_data)"
      ]
    },
    {
      "cell_type": "markdown",
      "metadata": {
        "id": "DnV68hpBkOZ5"
      },
      "source": [
        "# **Building the Autoencoder**"
      ]
    },
    {
      "cell_type": "code",
      "execution_count": null,
      "metadata": {
        "colab": {
          "base_uri": "https://localhost:8080/"
        },
        "id": "0C4ZFzIqkEMJ",
        "outputId": "6c3af28b-a6e0-42e3-9db8-08ebd0609800"
      },
      "outputs": [
        {
          "name": "stdout",
          "output_type": "stream",
          "text": [
            "Model: \"model\"\n",
            "_________________________________________________________________\n",
            " Layer (type)                Output Shape              Param #   \n",
            "=================================================================\n",
            " input_1 (InputLayer)        [(None, 28, 28, 1)]       0         \n",
            "                                                                 \n",
            " conv2d (Conv2D)             (None, 28, 28, 32)        320       \n",
            "                                                                 \n",
            " max_pooling2d (MaxPooling2  (None, 14, 14, 32)        0         \n",
            " D)                                                              \n",
            "                                                                 \n",
            " conv2d_1 (Conv2D)           (None, 14, 14, 32)        9248      \n",
            "                                                                 \n",
            " max_pooling2d_1 (MaxPoolin  (None, 7, 7, 32)          0         \n",
            " g2D)                                                            \n",
            "                                                                 \n",
            " conv2d_transpose (Conv2DTr  (None, 14, 14, 32)        9248      \n",
            " anspose)                                                        \n",
            "                                                                 \n",
            " conv2d_transpose_1 (Conv2D  (None, 28, 28, 32)        9248      \n",
            " Transpose)                                                      \n",
            "                                                                 \n",
            " conv2d_2 (Conv2D)           (None, 28, 28, 1)         289       \n",
            "                                                                 \n",
            "=================================================================\n",
            "Total params: 28353 (110.75 KB)\n",
            "Trainable params: 28353 (110.75 KB)\n",
            "Non-trainable params: 0 (0.00 Byte)\n",
            "_________________________________________________________________\n"
          ]
        },
        {
          "name": "stderr",
          "output_type": "stream",
          "text": [
            "2024-07-11 10:14:49.345534: I tensorflow/core/common_runtime/gpu/gpu_device.cc:1926] Created device /job:localhost/replica:0/task:0/device:GPU:0 with 17947 MB memory:  -> device: 0, name: NVIDIA A100-SXM4-40GB MIG 3g.20gb, pci bus id: 0000:b7:00.0, compute capability: 8.0\n"
          ]
        }
      ],
      "source": [
        "input = layers.Input(shape=(28, 28, 1))\n",
        "\n",
        "# Encoder\n",
        "x = layers.Conv2D(32, (3, 3), activation=\"relu\", padding=\"same\")(input)\n",
        "x = layers.MaxPooling2D((2, 2), padding=\"same\")(x)\n",
        "x = layers.Conv2D(32, (3, 3), activation=\"relu\", padding=\"same\")(x)\n",
        "x = layers.MaxPooling2D((2, 2), padding=\"same\")(x)\n",
        "\n",
        "# Decoder\n",
        "x = layers.Conv2DTranspose(32, (3, 3), strides=2, activation=\"relu\", padding=\"same\")(x)\n",
        "x = layers.Conv2DTranspose(32, (3, 3), strides=2, activation=\"relu\", padding=\"same\")(x)\n",
        "x = layers.Conv2D(1, (3, 3), activation=\"sigmoid\", padding=\"same\")(x)\n",
        "\n",
        "# Autoencoder\n",
        "autoencoder = Model(input, x)\n",
        "autoencoder.compile(optimizer=\"adam\", loss=\"binary_crossentropy\")\n",
        "autoencoder.summary()"
      ]
    },
    {
      "cell_type": "markdown",
      "metadata": {
        "id": "4J5rhuiZkaI8"
      },
      "source": [
        "# **Training the model**"
      ]
    },
    {
      "cell_type": "code",
      "execution_count": null,
      "metadata": {
        "colab": {
          "base_uri": "https://localhost:8080/"
        },
        "id": "Fy7NUzASkEN4",
        "outputId": "8dadf0bc-8f28-45ac-8201-a12a69e06ec0",
        "scrolled": true
      },
      "outputs": [
        {
          "name": "stdout",
          "output_type": "stream",
          "text": [
            "Epoch 1/50\n"
          ]
        },
        {
          "name": "stderr",
          "output_type": "stream",
          "text": [
            "2024-07-11 10:14:51.246797: I external/local_xla/xla/stream_executor/cuda/cuda_dnn.cc:467] Loaded cuDNN version 90100\n",
            "2024-07-11 10:14:52.225470: I external/local_xla/xla/service/service.cc:168] XLA service 0x7fb160ae6fd0 initialized for platform CUDA (this does not guarantee that XLA will be used). Devices:\n",
            "2024-07-11 10:14:52.225522: I external/local_xla/xla/service/service.cc:176]   StreamExecutor device (0): NVIDIA A100-SXM4-40GB MIG 3g.20gb, Compute Capability 8.0\n",
            "2024-07-11 10:14:52.232071: I tensorflow/compiler/mlir/tensorflow/utils/dump_mlir_util.cc:269] disabling MLIR crash reproducer, set env var `MLIR_CRASH_REPRODUCER_DIRECTORY` to enable.\n",
            "WARNING: All log messages before absl::InitializeLog() is called are written to STDERR\n",
            "I0000 00:00:1720692892.349650  994793 device_compiler.h:186] Compiled cluster using XLA!  This line is logged at most once for the lifetime of the process.\n"
          ]
        },
        {
          "name": "stdout",
          "output_type": "stream",
          "text": [
            "469/469 [==============================] - 6s 6ms/step - loss: 0.1317 - val_loss: 0.0737\n",
            "Epoch 2/50\n",
            "469/469 [==============================] - 2s 4ms/step - loss: 0.0723 - val_loss: 0.0701\n",
            "Epoch 3/50\n",
            "469/469 [==============================] - 2s 4ms/step - loss: 0.0699 - val_loss: 0.0686\n",
            "Epoch 4/50\n",
            "469/469 [==============================] - 2s 4ms/step - loss: 0.0686 - val_loss: 0.0676\n",
            "Epoch 5/50\n",
            "469/469 [==============================] - 2s 4ms/step - loss: 0.0677 - val_loss: 0.0669\n",
            "Epoch 6/50\n",
            "469/469 [==============================] - 2s 4ms/step - loss: 0.0671 - val_loss: 0.0665\n",
            "Epoch 7/50\n",
            "469/469 [==============================] - 2s 4ms/step - loss: 0.0666 - val_loss: 0.0660\n",
            "Epoch 8/50\n",
            "469/469 [==============================] - 2s 4ms/step - loss: 0.0662 - val_loss: 0.0656\n",
            "Epoch 9/50\n",
            "469/469 [==============================] - 2s 4ms/step - loss: 0.0659 - val_loss: 0.0653\n",
            "Epoch 10/50\n",
            "469/469 [==============================] - 2s 4ms/step - loss: 0.0656 - val_loss: 0.0651\n",
            "Epoch 11/50\n",
            "469/469 [==============================] - 2s 4ms/step - loss: 0.0653 - val_loss: 0.0648\n",
            "Epoch 12/50\n",
            "469/469 [==============================] - 2s 4ms/step - loss: 0.0651 - val_loss: 0.0646\n",
            "Epoch 13/50\n",
            "469/469 [==============================] - 2s 4ms/step - loss: 0.0649 - val_loss: 0.0644\n",
            "Epoch 14/50\n",
            "469/469 [==============================] - 2s 4ms/step - loss: 0.0647 - val_loss: 0.0642\n",
            "Epoch 15/50\n",
            "469/469 [==============================] - 2s 4ms/step - loss: 0.0645 - val_loss: 0.0641\n",
            "Epoch 16/50\n",
            "469/469 [==============================] - 2s 4ms/step - loss: 0.0643 - val_loss: 0.0639\n",
            "Epoch 17/50\n",
            "469/469 [==============================] - 2s 4ms/step - loss: 0.0642 - val_loss: 0.0638\n",
            "Epoch 18/50\n",
            "469/469 [==============================] - 2s 4ms/step - loss: 0.0640 - val_loss: 0.0637\n",
            "Epoch 19/50\n",
            "469/469 [==============================] - 2s 4ms/step - loss: 0.0639 - val_loss: 0.0635\n",
            "Epoch 20/50\n",
            "469/469 [==============================] - 2s 4ms/step - loss: 0.0638 - val_loss: 0.0635\n",
            "Epoch 21/50\n",
            "469/469 [==============================] - 2s 4ms/step - loss: 0.0637 - val_loss: 0.0634\n",
            "Epoch 22/50\n",
            "469/469 [==============================] - 2s 4ms/step - loss: 0.0636 - val_loss: 0.0632\n",
            "Epoch 23/50\n",
            "469/469 [==============================] - 2s 4ms/step - loss: 0.0635 - val_loss: 0.0631\n",
            "Epoch 24/50\n",
            "469/469 [==============================] - 2s 4ms/step - loss: 0.0635 - val_loss: 0.0632\n",
            "Epoch 25/50\n",
            "469/469 [==============================] - 2s 4ms/step - loss: 0.0634 - val_loss: 0.0630\n",
            "Epoch 26/50\n",
            "469/469 [==============================] - 2s 4ms/step - loss: 0.0633 - val_loss: 0.0629\n",
            "Epoch 27/50\n",
            "469/469 [==============================] - 2s 4ms/step - loss: 0.0633 - val_loss: 0.0629\n",
            "Epoch 28/50\n",
            "469/469 [==============================] - 2s 4ms/step - loss: 0.0632 - val_loss: 0.0628\n",
            "Epoch 29/50\n",
            "469/469 [==============================] - 2s 4ms/step - loss: 0.0631 - val_loss: 0.0628\n",
            "Epoch 30/50\n",
            "469/469 [==============================] - 2s 4ms/step - loss: 0.0631 - val_loss: 0.0627\n",
            "Epoch 31/50\n",
            "469/469 [==============================] - 2s 4ms/step - loss: 0.0631 - val_loss: 0.0627\n",
            "Epoch 32/50\n",
            "469/469 [==============================] - 2s 4ms/step - loss: 0.0630 - val_loss: 0.0626\n",
            "Epoch 33/50\n",
            "469/469 [==============================] - 2s 4ms/step - loss: 0.0630 - val_loss: 0.0626\n",
            "Epoch 34/50\n",
            "469/469 [==============================] - 2s 4ms/step - loss: 0.0629 - val_loss: 0.0625\n",
            "Epoch 35/50\n",
            "469/469 [==============================] - 2s 4ms/step - loss: 0.0629 - val_loss: 0.0625\n",
            "Epoch 36/50\n",
            "469/469 [==============================] - 2s 4ms/step - loss: 0.0629 - val_loss: 0.0625\n",
            "Epoch 37/50\n",
            "469/469 [==============================] - 2s 4ms/step - loss: 0.0628 - val_loss: 0.0625\n",
            "Epoch 38/50\n",
            "469/469 [==============================] - 2s 4ms/step - loss: 0.0628 - val_loss: 0.0626\n",
            "Epoch 39/50\n",
            "469/469 [==============================] - 2s 4ms/step - loss: 0.0628 - val_loss: 0.0624\n",
            "Epoch 40/50\n",
            "469/469 [==============================] - 2s 4ms/step - loss: 0.0627 - val_loss: 0.0624\n",
            "Epoch 41/50\n",
            "469/469 [==============================] - 2s 4ms/step - loss: 0.0627 - val_loss: 0.0623\n",
            "Epoch 42/50\n",
            "469/469 [==============================] - 2s 4ms/step - loss: 0.0627 - val_loss: 0.0623\n",
            "Epoch 43/50\n",
            "469/469 [==============================] - 2s 4ms/step - loss: 0.0627 - val_loss: 0.0624\n",
            "Epoch 44/50\n",
            "469/469 [==============================] - 2s 4ms/step - loss: 0.0626 - val_loss: 0.0623\n",
            "Epoch 45/50\n",
            "469/469 [==============================] - 2s 4ms/step - loss: 0.0626 - val_loss: 0.0623\n",
            "Epoch 46/50\n",
            "469/469 [==============================] - 2s 4ms/step - loss: 0.0626 - val_loss: 0.0623\n",
            "Epoch 47/50\n",
            "469/469 [==============================] - 2s 4ms/step - loss: 0.0626 - val_loss: 0.0623\n",
            "Epoch 48/50\n",
            "469/469 [==============================] - 2s 4ms/step - loss: 0.0625 - val_loss: 0.0622\n",
            "Epoch 49/50\n",
            "469/469 [==============================] - 2s 4ms/step - loss: 0.0625 - val_loss: 0.0623\n",
            "Epoch 50/50\n",
            "469/469 [==============================] - 2s 4ms/step - loss: 0.0625 - val_loss: 0.0622\n"
          ]
        },
        {
          "data": {
            "text/plain": [
              "<keras.src.callbacks.History at 0x7fbb3749d210>"
            ]
          },
          "execution_count": 19,
          "metadata": {},
          "output_type": "execute_result"
        }
      ],
      "source": [
        "autoencoder.fit(\n",
        "    x=train_data,\n",
        "    y=train_data,\n",
        "    epochs=50,\n",
        "    batch_size=128,\n",
        "    shuffle=True,\n",
        "    validation_data=(test_data, test_data),\n",
        ")"
      ]
    },
    {
      "cell_type": "markdown",
      "metadata": {
        "id": "pdQ8WlNJklDQ"
      },
      "source": [
        "# **Prediction**"
      ]
    },
    {
      "cell_type": "code",
      "execution_count": null,
      "metadata": {
        "colab": {
          "base_uri": "https://localhost:8080/",
          "height": 270
        },
        "id": "RCybzGz4kEP8",
        "outputId": "f6111b58-27b7-49b4-fbfc-fbe6cc58ad26"
      },
      "outputs": [
        {
          "name": "stdout",
          "output_type": "stream",
          "text": [
            "313/313 [==============================] - 1s 1ms/step\n"
          ]
        },
        {
          "data": {
            "image/png": "[encoded data removed]",
            "text/plain": [
              "<Figure size 2000x400 with 20 Axes>"
            ]
          },
          "metadata": {},
          "output_type": "display_data"
        }
      ],
      "source": [
        "predictions = autoencoder.predict(test_data)\n",
        "display(test_data, predictions)"
      ]
    },
    {
      "cell_type": "code",
      "execution_count": null,
      "metadata": {
        "colab": {
          "base_uri": "https://localhost:8080/"
        },
        "id": "de8fNubekESA",
        "outputId": "9a72e159-09d9-47e0-e9bd-096a14dbaa2d",
        "scrolled": true
      },
      "outputs": [
        {
          "name": "stdout",
          "output_type": "stream",
          "text": [
            "Epoch 1/100\n",
            "469/469 [==============================] - 2s 4ms/step - loss: 0.1017 - val_loss: 0.0943\n",
            "Epoch 2/100\n",
            "469/469 [==============================] - 2s 4ms/step - loss: 0.0937 - val_loss: 0.0920\n",
            "Epoch 3/100\n",
            "469/469 [==============================] - 2s 4ms/step - loss: 0.0920 - val_loss: 0.0908\n",
            "Epoch 4/100\n",
            "469/469 [==============================] - 2s 4ms/step - loss: 0.0911 - val_loss: 0.0901\n",
            "Epoch 5/100\n",
            "469/469 [==============================] - 2s 4ms/step - loss: 0.0904 - val_loss: 0.0895\n",
            "Epoch 6/100\n",
            "469/469 [==============================] - 2s 4ms/step - loss: 0.0899 - val_loss: 0.0892\n",
            "Epoch 7/100\n",
            "469/469 [==============================] - 2s 4ms/step - loss: 0.0895 - val_loss: 0.0888\n",
            "Epoch 8/100\n",
            "469/469 [==============================] - 2s 4ms/step - loss: 0.0891 - val_loss: 0.0888\n",
            "Epoch 9/100\n",
            "469/469 [==============================] - 2s 4ms/step - loss: 0.0888 - val_loss: 0.0882\n",
            "Epoch 10/100\n",
            "469/469 [==============================] - 2s 4ms/step - loss: 0.0885 - val_loss: 0.0881\n",
            "Epoch 11/100\n",
            "469/469 [==============================] - 2s 4ms/step - loss: 0.0883 - val_loss: 0.0875\n",
            "Epoch 12/100\n",
            "469/469 [==============================] - 2s 4ms/step - loss: 0.0880 - val_loss: 0.0873\n",
            "Epoch 13/100\n",
            "469/469 [==============================] - 2s 4ms/step - loss: 0.0878 - val_loss: 0.0872\n",
            "Epoch 14/100\n",
            "469/469 [==============================] - 2s 4ms/step - loss: 0.0876 - val_loss: 0.0870\n",
            "Epoch 15/100\n",
            "469/469 [==============================] - 2s 4ms/step - loss: 0.0875 - val_loss: 0.0876\n",
            "Epoch 16/100\n",
            "469/469 [==============================] - 2s 4ms/step - loss: 0.0873 - val_loss: 0.0868\n",
            "Epoch 17/100\n",
            "469/469 [==============================] - 2s 4ms/step - loss: 0.0871 - val_loss: 0.0866\n",
            "Epoch 18/100\n",
            "469/469 [==============================] - 2s 4ms/step - loss: 0.0870 - val_loss: 0.0866\n",
            "Epoch 19/100\n",
            "469/469 [==============================] - 2s 4ms/step - loss: 0.0869 - val_loss: 0.0863\n",
            "Epoch 20/100\n",
            "469/469 [==============================] - 2s 4ms/step - loss: 0.0868 - val_loss: 0.0863\n",
            "Epoch 21/100\n",
            "469/469 [==============================] - 2s 4ms/step - loss: 0.0867 - val_loss: 0.0862\n",
            "Epoch 22/100\n",
            "469/469 [==============================] - 2s 4ms/step - loss: 0.0866 - val_loss: 0.0861\n",
            "Epoch 23/100\n",
            "469/469 [==============================] - 2s 4ms/step - loss: 0.0865 - val_loss: 0.0860\n",
            "Epoch 24/100\n",
            "469/469 [==============================] - 2s 4ms/step - loss: 0.0864 - val_loss: 0.0859\n",
            "Epoch 25/100\n",
            "469/469 [==============================] - 2s 4ms/step - loss: 0.0863 - val_loss: 0.0858\n",
            "Epoch 26/100\n",
            "469/469 [==============================] - 2s 4ms/step - loss: 0.0863 - val_loss: 0.0859\n",
            "Epoch 27/100\n",
            "469/469 [==============================] - 2s 4ms/step - loss: 0.0862 - val_loss: 0.0857\n",
            "Epoch 28/100\n",
            "469/469 [==============================] - 2s 4ms/step - loss: 0.0861 - val_loss: 0.0857\n",
            "Epoch 29/100\n",
            "469/469 [==============================] - 2s 4ms/step - loss: 0.0860 - val_loss: 0.0856\n",
            "Epoch 30/100\n",
            "469/469 [==============================] - 2s 4ms/step - loss: 0.0860 - val_loss: 0.0856\n",
            "Epoch 31/100\n",
            "469/469 [==============================] - 2s 4ms/step - loss: 0.0859 - val_loss: 0.0859\n",
            "Epoch 32/100\n",
            "469/469 [==============================] - 2s 4ms/step - loss: 0.0859 - val_loss: 0.0857\n",
            "Epoch 33/100\n",
            "469/469 [==============================] - 2s 4ms/step - loss: 0.0858 - val_loss: 0.0856\n",
            "Epoch 34/100\n",
            "469/469 [==============================] - 2s 4ms/step - loss: 0.0858 - val_loss: 0.0854\n",
            "Epoch 35/100\n",
            "469/469 [==============================] - 2s 4ms/step - loss: 0.0858 - val_loss: 0.0856\n",
            "Epoch 36/100\n",
            "469/469 [==============================] - 2s 4ms/step - loss: 0.0857 - val_loss: 0.0853\n",
            "Epoch 37/100\n",
            "469/469 [==============================] - 2s 4ms/step - loss: 0.0857 - val_loss: 0.0853\n",
            "Epoch 38/100\n",
            "469/469 [==============================] - 2s 4ms/step - loss: 0.0856 - val_loss: 0.0853\n",
            "Epoch 39/100\n",
            "469/469 [==============================] - 2s 4ms/step - loss: 0.0856 - val_loss: 0.0853\n",
            "Epoch 40/100\n",
            "469/469 [==============================] - 2s 4ms/step - loss: 0.0855 - val_loss: 0.0852\n",
            "Epoch 41/100\n",
            "469/469 [==============================] - 2s 4ms/step - loss: 0.0855 - val_loss: 0.0854\n",
            "Epoch 42/100\n",
            "469/469 [==============================] - 2s 4ms/step - loss: 0.0855 - val_loss: 0.0853\n",
            "Epoch 43/100\n",
            "469/469 [==============================] - 2s 4ms/step - loss: 0.0855 - val_loss: 0.0853\n",
            "Epoch 44/100\n",
            "469/469 [==============================] - 2s 4ms/step - loss: 0.0854 - val_loss: 0.0851\n",
            "Epoch 45/100\n",
            "469/469 [==============================] - 2s 4ms/step - loss: 0.0854 - val_loss: 0.0854\n",
            "Epoch 46/100\n",
            "469/469 [==============================] - 2s 4ms/step - loss: 0.0853 - val_loss: 0.0851\n",
            "Epoch 47/100\n",
            "469/469 [==============================] - 2s 4ms/step - loss: 0.0853 - val_loss: 0.0851\n",
            "Epoch 48/100\n",
            "469/469 [==============================] - 2s 4ms/step - loss: 0.0853 - val_loss: 0.0850\n",
            "Epoch 49/100\n",
            "469/469 [==============================] - 2s 4ms/step - loss: 0.0853 - val_loss: 0.0850\n",
            "Epoch 50/100\n",
            "469/469 [==============================] - 2s 4ms/step - loss: 0.0853 - val_loss: 0.0851\n",
            "Epoch 51/100\n",
            "469/469 [==============================] - 2s 4ms/step - loss: 0.0852 - val_loss: 0.0850\n",
            "Epoch 52/100\n",
            "469/469 [==============================] - 2s 4ms/step - loss: 0.0852 - val_loss: 0.0850\n",
            "Epoch 53/100\n",
            "469/469 [==============================] - 2s 4ms/step - loss: 0.0852 - val_loss: 0.0849\n",
            "Epoch 54/100\n",
            "469/469 [==============================] - 2s 4ms/step - loss: 0.0852 - val_loss: 0.0849\n",
            "Epoch 55/100\n",
            "469/469 [==============================] - 2s 4ms/step - loss: 0.0851 - val_loss: 0.0851\n",
            "Epoch 56/100\n",
            "469/469 [==============================] - 2s 4ms/step - loss: 0.0851 - val_loss: 0.0849\n",
            "Epoch 57/100\n",
            "469/469 [==============================] - 2s 4ms/step - loss: 0.0851 - val_loss: 0.0848\n",
            "Epoch 58/100\n",
            "469/469 [==============================] - 2s 4ms/step - loss: 0.0851 - val_loss: 0.0849\n",
            "Epoch 59/100\n",
            "469/469 [==============================] - 2s 4ms/step - loss: 0.0851 - val_loss: 0.0848\n",
            "Epoch 60/100\n",
            "469/469 [==============================] - 2s 4ms/step - loss: 0.0851 - val_loss: 0.0848\n",
            "Epoch 61/100\n",
            "469/469 [==============================] - 2s 4ms/step - loss: 0.0851 - val_loss: 0.0848\n",
            "Epoch 62/100\n",
            "469/469 [==============================] - 2s 4ms/step - loss: 0.0850 - val_loss: 0.0848\n",
            "Epoch 63/100\n",
            "469/469 [==============================] - 2s 4ms/step - loss: 0.0850 - val_loss: 0.0847\n",
            "Epoch 64/100\n",
            "469/469 [==============================] - 2s 4ms/step - loss: 0.0850 - val_loss: 0.0847\n",
            "Epoch 65/100\n",
            "469/469 [==============================] - 2s 4ms/step - loss: 0.0850 - val_loss: 0.0850\n",
            "Epoch 66/100\n",
            "469/469 [==============================] - 2s 3ms/step - loss: 0.0850 - val_loss: 0.0850\n",
            "Epoch 67/100\n",
            "469/469 [==============================] - 2s 4ms/step - loss: 0.0850 - val_loss: 0.0847\n",
            "Epoch 68/100\n",
            "469/469 [==============================] - 2s 4ms/step - loss: 0.0849 - val_loss: 0.0847\n",
            "Epoch 69/100\n",
            "469/469 [==============================] - 2s 4ms/step - loss: 0.0849 - val_loss: 0.0847\n",
            "Epoch 70/100\n",
            "469/469 [==============================] - 2s 4ms/step - loss: 0.0849 - val_loss: 0.0847\n",
            "Epoch 71/100\n",
            "469/469 [==============================] - 2s 4ms/step - loss: 0.0849 - val_loss: 0.0848\n",
            "Epoch 72/100\n",
            "469/469 [==============================] - 2s 4ms/step - loss: 0.0849 - val_loss: 0.0847\n",
            "Epoch 73/100\n",
            "469/469 [==============================] - 2s 4ms/step - loss: 0.0849 - val_loss: 0.0847\n",
            "Epoch 74/100\n",
            "469/469 [==============================] - 2s 4ms/step - loss: 0.0849 - val_loss: 0.0848\n",
            "Epoch 75/100\n",
            "469/469 [==============================] - 2s 4ms/step - loss: 0.0849 - val_loss: 0.0846\n",
            "Epoch 76/100\n",
            "469/469 [==============================] - 2s 4ms/step - loss: 0.0848 - val_loss: 0.0846\n",
            "Epoch 77/100\n",
            "469/469 [==============================] - 2s 4ms/step - loss: 0.0848 - val_loss: 0.0846\n",
            "Epoch 78/100\n",
            "469/469 [==============================] - 2s 4ms/step - loss: 0.0848 - val_loss: 0.0846\n",
            "Epoch 79/100\n",
            "469/469 [==============================] - 2s 4ms/step - loss: 0.0848 - val_loss: 0.0847\n",
            "Epoch 80/100\n",
            "469/469 [==============================] - 2s 4ms/step - loss: 0.0848 - val_loss: 0.0846\n",
            "Epoch 81/100\n",
            "469/469 [==============================] - 2s 4ms/step - loss: 0.0848 - val_loss: 0.0846\n",
            "Epoch 82/100\n",
            "469/469 [==============================] - 2s 4ms/step - loss: 0.0848 - val_loss: 0.0845\n",
            "Epoch 83/100\n",
            "469/469 [==============================] - 2s 4ms/step - loss: 0.0848 - val_loss: 0.0847\n",
            "Epoch 84/100\n",
            "469/469 [==============================] - 2s 4ms/step - loss: 0.0848 - val_loss: 0.0846\n",
            "Epoch 85/100\n",
            "469/469 [==============================] - 2s 4ms/step - loss: 0.0848 - val_loss: 0.0846\n",
            "Epoch 86/100\n",
            "469/469 [==============================] - 2s 4ms/step - loss: 0.0847 - val_loss: 0.0846\n",
            "Epoch 87/100\n",
            "469/469 [==============================] - 2s 4ms/step - loss: 0.0847 - val_loss: 0.0846\n",
            "Epoch 88/100\n",
            "469/469 [==============================] - 2s 4ms/step - loss: 0.0847 - val_loss: 0.0847\n",
            "Epoch 89/100\n",
            "469/469 [==============================] - 2s 4ms/step - loss: 0.0847 - val_loss: 0.0849\n",
            "Epoch 90/100\n",
            "469/469 [==============================] - 2s 4ms/step - loss: 0.0847 - val_loss: 0.0846\n",
            "Epoch 91/100\n",
            "469/469 [==============================] - 2s 4ms/step - loss: 0.0847 - val_loss: 0.0846\n",
            "Epoch 92/100\n",
            "469/469 [==============================] - 2s 4ms/step - loss: 0.0847 - val_loss: 0.0846\n",
            "Epoch 93/100\n",
            "469/469 [==============================] - 2s 4ms/step - loss: 0.0847 - val_loss: 0.0847\n",
            "Epoch 94/100\n",
            "469/469 [==============================] - 2s 4ms/step - loss: 0.0847 - val_loss: 0.0846\n",
            "Epoch 95/100\n",
            "469/469 [==============================] - 2s 4ms/step - loss: 0.0847 - val_loss: 0.0845\n",
            "Epoch 96/100\n",
            "469/469 [==============================] - 2s 4ms/step - loss: 0.0847 - val_loss: 0.0844\n",
            "Epoch 97/100\n",
            "469/469 [==============================] - 2s 4ms/step - loss: 0.0846 - val_loss: 0.0845\n",
            "Epoch 98/100\n",
            "469/469 [==============================] - 2s 4ms/step - loss: 0.0846 - val_loss: 0.0845\n",
            "Epoch 99/100\n",
            "469/469 [==============================] - 2s 4ms/step - loss: 0.0846 - val_loss: 0.0846\n",
            "Epoch 100/100\n",
            "469/469 [==============================] - 2s 4ms/step - loss: 0.0846 - val_loss: 0.0845\n"
          ]
        },
        {
          "data": {
            "text/plain": [
              "<keras.src.callbacks.History at 0x7fbb4049b070>"
            ]
          },
          "execution_count": 21,
          "metadata": {},
          "output_type": "execute_result"
        }
      ],
      "source": [
        "autoencoder.fit(\n",
        "    x=noisy_train_data,\n",
        "    y=train_data,\n",
        "    epochs=100,\n",
        "    batch_size=128,\n",
        "    shuffle=True,\n",
        "    validation_data=(noisy_test_data, test_data),\n",
        ")"
      ]
    },
    {
      "cell_type": "code",
      "execution_count": null,
      "metadata": {
        "colab": {
          "base_uri": "https://localhost:8080/",
          "height": 270
        },
        "id": "Rvj2ev6gkET2",
        "outputId": "94c99edd-80ad-4566-eb6d-4970c7825f8e"
      },
      "outputs": [
        {
          "name": "stdout",
          "output_type": "stream",
          "text": [
            "313/313 [==============================] - 0s 997us/step\n"
          ]
        },
        {
          "data": {
            "image/png": "[encoded data removed]",
            "text/plain": [
              "<Figure size 2000x400 with 20 Axes>"
            ]
          },
          "metadata": {},
          "output_type": "display_data"
        }
      ],
      "source": [
        "predictions = autoencoder.predict(noisy_test_data)\n",
        "display(noisy_test_data, predictions)"
      ]
    },
    {
      "cell_type": "code",
      "execution_count": null,
      "metadata": {
        "id": "Vlvhn8JokEZk"
      },
      "outputs": [],
      "source": []
    }
  ],
  "metadata": {
    "accelerator": "GPU",
    "colab": {
      "gpuType": "T4",
      "provenance": []
    },
    "gpuClass": "standard",
    "kernelspec": {
      "display_name": "Python 3 (ipykernel)",
      "language": "python",
      "name": "python3"
    },
    "language_info": {
      "codemirror_mode": {
        "name": "ipython",
        "version": 3
      },
      "file_extension": ".py",
      "mimetype": "text/x-python",
      "name": "python",
      "nbconvert_exporter": "python",
      "pygments_lexer": "ipython3",
      "version": "3.10.12"
    }
  },
  "nbformat": 4,
  "nbformat_minor": 0
}