{
  "cells": [
    {
      "cell_type": "markdown",
      "metadata": {
        "id": "iJ0ZKrDxffoG"
      },
      "source": [
        "#**Importing Necessary Libraries**"
      ]
    },
    {
      "cell_type": "code",
      "execution_count": null,
      "metadata": {
        "id": "JuKSi3EJyGb-"
      },
      "outputs": [],
      "source": [
        "import numpy as np\n",
        "import pandas as pd"
      ]
    },
    {
      "cell_type": "markdown",
      "metadata": {
        "id": "92epT7aZgF74"
      },
      "source": [
        "#**Loading the Combined Cycle Power Plant Dataset**\n",
        "\n",
        "The dataset contains 9568 data points collected from a Combined Cycle Power Plant over 6 years (2006-2011), when the power plant was set to work with full load. Features consist of **hourly average ambient variables Temperature (AT)**, **Ambient Pressure (AP)**, **Relative Humidity (RH)** and **Exhaust Vacuum (V)** to predict the net **hourly electrical energy output (PE)** of the plant.\n",
        "\n",
        "* **For more information visit below link:**\n",
        "Link: https://archive.ics.uci.edu/ml/datasets/Combined+Cycle+Power+Plant\n",
        "\n",
        "\n",
        "\n"
      ]
    },
    {
      "cell_type": "code",
      "execution_count": null,
      "metadata": {
        "colab": {
          "base_uri": "https://localhost:8080/",
          "height": 206
        },
        "id": "mslwX-u6eqdi",
        "outputId": "f1ecb4b8-f98e-4460-c2a7-547afb9c5916"
      },
      "outputs": [
        {
          "data": {
            "application/vnd.google.colaboratory.intrinsic+json": {
              "summary": "{\n  \"name\": \"Powerplant_data\",\n  \"rows\": 9568,\n  \"fields\": [\n    {\n      \"column\": \"AT\",\n      \"properties\": {\n        \"dtype\": \"number\",\n        \"std\": 7.452473229611079,\n        \"min\": 1.81,\n        \"max\": 37.11,\n        \"samples\": [\n          12.54,\n          4.49,\n          6.64\n        ],\n        \"num_unique_values\": 2773,\n        \"semantic_type\": \"\",\n        \"description\": \"\"\n      }\n    },\n    {\n      \"column\": \"V\",\n      \"properties\": {\n        \"dtype\": \"number\",\n        \"std\": 12.707892998326809,\n        \"min\": 25.36,\n        \"max\": 81.56,\n        \"samples\": [\n          74.33,\n          73.67,\n          58.82\n        ],\n        \"num_unique_values\": 634,\n        \"semantic_type\": \"\",\n        \"description\": \"\"\n      }\n    },\n    {\n      \"column\": \"AP\",\n      \"properties\": {\n        \"dtype\": \"number\",\n        \"std\": 5.938783705811607,\n        \"min\": 992.89,\n        \"max\": 1033.3,\n        \"samples\": [\n          1020.46,\n          1015.73,\n          1027.64\n        ],\n        \"num_unique_values\": 2517,\n        \"semantic_type\": \"\",\n        \"description\": \"\"\n      }\n    },\n    {\n      \"column\": \"RH\",\n      \"properties\": {\n        \"dtype\": \"number\",\n        \"std\": 14.600268756728953,\n        \"min\": 25.56,\n        \"max\": 100.16,\n        \"samples\": [\n          62.8,\n          82.33,\n          47.19\n        ],\n        \"num_unique_values\": 4546,\n        \"semantic_type\": \"\",\n        \"description\": \"\"\n      }\n    },\n    {\n      \"column\": \"PE\",\n      \"properties\": {\n        \"dtype\": \"number\",\n        \"std\": 17.066994999803416,\n        \"min\": 420.26,\n        \"max\": 495.76,\n        \"samples\": [\n          473.87,\n          475.41,\n          468.81\n        ],\n        \"num_unique_values\": 4836,\n        \"semantic_type\": \"\",\n        \"description\": \"\"\n      }\n    }\n  ]\n}",
              "type": "dataframe",
              "variable_name": "Powerplant_data"
            },
            "text/html": [
              "\n",
              "  <div id=\"df-2f3d5fd0-e25d-41a8-a91f-b7579c2b000f\" class=\"colab-df-container\">\n",
              "    <div>\n",
              "<style scoped>\n",
              "    .dataframe tbody tr th:only-of-type {\n",
              "        vertical-align: middle;\n",
              "    }\n",
              "\n",
              "    .dataframe tbody tr th {\n",
              "        vertical-align: top;\n",
              "    }\n",
              "\n",
              "    .dataframe thead th {\n",
              "        text-align: right;\n",
              "    }\n",
              "</style>\n",
              "<table border=\"1\" class=\"dataframe\">\n",
              "  <thead>\n",
              "    <tr style=\"text-align: right;\">\n",
              "      <th></th>\n",
              "      <th>AT</th>\n",
              "      <th>V</th>\n",
              "      <th>AP</th>\n",
              "      <th>RH</th>\n",
              "      <th>PE</th>\n",
              "    </tr>\n",
              "  </thead>\n",
              "  <tbody>\n",
              "    <tr>\n",
              "      <th>0</th>\n",
              "      <td>14.96</td>\n",
              "      <td>41.76</td>\n",
              "      <td>1024.07</td>\n",
              "      <td>73.17</td>\n",
              "      <td>463.26</td>\n",
              "    </tr>\n",
              "    <tr>\n",
              "      <th>1</th>\n",
              "      <td>25.18</td>\n",
              "      <td>62.96</td>\n",
              "      <td>1020.04</td>\n",
              "      <td>59.08</td>\n",
              "      <td>444.37</td>\n",
              "    </tr>\n",
              "    <tr>\n",
              "      <th>2</th>\n",
              "      <td>5.11</td>\n",
              "      <td>39.40</td>\n",
              "      <td>1012.16</td>\n",
              "      <td>92.14</td>\n",
              "      <td>488.56</td>\n",
              "    </tr>\n",
              "    <tr>\n",
              "      <th>3</th>\n",
              "      <td>20.86</td>\n",
              "      <td>57.32</td>\n",
              "      <td>1010.24</td>\n",
              "      <td>76.64</td>\n",
              "      <td>446.48</td>\n",
              "    </tr>\n",
              "    <tr>\n",
              "      <th>4</th>\n",
              "      <td>10.82</td>\n",
              "      <td>37.50</td>\n",
              "      <td>1009.23</td>\n",
              "      <td>96.62</td>\n",
              "      <td>473.90</td>\n",
              "    </tr>\n",
              "  </tbody>\n",
              "</table>\n",
              "</div>\n",
              "    <div class=\"colab-df-buttons\">\n",
              "\n",
              "  <div class=\"colab-df-container\">\n",
              "    <button class=\"colab-df-convert\" onclick=\"convertToInteractive('df-2f3d5fd0-e25d-41a8-a91f-b7579c2b000f')\"\n",
              "            title=\"Convert this dataframe to an interactive table.\"\n",
              "            style=\"display:none;\">\n",
              "\n",
              "  <svg xmlns=\"http://www.w3.org/2000/svg\" height=\"24px\" viewBox=\"0 -960 960 960\">\n",
              "    <path d=\"M120-120v-720h720v720H120Zm60-500h600v-160H180v160Zm220 220h160v-160H400v160Zm0 220h160v-160H400v160ZM180-400h160v-160H180v160Zm440 0h160v-160H620v160ZM180-180h160v-160H180v160Zm440 0h160v-160H620v160Z\"/>\n",
              "  </svg>\n",
              "    </button>\n",
              "\n",
              "  <style>\n",
              "    .colab-df-container {\n",
              "      display:flex;\n",
              "      gap: 12px;\n",
              "    }\n",
              "\n",
              "    .colab-df-convert {\n",
              "      background-color: #E8F0FE;\n",
              "      border: none;\n",
              "      border-radius: 50%;\n",
              "      cursor: pointer;\n",
              "      display: none;\n",
              "      fill: #1967D2;\n",
              "      height: 32px;\n",
              "      padding: 0 0 0 0;\n",
              "      width: 32px;\n",
              "    }\n",
              "\n",
              "    .colab-df-convert:hover {\n",
              "      background-color: #E2EBFA;\n",
              "      box-shadow: 0px 1px 2px rgba(60, 64, 67, 0.3), 0px 1px 3px 1px rgba(60, 64, 67, 0.15);\n",
              "      fill: #174EA6;\n",
              "    }\n",
              "\n",
              "    .colab-df-buttons div {\n",
              "      margin-bottom: 4px;\n",
              "    }\n",
              "\n",
              "    [theme=dark] .colab-df-convert {\n",
              "      background-color: #3B4455;\n",
              "      fill: #D2E3FC;\n",
              "    }\n",
              "\n",
              "    [theme=dark] .colab-df-convert:hover {\n",
              "      background-color: #434B5C;\n",
              "      box-shadow: 0px 1px 3px 1px rgba(0, 0, 0, 0.15);\n",
              "      filter: drop-shadow(0px 1px 2px rgba(0, 0, 0, 0.3));\n",
              "      fill: #FFFFFF;\n",
              "    }\n",
              "  </style>\n",
              "\n",
              "    <script>\n",
              "      const buttonEl =\n",
              "        document.querySelector('#df-2f3d5fd0-e25d-41a8-a91f-b7579c2b000f button.colab-df-convert');\n",
              "      buttonEl.style.display =\n",
              "        google.colab.kernel.accessAllowed ? 'block' : 'none';\n",
              "\n",
              "      async function convertToInteractive(key) {\n",
              "        const element = document.querySelector('#df-2f3d5fd0-e25d-41a8-a91f-b7579c2b000f');\n",
              "        const dataTable =\n",
              "          await google.colab.kernel.invokeFunction('convertToInteractive',\n",
              "                                                    [key], {});\n",
              "        if (!dataTable) return;\n",
              "\n",
              "        const docLinkHtml = 'Like what you see? Visit the ' +\n",
              "          '<a target=\"_blank\" href=https://colab.research.google.com/notebooks/data_table.ipynb>data table notebook</a>'\n",
              "          + ' to learn more about interactive tables.';\n",
              "        element.innerHTML = '';\n",
              "        dataTable['output_type'] = 'display_data';\n",
              "        await google.colab.output.renderOutput(dataTable, element);\n",
              "        const docLink = document.createElement('div');\n",
              "        docLink.innerHTML = docLinkHtml;\n",
              "        element.appendChild(docLink);\n",
              "      }\n",
              "    </script>\n",
              "  </div>\n",
              "\n",
              "\n",
              "<div id=\"df-358fb0f7-1662-4ee3-95ea-10c25b602305\">\n",
              "  <button class=\"colab-df-quickchart\" onclick=\"quickchart('df-358fb0f7-1662-4ee3-95ea-10c25b602305')\"\n",
              "            title=\"Suggest charts\"\n",
              "            style=\"display:none;\">\n",
              "\n",
              "<svg xmlns=\"http://www.w3.org/2000/svg\" height=\"24px\"viewBox=\"0 0 24 24\"\n",
              "     width=\"24px\">\n",
              "    <g>\n",
              "        <path d=\"M19 3H5c-1.1 0-2 .9-2 2v14c0 1.1.9 2 2 2h14c1.1 0 2-.9 2-2V5c0-1.1-.9-2-2-2zM9 17H7v-7h2v7zm4 0h-2V7h2v10zm4 0h-2v-4h2v4z\"/>\n",
              "    </g>\n",
              "</svg>\n",
              "  </button>\n",
              "\n",
              "<style>\n",
              "  .colab-df-quickchart {\n",
              "      --bg-color: #E8F0FE;\n",
              "      --fill-color: #1967D2;\n",
              "      --hover-bg-color: #E2EBFA;\n",
              "      --hover-fill-color: #174EA6;\n",
              "      --disabled-fill-color: #AAA;\n",
              "      --disabled-bg-color: #DDD;\n",
              "  }\n",
              "\n",
              "  [theme=dark] .colab-df-quickchart {\n",
              "      --bg-color: #3B4455;\n",
              "      --fill-color: #D2E3FC;\n",
              "      --hover-bg-color: #434B5C;\n",
              "      --hover-fill-color: #FFFFFF;\n",
              "      --disabled-bg-color: #3B4455;\n",
              "      --disabled-fill-color: #666;\n",
              "  }\n",
              "\n",
              "  .colab-df-quickchart {\n",
              "    background-color: var(--bg-color);\n",
              "    border: none;\n",
              "    border-radius: 50%;\n",
              "    cursor: pointer;\n",
              "    display: none;\n",
              "    fill: var(--fill-color);\n",
              "    height: 32px;\n",
              "    padding: 0;\n",
              "    width: 32px;\n",
              "  }\n",
              "\n",
              "  .colab-df-quickchart:hover {\n",
              "    background-color: var(--hover-bg-color);\n",
              "    box-shadow: 0 1px 2px rgba(60, 64, 67, 0.3), 0 1px 3px 1px rgba(60, 64, 67, 0.15);\n",
              "    fill: var(--button-hover-fill-color);\n",
              "  }\n",
              "\n",
              "  .colab-df-quickchart-complete:disabled,\n",
              "  .colab-df-quickchart-complete:disabled:hover {\n",
              "    background-color: var(--disabled-bg-color);\n",
              "    fill: var(--disabled-fill-color);\n",
              "    box-shadow: none;\n",
              "  }\n",
              "\n",
              "  .colab-df-spinner {\n",
              "    border: 2px solid var(--fill-color);\n",
              "    border-color: transparent;\n",
              "    border-bottom-color: var(--fill-color);\n",
              "    animation:\n",
              "      spin 1s steps(1) infinite;\n",
              "  }\n",
              "\n",
              "  @keyframes spin {\n",
              "    0% {\n",
              "      border-color: transparent;\n",
              "      border-bottom-color: var(--fill-color);\n",
              "      border-left-color: var(--fill-color);\n",
              "    }\n",
              "    20% {\n",
              "      border-color: transparent;\n",
              "      border-left-color: var(--fill-color);\n",
              "      border-top-color: var(--fill-color);\n",
              "    }\n",
              "    30% {\n",
              "      border-color: transparent;\n",
              "      border-left-color: var(--fill-color);\n",
              "      border-top-color: var(--fill-color);\n",
              "      border-right-color: var(--fill-color);\n",
              "    }\n",
              "    40% {\n",
              "      border-color: transparent;\n",
              "      border-right-color: var(--fill-color);\n",
              "      border-top-color: var(--fill-color);\n",
              "    }\n",
              "    60% {\n",
              "      border-color: transparent;\n",
              "      border-right-color: var(--fill-color);\n",
              "    }\n",
              "    80% {\n",
              "      border-color: transparent;\n",
              "      border-right-color: var(--fill-color);\n",
              "      border-bottom-color: var(--fill-color);\n",
              "    }\n",
              "    90% {\n",
              "      border-color: transparent;\n",
              "      border-bottom-color: var(--fill-color);\n",
              "    }\n",
              "  }\n",
              "</style>\n",
              "\n",
              "  <script>\n",
              "    async function quickchart(key) {\n",
              "      const quickchartButtonEl =\n",
              "        document.querySelector('#' + key + ' button');\n",
              "      quickchartButtonEl.disabled = true;  // To prevent multiple clicks.\n",
              "      quickchartButtonEl.classList.add('colab-df-spinner');\n",
              "      try {\n",
              "        const charts = await google.colab.kernel.invokeFunction(\n",
              "            'suggestCharts', [key], {});\n",
              "      } catch (error) {\n",
              "        console.error('Error during call to suggestCharts:', error);\n",
              "      }\n",
              "      quickchartButtonEl.classList.remove('colab-df-spinner');\n",
              "      quickchartButtonEl.classList.add('colab-df-quickchart-complete');\n",
              "    }\n",
              "    (() => {\n",
              "      let quickchartButtonEl =\n",
              "        document.querySelector('#df-358fb0f7-1662-4ee3-95ea-10c25b602305 button');\n",
              "      quickchartButtonEl.style.display =\n",
              "        google.colab.kernel.accessAllowed ? 'block' : 'none';\n",
              "    })();\n",
              "  </script>\n",
              "</div>\n",
              "\n",
              "    </div>\n",
              "  </div>\n"
            ],
            "text/plain": [
              "      AT      V       AP     RH      PE\n",
              "0  14.96  41.76  1024.07  73.17  463.26\n",
              "1  25.18  62.96  1020.04  59.08  444.37\n",
              "2   5.11  39.40  1012.16  92.14  488.56\n",
              "3  20.86  57.32  1010.24  76.64  446.48\n",
              "4  10.82  37.50  1009.23  96.62  473.90"
            ]
          },
          "execution_count": 2,
          "metadata": {},
          "output_type": "execute_result"
        }
      ],
      "source": [
        "Powerplant_data = pd.read_excel('/content/Folds5x2_pp.xlsx')\n",
        "Powerplant_data.head(5)"
      ]
    },
    {
      "cell_type": "markdown",
      "metadata": {
        "id": "TgacS0JggQgr"
      },
      "source": [
        "#**Accessing the Column Names in the Dataset**"
      ]
    },
    {
      "cell_type": "code",
      "execution_count": null,
      "metadata": {
        "colab": {
          "base_uri": "https://localhost:8080/"
        },
        "id": "hqRcQ0jffWS6",
        "outputId": "41694632-0d9e-4edc-cb55-cb907161bafd"
      },
      "outputs": [
        {
          "data": {
            "text/plain": [
              "Index(['AT', 'V', 'AP', 'RH', 'PE'], dtype='object')"
            ]
          },
          "execution_count": 3,
          "metadata": {},
          "output_type": "execute_result"
        }
      ],
      "source": [
        "Powerplant_data.columns"
      ]
    },
    {
      "cell_type": "markdown",
      "metadata": {
        "id": "WbWc384ZgkNk"
      },
      "source": [
        "#**Finding the Shape of the Dataset**"
      ]
    },
    {
      "cell_type": "code",
      "execution_count": null,
      "metadata": {
        "colab": {
          "base_uri": "https://localhost:8080/"
        },
        "id": "v3r-6BsCfO6O",
        "outputId": "b6817464-cb9a-4a2f-f486-77cbbde3754d"
      },
      "outputs": [
        {
          "data": {
            "text/plain": [
              "(9568, 5)"
            ]
          },
          "execution_count": 4,
          "metadata": {},
          "output_type": "execute_result"
        }
      ],
      "source": [
        "Powerplant_data.shape"
      ]
    },
    {
      "cell_type": "code",
      "execution_count": null,
      "metadata": {
        "colab": {
          "base_uri": "https://localhost:8080/"
        },
        "id": "DR5iJOoggqVl",
        "outputId": "62d7ee97-e605-416a-871d-574c6c289327"
      },
      "outputs": [
        {
          "name": "stdout",
          "output_type": "stream",
          "text": [
            "<class 'pandas.core.frame.DataFrame'>\n",
            "RangeIndex: 9568 entries, 0 to 9567\n",
            "Data columns (total 5 columns):\n",
            " #   Column  Non-Null Count  Dtype  \n",
            "---  ------  --------------  -----  \n",
            " 0   AT      9568 non-null   float64\n",
            " 1   V       9568 non-null   float64\n",
            " 2   AP      9568 non-null   float64\n",
            " 3   RH      9568 non-null   float64\n",
            " 4   PE      9568 non-null   float64\n",
            "dtypes: float64(5)\n",
            "memory usage: 373.9 KB\n"
          ]
        }
      ],
      "source": [
        "Powerplant_data.info()"
      ]
    },
    {
      "cell_type": "markdown",
      "metadata": {
        "id": "MOi7okQ_tQrB"
      },
      "source": [
        "#**Checking Missing Values**"
      ]
    },
    {
      "cell_type": "code",
      "execution_count": null,
      "metadata": {
        "colab": {
          "base_uri": "https://localhost:8080/"
        },
        "id": "3XbsLJg0tN-L",
        "outputId": "a9d7bf0e-ca0a-4b00-8f47-6e1b09d61c83"
      },
      "outputs": [
        {
          "data": {
            "text/plain": [
              "AT    0\n",
              "V     0\n",
              "AP    0\n",
              "RH    0\n",
              "PE    0\n",
              "dtype: int64"
            ]
          },
          "execution_count": 6,
          "metadata": {},
          "output_type": "execute_result"
        }
      ],
      "source": [
        "Powerplant_data.isna().sum()"
      ]
    },
    {
      "cell_type": "markdown",
      "metadata": {
        "id": "gL5klaMFg4U0"
      },
      "source": [
        "# **Number of Unique Items in Each Column**"
      ]
    },
    {
      "cell_type": "code",
      "execution_count": null,
      "metadata": {
        "colab": {
          "base_uri": "https://localhost:8080/"
        },
        "id": "yNjlTn9yhJtA",
        "outputId": "80f10f73-c635-484f-fbf3-0f95f99c1b25"
      },
      "outputs": [
        {
          "data": {
            "text/plain": [
              "AT    2773\n",
              "V      634\n",
              "AP    2517\n",
              "RH    4546\n",
              "PE    4836\n",
              "dtype: int64"
            ]
          },
          "execution_count": 7,
          "metadata": {},
          "output_type": "execute_result"
        }
      ],
      "source": [
        "Powerplant_data.nunique()"
      ]
    },
    {
      "cell_type": "markdown",
      "metadata": {
        "id": "RBhC2pV6kG-m"
      },
      "source": [
        "#**Seperating Label from Data**"
      ]
    },
    {
      "cell_type": "code",
      "execution_count": null,
      "metadata": {
        "id": "CU-h5H-vilid"
      },
      "outputs": [],
      "source": [
        "X = Powerplant_data.iloc[:, :-1].values\n",
        "y = Powerplant_data.iloc[:, -1].values"
      ]
    },
    {
      "cell_type": "markdown",
      "metadata": {
        "id": "yH-AFtD6VZUG"
      },
      "source": [
        "or"
      ]
    },
    {
      "cell_type": "code",
      "execution_count": null,
      "metadata": {
        "id": "0SEu3sjWVaMl"
      },
      "outputs": [],
      "source": [
        "# y = Powerplant_data['PE']\n",
        "# X = Powerplant_data.drop(['PE'],axis=1)"
      ]
    },
    {
      "cell_type": "markdown",
      "metadata": {
        "id": "OB8cY_fNk2KG"
      },
      "source": [
        "#**Splitting the Data into Training and Testing**"
      ]
    },
    {
      "cell_type": "code",
      "execution_count": null,
      "metadata": {
        "id": "ONhh9fw5kunZ"
      },
      "outputs": [],
      "source": [
        "from sklearn.model_selection import train_test_split\n",
        "X_train, X_test, y_train, y_test = train_test_split(X, y, test_size = 0.2, shuffle=True)\n",
        "X_train, X_val, y_train, y_val = train_test_split(X_train,y_train, test_size = 0.2, shuffle=True)"
      ]
    },
    {
      "cell_type": "code",
      "execution_count": null,
      "metadata": {
        "colab": {
          "base_uri": "https://localhost:8080/"
        },
        "id": "n7QUNsrflJyd",
        "outputId": "b9c60468-59aa-4611-824b-90782a4852d2"
      },
      "outputs": [
        {
          "name": "stdout",
          "output_type": "stream",
          "text": [
            "Shape of the X_train (6123, 4)\n",
            "Shape of the X_test (1914, 4)\n",
            "Shape of the X_val (1531, 4)\n",
            "Shape of the y_train (6123,)\n",
            "Shape of the y_test (1914,)\n",
            "Shape of the y_val (1531,)\n"
          ]
        }
      ],
      "source": [
        "print(\"Shape of the X_train\", X_train.shape)\n",
        "print(\"Shape of the X_test\", X_test.shape)\n",
        "print(\"Shape of the X_val\", X_val.shape)\n",
        "print(\"Shape of the y_train\", y_train.shape)\n",
        "print(\"Shape of the y_test\", y_test.shape)\n",
        "print(\"Shape of the y_val\", y_val.shape)"
      ]
    },
    {
      "cell_type": "markdown",
      "metadata": {
        "id": "N-18bjO3rOHB"
      },
      "source": [
        "#**Building the ANN Model**"
      ]
    },
    {
      "cell_type": "code",
      "execution_count": null,
      "metadata": {
        "id": "lYWxtWt4lwsa"
      },
      "outputs": [],
      "source": [
        "# sequential model to initialise our ann and dense module to build the layers\n",
        "from keras.models import Sequential\n",
        "from keras.layers import Dense"
      ]
    },
    {
      "cell_type": "code",
      "execution_count": null,
      "metadata": {
        "id": "5SHVdj9Xl6se"
      },
      "outputs": [],
      "source": [
        "classifier = Sequential()\n",
        "# Adding the input layer and the first hidden layer\n",
        "classifier.add(Dense(units = 8, kernel_initializer = 'uniform', activation = 'relu', input_dim = 4))\n",
        "\n",
        "# Adding the second hidden layer\n",
        "classifier.add(Dense(units = 16, kernel_initializer = 'uniform', activation = 'relu'))\n",
        "\n",
        "# Adding the third hidden layer\n",
        "classifier.add(Dense(units = 32, kernel_initializer = 'uniform', activation = 'relu'))\n",
        "\n",
        "# Adding the output layer\n",
        "classifier.add(Dense(units = 1, kernel_initializer = 'uniform'))"
      ]
    },
    {
      "cell_type": "markdown",
      "metadata": {
        "id": "MDjrKcLnrSw0"
      },
      "source": [
        "# **Compiling and Fitting the Model**"
      ]
    },
    {
      "cell_type": "code",
      "execution_count": null,
      "metadata": {
        "colab": {
          "base_uri": "https://localhost:8080/"
        },
        "id": "RRtVuxFumFcS",
        "outputId": "d9605677-4412-4827-d1c9-772b29404736"
      },
      "outputs": [
        {
          "name": "stdout",
          "output_type": "stream",
          "text": [
            "Epoch 1/200\n",
            "192/192 [==============================] - 1s 3ms/step - loss: 27.4878 - mean_squared_logarithmic_error: 1.3154e-04 - val_loss: 24.9590 - val_mean_squared_logarithmic_error: 1.1958e-04\n",
            "Epoch 2/200\n",
            "192/192 [==============================] - 0s 2ms/step - loss: 28.0632 - mean_squared_logarithmic_error: 1.3424e-04 - val_loss: 32.0421 - val_mean_squared_logarithmic_error: 1.5361e-04\n",
            "Epoch 3/200\n",
            "192/192 [==============================] - 0s 2ms/step - loss: 27.6081 - mean_squared_logarithmic_error: 1.3208e-04 - val_loss: 26.8964 - val_mean_squared_logarithmic_error: 1.2891e-04\n",
            "Epoch 4/200\n",
            "192/192 [==============================] - 0s 2ms/step - loss: 27.7473 - mean_squared_logarithmic_error: 1.3284e-04 - val_loss: 25.3694 - val_mean_squared_logarithmic_error: 1.2157e-04\n",
            "Epoch 5/200\n",
            "192/192 [==============================] - 0s 2ms/step - loss: 28.1495 - mean_squared_logarithmic_error: 1.3468e-04 - val_loss: 24.7678 - val_mean_squared_logarithmic_error: 1.1869e-04\n",
            "Epoch 6/200\n",
            "192/192 [==============================] - 0s 2ms/step - loss: 27.0970 - mean_squared_logarithmic_error: 1.2964e-04 - val_loss: 24.9997 - val_mean_squared_logarithmic_error: 1.1973e-04\n",
            "Epoch 7/200\n",
            "192/192 [==============================] - 0s 2ms/step - loss: 27.6966 - mean_squared_logarithmic_error: 1.3242e-04 - val_loss: 26.4337 - val_mean_squared_logarithmic_error: 1.2670e-04\n",
            "Epoch 8/200\n",
            "192/192 [==============================] - 0s 2ms/step - loss: 28.1358 - mean_squared_logarithmic_error: 1.3468e-04 - val_loss: 27.9858 - val_mean_squared_logarithmic_error: 1.3427e-04\n",
            "Epoch 9/200\n",
            "192/192 [==============================] - 1s 4ms/step - loss: 28.0475 - mean_squared_logarithmic_error: 1.3419e-04 - val_loss: 38.7783 - val_mean_squared_logarithmic_error: 1.8572e-04\n",
            "Epoch 10/200\n",
            "192/192 [==============================] - 1s 4ms/step - loss: 27.1526 - mean_squared_logarithmic_error: 1.2999e-04 - val_loss: 30.1539 - val_mean_squared_logarithmic_error: 1.4479e-04\n",
            "Epoch 11/200\n",
            "192/192 [==============================] - 0s 2ms/step - loss: 28.8729 - mean_squared_logarithmic_error: 1.3822e-04 - val_loss: 28.3036 - val_mean_squared_logarithmic_error: 1.3569e-04\n",
            "Epoch 12/200\n",
            "192/192 [==============================] - 1s 4ms/step - loss: 27.3976 - mean_squared_logarithmic_error: 1.3112e-04 - val_loss: 29.2757 - val_mean_squared_logarithmic_error: 1.4052e-04\n",
            "Epoch 13/200\n",
            "192/192 [==============================] - 0s 2ms/step - loss: 27.7368 - mean_squared_logarithmic_error: 1.3275e-04 - val_loss: 25.1266 - val_mean_squared_logarithmic_error: 1.2039e-04\n",
            "Epoch 14/200\n",
            "192/192 [==============================] - 0s 2ms/step - loss: 28.6864 - mean_squared_logarithmic_error: 1.3722e-04 - val_loss: 27.4624 - val_mean_squared_logarithmic_error: 1.3164e-04\n",
            "Epoch 15/200\n",
            "192/192 [==============================] - 0s 2ms/step - loss: 27.6461 - mean_squared_logarithmic_error: 1.3230e-04 - val_loss: 25.0028 - val_mean_squared_logarithmic_error: 1.1983e-04\n",
            "Epoch 16/200\n",
            "192/192 [==============================] - 0s 2ms/step - loss: 27.4760 - mean_squared_logarithmic_error: 1.3141e-04 - val_loss: 25.1750 - val_mean_squared_logarithmic_error: 1.2070e-04\n",
            "Epoch 17/200\n",
            "192/192 [==============================] - 0s 2ms/step - loss: 29.8504 - mean_squared_logarithmic_error: 1.4302e-04 - val_loss: 25.0082 - val_mean_squared_logarithmic_error: 1.1985e-04\n",
            "Epoch 18/200\n",
            "192/192 [==============================] - 0s 2ms/step - loss: 28.1622 - mean_squared_logarithmic_error: 1.3471e-04 - val_loss: 24.9984 - val_mean_squared_logarithmic_error: 1.1979e-04\n",
            "Epoch 19/200\n",
            "192/192 [==============================] - 0s 2ms/step - loss: 28.1974 - mean_squared_logarithmic_error: 1.3482e-04 - val_loss: 25.7687 - val_mean_squared_logarithmic_error: 1.2354e-04\n",
            "Epoch 20/200\n",
            "192/192 [==============================] - 1s 3ms/step - loss: 27.0191 - mean_squared_logarithmic_error: 1.2933e-04 - val_loss: 24.7705 - val_mean_squared_logarithmic_error: 1.1866e-04\n",
            "Epoch 21/200\n",
            "192/192 [==============================] - 1s 3ms/step - loss: 28.3063 - mean_squared_logarithmic_error: 1.3536e-04 - val_loss: 28.9499 - val_mean_squared_logarithmic_error: 1.3902e-04\n",
            "Epoch 22/200\n",
            "192/192 [==============================] - 1s 3ms/step - loss: 27.5821 - mean_squared_logarithmic_error: 1.3220e-04 - val_loss: 31.9969 - val_mean_squared_logarithmic_error: 1.5335e-04\n",
            "Epoch 23/200\n",
            "192/192 [==============================] - 1s 3ms/step - loss: 27.5564 - mean_squared_logarithmic_error: 1.3188e-04 - val_loss: 25.7937 - val_mean_squared_logarithmic_error: 1.2362e-04\n",
            "Epoch 24/200\n",
            "192/192 [==============================] - 0s 2ms/step - loss: 28.0476 - mean_squared_logarithmic_error: 1.3426e-04 - val_loss: 24.7429 - val_mean_squared_logarithmic_error: 1.1856e-04\n",
            "Epoch 25/200\n",
            "192/192 [==============================] - 0s 2ms/step - loss: 27.1040 - mean_squared_logarithmic_error: 1.2973e-04 - val_loss: 26.8850 - val_mean_squared_logarithmic_error: 1.2892e-04\n",
            "Epoch 26/200\n",
            "192/192 [==============================] - 0s 2ms/step - loss: 26.8527 - mean_squared_logarithmic_error: 1.2837e-04 - val_loss: 25.1057 - val_mean_squared_logarithmic_error: 1.2027e-04\n",
            "Epoch 27/200\n",
            "192/192 [==============================] - 0s 2ms/step - loss: 27.5573 - mean_squared_logarithmic_error: 1.3180e-04 - val_loss: 25.2963 - val_mean_squared_logarithmic_error: 1.2121e-04\n",
            "Epoch 28/200\n",
            "192/192 [==============================] - 0s 2ms/step - loss: 27.2430 - mean_squared_logarithmic_error: 1.3034e-04 - val_loss: 44.4235 - val_mean_squared_logarithmic_error: 2.1257e-04\n",
            "Epoch 29/200\n",
            "192/192 [==============================] - 0s 2ms/step - loss: 29.0554 - mean_squared_logarithmic_error: 1.3927e-04 - val_loss: 33.8350 - val_mean_squared_logarithmic_error: 1.6219e-04\n",
            "Epoch 30/200\n",
            "192/192 [==============================] - 0s 2ms/step - loss: 27.3512 - mean_squared_logarithmic_error: 1.3083e-04 - val_loss: 32.3597 - val_mean_squared_logarithmic_error: 1.5543e-04\n",
            "Epoch 31/200\n",
            "192/192 [==============================] - 0s 2ms/step - loss: 27.3956 - mean_squared_logarithmic_error: 1.3104e-04 - val_loss: 24.7811 - val_mean_squared_logarithmic_error: 1.1871e-04\n",
            "Epoch 32/200\n",
            "192/192 [==============================] - 0s 2ms/step - loss: 28.3292 - mean_squared_logarithmic_error: 1.3557e-04 - val_loss: 31.4045 - val_mean_squared_logarithmic_error: 1.5054e-04\n",
            "Epoch 33/200\n",
            "192/192 [==============================] - 0s 2ms/step - loss: 27.6750 - mean_squared_logarithmic_error: 1.3244e-04 - val_loss: 26.7155 - val_mean_squared_logarithmic_error: 1.2805e-04\n",
            "Epoch 34/200\n",
            "192/192 [==============================] - 0s 2ms/step - loss: 28.2982 - mean_squared_logarithmic_error: 1.3554e-04 - val_loss: 28.7634 - val_mean_squared_logarithmic_error: 1.3795e-04\n",
            "Epoch 35/200\n",
            "192/192 [==============================] - 0s 2ms/step - loss: 27.9346 - mean_squared_logarithmic_error: 1.3366e-04 - val_loss: 24.9617 - val_mean_squared_logarithmic_error: 1.1958e-04\n",
            "Epoch 36/200\n",
            "192/192 [==============================] - 1s 3ms/step - loss: 27.9723 - mean_squared_logarithmic_error: 1.3382e-04 - val_loss: 30.1301 - val_mean_squared_logarithmic_error: 1.4439e-04\n",
            "Epoch 37/200\n",
            "192/192 [==============================] - 0s 2ms/step - loss: 26.7094 - mean_squared_logarithmic_error: 1.2775e-04 - val_loss: 25.5605 - val_mean_squared_logarithmic_error: 1.2250e-04\n",
            "Epoch 38/200\n",
            "192/192 [==============================] - 0s 2ms/step - loss: 28.5078 - mean_squared_logarithmic_error: 1.3645e-04 - val_loss: 52.8897 - val_mean_squared_logarithmic_error: 2.5574e-04\n",
            "Epoch 39/200\n",
            "192/192 [==============================] - 0s 2ms/step - loss: 28.3984 - mean_squared_logarithmic_error: 1.3588e-04 - val_loss: 29.8151 - val_mean_squared_logarithmic_error: 1.4293e-04\n",
            "Epoch 40/200\n",
            "192/192 [==============================] - 0s 3ms/step - loss: 27.9014 - mean_squared_logarithmic_error: 1.3365e-04 - val_loss: 24.7492 - val_mean_squared_logarithmic_error: 1.1854e-04\n",
            "Epoch 41/200\n",
            "192/192 [==============================] - 0s 2ms/step - loss: 28.4812 - mean_squared_logarithmic_error: 1.3618e-04 - val_loss: 25.2112 - val_mean_squared_logarithmic_error: 1.2079e-04\n",
            "Epoch 42/200\n",
            "192/192 [==============================] - 0s 2ms/step - loss: 27.2902 - mean_squared_logarithmic_error: 1.3056e-04 - val_loss: 25.7613 - val_mean_squared_logarithmic_error: 1.2332e-04\n",
            "Epoch 43/200\n",
            "192/192 [==============================] - 0s 2ms/step - loss: 29.0994 - mean_squared_logarithmic_error: 1.3927e-04 - val_loss: 25.3797 - val_mean_squared_logarithmic_error: 1.2161e-04\n",
            "Epoch 44/200\n",
            "192/192 [==============================] - 0s 2ms/step - loss: 26.6123 - mean_squared_logarithmic_error: 1.2728e-04 - val_loss: 34.1077 - val_mean_squared_logarithmic_error: 1.6404e-04\n",
            "Epoch 45/200\n",
            "192/192 [==============================] - 0s 2ms/step - loss: 28.3406 - mean_squared_logarithmic_error: 1.3571e-04 - val_loss: 25.1539 - val_mean_squared_logarithmic_error: 1.2051e-04\n",
            "Epoch 46/200\n",
            "192/192 [==============================] - 0s 2ms/step - loss: 27.2285 - mean_squared_logarithmic_error: 1.3019e-04 - val_loss: 29.9743 - val_mean_squared_logarithmic_error: 1.4368e-04\n",
            "Epoch 47/200\n",
            "192/192 [==============================] - 1s 3ms/step - loss: 29.8276 - mean_squared_logarithmic_error: 1.4275e-04 - val_loss: 24.8109 - val_mean_squared_logarithmic_error: 1.1880e-04\n",
            "Epoch 48/200\n",
            "192/192 [==============================] - 1s 3ms/step - loss: 28.4092 - mean_squared_logarithmic_error: 1.3596e-04 - val_loss: 38.2977 - val_mean_squared_logarithmic_error: 1.8348e-04\n",
            "Epoch 49/200\n",
            "192/192 [==============================] - 1s 3ms/step - loss: 26.7976 - mean_squared_logarithmic_error: 1.2827e-04 - val_loss: 28.1187 - val_mean_squared_logarithmic_error: 1.3480e-04\n",
            "Epoch 50/200\n",
            "192/192 [==============================] - 1s 3ms/step - loss: 27.0592 - mean_squared_logarithmic_error: 1.2944e-04 - val_loss: 24.7605 - val_mean_squared_logarithmic_error: 1.1862e-04\n",
            "Epoch 51/200\n",
            "192/192 [==============================] - 0s 2ms/step - loss: 27.1023 - mean_squared_logarithmic_error: 1.2964e-04 - val_loss: 24.7362 - val_mean_squared_logarithmic_error: 1.1852e-04\n",
            "Epoch 52/200\n",
            "192/192 [==============================] - 0s 2ms/step - loss: 27.9747 - mean_squared_logarithmic_error: 1.3390e-04 - val_loss: 24.7735 - val_mean_squared_logarithmic_error: 1.1872e-04\n",
            "Epoch 53/200\n",
            "192/192 [==============================] - 0s 2ms/step - loss: 26.9095 - mean_squared_logarithmic_error: 1.2877e-04 - val_loss: 25.7211 - val_mean_squared_logarithmic_error: 1.2327e-04\n",
            "Epoch 54/200\n",
            "192/192 [==============================] - 0s 2ms/step - loss: 28.1023 - mean_squared_logarithmic_error: 1.3435e-04 - val_loss: 27.4868 - val_mean_squared_logarithmic_error: 1.3173e-04\n",
            "Epoch 55/200\n",
            "192/192 [==============================] - 0s 2ms/step - loss: 27.8430 - mean_squared_logarithmic_error: 1.3325e-04 - val_loss: 33.3080 - val_mean_squared_logarithmic_error: 1.5958e-04\n",
            "Epoch 56/200\n",
            "192/192 [==============================] - 0s 2ms/step - loss: 29.1291 - mean_squared_logarithmic_error: 1.3947e-04 - val_loss: 26.2971 - val_mean_squared_logarithmic_error: 1.2603e-04\n",
            "Epoch 57/200\n",
            "192/192 [==============================] - 0s 2ms/step - loss: 30.1814 - mean_squared_logarithmic_error: 1.4443e-04 - val_loss: 25.8779 - val_mean_squared_logarithmic_error: 1.2403e-04\n",
            "Epoch 58/200\n",
            "192/192 [==============================] - 0s 2ms/step - loss: 28.4425 - mean_squared_logarithmic_error: 1.3612e-04 - val_loss: 32.2920 - val_mean_squared_logarithmic_error: 1.5522e-04\n",
            "Epoch 59/200\n",
            "192/192 [==============================] - 0s 2ms/step - loss: 28.8252 - mean_squared_logarithmic_error: 1.3786e-04 - val_loss: 24.8338 - val_mean_squared_logarithmic_error: 1.1899e-04\n",
            "Epoch 60/200\n",
            "192/192 [==============================] - 0s 2ms/step - loss: 28.1736 - mean_squared_logarithmic_error: 1.3476e-04 - val_loss: 32.0605 - val_mean_squared_logarithmic_error: 1.5393e-04\n",
            "Epoch 61/200\n",
            "192/192 [==============================] - 0s 2ms/step - loss: 27.7855 - mean_squared_logarithmic_error: 1.3304e-04 - val_loss: 25.6828 - val_mean_squared_logarithmic_error: 1.2308e-04\n",
            "Epoch 62/200\n",
            "192/192 [==============================] - 0s 2ms/step - loss: 28.2053 - mean_squared_logarithmic_error: 1.3502e-04 - val_loss: 24.7325 - val_mean_squared_logarithmic_error: 1.1851e-04\n",
            "Epoch 63/200\n",
            "192/192 [==============================] - 0s 2ms/step - loss: 26.4401 - mean_squared_logarithmic_error: 1.2651e-04 - val_loss: 25.4293 - val_mean_squared_logarithmic_error: 1.2187e-04\n",
            "Epoch 64/200\n",
            "192/192 [==============================] - 0s 2ms/step - loss: 27.2983 - mean_squared_logarithmic_error: 1.3062e-04 - val_loss: 25.3830 - val_mean_squared_logarithmic_error: 1.2172e-04\n",
            "Epoch 65/200\n",
            "192/192 [==============================] - 0s 2ms/step - loss: 28.0334 - mean_squared_logarithmic_error: 1.3407e-04 - val_loss: 24.7986 - val_mean_squared_logarithmic_error: 1.1877e-04\n",
            "Epoch 66/200\n",
            "192/192 [==============================] - 0s 2ms/step - loss: 26.6508 - mean_squared_logarithmic_error: 1.2751e-04 - val_loss: 24.7658 - val_mean_squared_logarithmic_error: 1.1867e-04\n",
            "Epoch 67/200\n",
            "192/192 [==============================] - 0s 2ms/step - loss: 28.2012 - mean_squared_logarithmic_error: 1.3506e-04 - val_loss: 25.3556 - val_mean_squared_logarithmic_error: 1.2149e-04\n",
            "Epoch 68/200\n",
            "192/192 [==============================] - 0s 2ms/step - loss: 27.3981 - mean_squared_logarithmic_error: 1.3110e-04 - val_loss: 25.1444 - val_mean_squared_logarithmic_error: 1.2050e-04\n",
            "Epoch 69/200\n",
            "192/192 [==============================] - 0s 2ms/step - loss: 27.4370 - mean_squared_logarithmic_error: 1.3134e-04 - val_loss: 31.4937 - val_mean_squared_logarithmic_error: 1.5094e-04\n",
            "Epoch 70/200\n",
            "192/192 [==============================] - 0s 2ms/step - loss: 28.1275 - mean_squared_logarithmic_error: 1.3462e-04 - val_loss: 27.3616 - val_mean_squared_logarithmic_error: 1.3123e-04\n",
            "Epoch 71/200\n",
            "192/192 [==============================] - 0s 2ms/step - loss: 27.4809 - mean_squared_logarithmic_error: 1.3143e-04 - val_loss: 28.4827 - val_mean_squared_logarithmic_error: 1.3656e-04\n",
            "Epoch 72/200\n",
            "192/192 [==============================] - 0s 2ms/step - loss: 27.7416 - mean_squared_logarithmic_error: 1.3275e-04 - val_loss: 26.4406 - val_mean_squared_logarithmic_error: 1.2677e-04\n",
            "Epoch 73/200\n",
            "192/192 [==============================] - 0s 2ms/step - loss: 27.2707 - mean_squared_logarithmic_error: 1.3052e-04 - val_loss: 32.9588 - val_mean_squared_logarithmic_error: 1.5831e-04\n",
            "Epoch 74/200\n",
            "192/192 [==============================] - 0s 3ms/step - loss: 27.3693 - mean_squared_logarithmic_error: 1.3101e-04 - val_loss: 36.4705 - val_mean_squared_logarithmic_error: 1.7472e-04\n",
            "Epoch 75/200\n",
            "192/192 [==============================] - 1s 3ms/step - loss: 28.2630 - mean_squared_logarithmic_error: 1.3528e-04 - val_loss: 25.2643 - val_mean_squared_logarithmic_error: 1.2101e-04\n",
            "Epoch 76/200\n",
            "192/192 [==============================] - 1s 3ms/step - loss: 27.7086 - mean_squared_logarithmic_error: 1.3258e-04 - val_loss: 24.7280 - val_mean_squared_logarithmic_error: 1.1849e-04\n",
            "Epoch 77/200\n",
            "192/192 [==============================] - 1s 4ms/step - loss: 28.6418 - mean_squared_logarithmic_error: 1.3700e-04 - val_loss: 32.2340 - val_mean_squared_logarithmic_error: 1.5460e-04\n",
            "Epoch 78/200\n",
            "192/192 [==============================] - 1s 3ms/step - loss: 27.1234 - mean_squared_logarithmic_error: 1.2977e-04 - val_loss: 24.8312 - val_mean_squared_logarithmic_error: 1.1898e-04\n",
            "Epoch 79/200\n",
            "192/192 [==============================] - 0s 2ms/step - loss: 27.7381 - mean_squared_logarithmic_error: 1.3273e-04 - val_loss: 25.1331 - val_mean_squared_logarithmic_error: 1.2046e-04\n",
            "Epoch 80/200\n",
            "192/192 [==============================] - 0s 2ms/step - loss: 27.6512 - mean_squared_logarithmic_error: 1.3248e-04 - val_loss: 25.7329 - val_mean_squared_logarithmic_error: 1.2333e-04\n",
            "Epoch 81/200\n",
            "192/192 [==============================] - 0s 2ms/step - loss: 27.3706 - mean_squared_logarithmic_error: 1.3096e-04 - val_loss: 25.8784 - val_mean_squared_logarithmic_error: 1.2407e-04\n",
            "Epoch 82/200\n",
            "192/192 [==============================] - 0s 2ms/step - loss: 28.0214 - mean_squared_logarithmic_error: 1.3401e-04 - val_loss: 24.7282 - val_mean_squared_logarithmic_error: 1.1848e-04\n",
            "Epoch 83/200\n",
            "192/192 [==============================] - 0s 2ms/step - loss: 27.0436 - mean_squared_logarithmic_error: 1.2944e-04 - val_loss: 25.4143 - val_mean_squared_logarithmic_error: 1.2180e-04\n",
            "Epoch 84/200\n",
            "192/192 [==============================] - 0s 2ms/step - loss: 27.6548 - mean_squared_logarithmic_error: 1.3242e-04 - val_loss: 33.7535 - val_mean_squared_logarithmic_error: 1.6185e-04\n",
            "Epoch 85/200\n",
            "192/192 [==============================] - 0s 2ms/step - loss: 27.9313 - mean_squared_logarithmic_error: 1.3375e-04 - val_loss: 29.5811 - val_mean_squared_logarithmic_error: 1.4179e-04\n",
            "Epoch 86/200\n",
            "192/192 [==============================] - 0s 2ms/step - loss: 28.3089 - mean_squared_logarithmic_error: 1.3556e-04 - val_loss: 25.0075 - val_mean_squared_logarithmic_error: 1.1983e-04\n",
            "Epoch 87/200\n",
            "192/192 [==============================] - 0s 2ms/step - loss: 28.4281 - mean_squared_logarithmic_error: 1.3604e-04 - val_loss: 24.7491 - val_mean_squared_logarithmic_error: 1.1856e-04\n",
            "Epoch 88/200\n",
            "192/192 [==============================] - 0s 2ms/step - loss: 28.5331 - mean_squared_logarithmic_error: 1.3670e-04 - val_loss: 31.7978 - val_mean_squared_logarithmic_error: 1.5243e-04\n",
            "Epoch 89/200\n",
            "192/192 [==============================] - 0s 2ms/step - loss: 26.8005 - mean_squared_logarithmic_error: 1.2818e-04 - val_loss: 26.5031 - val_mean_squared_logarithmic_error: 1.2694e-04\n",
            "Epoch 90/200\n",
            "192/192 [==============================] - 0s 2ms/step - loss: 27.7256 - mean_squared_logarithmic_error: 1.3250e-04 - val_loss: 26.8008 - val_mean_squared_logarithmic_error: 1.2846e-04\n",
            "Epoch 91/200\n",
            "192/192 [==============================] - 0s 2ms/step - loss: 27.2849 - mean_squared_logarithmic_error: 1.3050e-04 - val_loss: 24.9260 - val_mean_squared_logarithmic_error: 1.1935e-04\n",
            "Epoch 92/200\n",
            "192/192 [==============================] - 0s 2ms/step - loss: 27.4131 - mean_squared_logarithmic_error: 1.3113e-04 - val_loss: 25.9176 - val_mean_squared_logarithmic_error: 1.2426e-04\n",
            "Epoch 93/200\n",
            "192/192 [==============================] - 0s 2ms/step - loss: 28.9111 - mean_squared_logarithmic_error: 1.3857e-04 - val_loss: 30.8882 - val_mean_squared_logarithmic_error: 1.4808e-04\n",
            "Epoch 94/200\n",
            "192/192 [==============================] - 0s 2ms/step - loss: 28.1409 - mean_squared_logarithmic_error: 1.3479e-04 - val_loss: 32.7332 - val_mean_squared_logarithmic_error: 1.5720e-04\n",
            "Epoch 95/200\n",
            "192/192 [==============================] - 0s 2ms/step - loss: 28.0513 - mean_squared_logarithmic_error: 1.3415e-04 - val_loss: 26.1632 - val_mean_squared_logarithmic_error: 1.2533e-04\n",
            "Epoch 96/200\n",
            "192/192 [==============================] - 0s 2ms/step - loss: 28.2122 - mean_squared_logarithmic_error: 1.3490e-04 - val_loss: 35.0187 - val_mean_squared_logarithmic_error: 1.6775e-04\n",
            "Epoch 97/200\n",
            "192/192 [==============================] - 0s 2ms/step - loss: 27.3951 - mean_squared_logarithmic_error: 1.3099e-04 - val_loss: 26.7334 - val_mean_squared_logarithmic_error: 1.2810e-04\n",
            "Epoch 98/200\n",
            "192/192 [==============================] - 0s 2ms/step - loss: 26.6816 - mean_squared_logarithmic_error: 1.2760e-04 - val_loss: 26.1306 - val_mean_squared_logarithmic_error: 1.2516e-04\n",
            "Epoch 99/200\n",
            "192/192 [==============================] - 0s 2ms/step - loss: 29.2042 - mean_squared_logarithmic_error: 1.3972e-04 - val_loss: 26.1913 - val_mean_squared_logarithmic_error: 1.2552e-04\n",
            "Epoch 100/200\n",
            "192/192 [==============================] - 1s 3ms/step - loss: 28.9016 - mean_squared_logarithmic_error: 1.3824e-04 - val_loss: 28.2367 - val_mean_squared_logarithmic_error: 1.3545e-04\n",
            "Epoch 101/200\n",
            "192/192 [==============================] - 0s 3ms/step - loss: 29.8729 - mean_squared_logarithmic_error: 1.4291e-04 - val_loss: 24.8966 - val_mean_squared_logarithmic_error: 1.1927e-04\n",
            "Epoch 102/200\n",
            "192/192 [==============================] - 1s 3ms/step - loss: 27.2543 - mean_squared_logarithmic_error: 1.3040e-04 - val_loss: 26.7742 - val_mean_squared_logarithmic_error: 1.2830e-04\n",
            "Epoch 103/200\n",
            "192/192 [==============================] - 1s 4ms/step - loss: 28.3147 - mean_squared_logarithmic_error: 1.3558e-04 - val_loss: 29.8015 - val_mean_squared_logarithmic_error: 1.4285e-04\n",
            "Epoch 104/200\n",
            "192/192 [==============================] - 1s 3ms/step - loss: 27.5907 - mean_squared_logarithmic_error: 1.3207e-04 - val_loss: 25.6858 - val_mean_squared_logarithmic_error: 1.2306e-04\n",
            "Epoch 105/200\n",
            "192/192 [==============================] - 1s 3ms/step - loss: 27.6734 - mean_squared_logarithmic_error: 1.3238e-04 - val_loss: 26.0718 - val_mean_squared_logarithmic_error: 1.2495e-04\n",
            "Epoch 106/200\n",
            "192/192 [==============================] - 0s 2ms/step - loss: 27.4207 - mean_squared_logarithmic_error: 1.3121e-04 - val_loss: 30.6845 - val_mean_squared_logarithmic_error: 1.4711e-04\n",
            "Epoch 107/200\n",
            "192/192 [==============================] - 0s 2ms/step - loss: 28.3574 - mean_squared_logarithmic_error: 1.3567e-04 - val_loss: 25.0706 - val_mean_squared_logarithmic_error: 1.2012e-04\n",
            "Epoch 108/200\n",
            "192/192 [==============================] - 0s 2ms/step - loss: 27.7111 - mean_squared_logarithmic_error: 1.3252e-04 - val_loss: 28.7104 - val_mean_squared_logarithmic_error: 1.3774e-04\n",
            "Epoch 109/200\n",
            "192/192 [==============================] - 0s 2ms/step - loss: 28.1283 - mean_squared_logarithmic_error: 1.3459e-04 - val_loss: 24.9702 - val_mean_squared_logarithmic_error: 1.1963e-04\n",
            "Epoch 110/200\n",
            "192/192 [==============================] - 0s 2ms/step - loss: 27.4173 - mean_squared_logarithmic_error: 1.3120e-04 - val_loss: 32.5149 - val_mean_squared_logarithmic_error: 1.5622e-04\n",
            "Epoch 111/200\n",
            "192/192 [==============================] - 0s 2ms/step - loss: 27.8411 - mean_squared_logarithmic_error: 1.3329e-04 - val_loss: 24.8273 - val_mean_squared_logarithmic_error: 1.1897e-04\n",
            "Epoch 112/200\n",
            "192/192 [==============================] - 0s 2ms/step - loss: 27.1978 - mean_squared_logarithmic_error: 1.3006e-04 - val_loss: 24.8568 - val_mean_squared_logarithmic_error: 1.1910e-04\n",
            "Epoch 113/200\n",
            "192/192 [==============================] - 0s 2ms/step - loss: 27.5962 - mean_squared_logarithmic_error: 1.3210e-04 - val_loss: 26.8354 - val_mean_squared_logarithmic_error: 1.2861e-04\n",
            "Epoch 114/200\n",
            "192/192 [==============================] - 0s 2ms/step - loss: 29.3629 - mean_squared_logarithmic_error: 1.4053e-04 - val_loss: 28.4444 - val_mean_squared_logarithmic_error: 1.3645e-04\n",
            "Epoch 115/200\n",
            "192/192 [==============================] - 0s 2ms/step - loss: 27.2890 - mean_squared_logarithmic_error: 1.3042e-04 - val_loss: 27.6878 - val_mean_squared_logarithmic_error: 1.3273e-04\n",
            "Epoch 116/200\n",
            "192/192 [==============================] - 0s 2ms/step - loss: 27.9005 - mean_squared_logarithmic_error: 1.3349e-04 - val_loss: 24.7527 - val_mean_squared_logarithmic_error: 1.1858e-04\n",
            "Epoch 117/200\n",
            "192/192 [==============================] - 0s 2ms/step - loss: 29.0812 - mean_squared_logarithmic_error: 1.3919e-04 - val_loss: 25.8942 - val_mean_squared_logarithmic_error: 1.2413e-04\n",
            "Epoch 118/200\n",
            "192/192 [==============================] - 0s 2ms/step - loss: 27.4728 - mean_squared_logarithmic_error: 1.3151e-04 - val_loss: 27.7767 - val_mean_squared_logarithmic_error: 1.3320e-04\n",
            "Epoch 119/200\n",
            "192/192 [==============================] - 0s 2ms/step - loss: 27.7835 - mean_squared_logarithmic_error: 1.3294e-04 - val_loss: 25.0686 - val_mean_squared_logarithmic_error: 1.2011e-04\n",
            "Epoch 120/200\n",
            "192/192 [==============================] - 0s 2ms/step - loss: 27.9940 - mean_squared_logarithmic_error: 1.3393e-04 - val_loss: 26.7955 - val_mean_squared_logarithmic_error: 1.2844e-04\n",
            "Epoch 121/200\n",
            "192/192 [==============================] - 0s 2ms/step - loss: 27.8999 - mean_squared_logarithmic_error: 1.3349e-04 - val_loss: 25.4589 - val_mean_squared_logarithmic_error: 1.2203e-04\n",
            "Epoch 122/200\n",
            "192/192 [==============================] - 0s 2ms/step - loss: 27.0843 - mean_squared_logarithmic_error: 1.2972e-04 - val_loss: 24.8571 - val_mean_squared_logarithmic_error: 1.1906e-04\n",
            "Epoch 123/200\n",
            "192/192 [==============================] - 0s 2ms/step - loss: 27.4240 - mean_squared_logarithmic_error: 1.3128e-04 - val_loss: 25.2762 - val_mean_squared_logarithmic_error: 1.2111e-04\n",
            "Epoch 124/200\n",
            "192/192 [==============================] - 0s 2ms/step - loss: 27.9558 - mean_squared_logarithmic_error: 1.3372e-04 - val_loss: 47.7570 - val_mean_squared_logarithmic_error: 2.3067e-04\n",
            "Epoch 125/200\n",
            "192/192 [==============================] - 0s 2ms/step - loss: 27.1587 - mean_squared_logarithmic_error: 1.3003e-04 - val_loss: 24.8020 - val_mean_squared_logarithmic_error: 1.1878e-04\n",
            "Epoch 126/200\n",
            "192/192 [==============================] - 0s 2ms/step - loss: 28.0611 - mean_squared_logarithmic_error: 1.3418e-04 - val_loss: 32.2642 - val_mean_squared_logarithmic_error: 1.5483e-04\n",
            "Epoch 127/200\n",
            "192/192 [==============================] - 0s 2ms/step - loss: 31.2518 - mean_squared_logarithmic_error: 1.4959e-04 - val_loss: 27.6879 - val_mean_squared_logarithmic_error: 1.3271e-04\n",
            "Epoch 128/200\n",
            "192/192 [==============================] - 0s 3ms/step - loss: 27.3206 - mean_squared_logarithmic_error: 1.3073e-04 - val_loss: 26.6561 - val_mean_squared_logarithmic_error: 1.2776e-04\n",
            "Epoch 129/200\n",
            "192/192 [==============================] - 1s 4ms/step - loss: 27.7014 - mean_squared_logarithmic_error: 1.3256e-04 - val_loss: 31.4474 - val_mean_squared_logarithmic_error: 1.5109e-04\n",
            "Epoch 130/200\n",
            "192/192 [==============================] - 1s 3ms/step - loss: 27.3271 - mean_squared_logarithmic_error: 1.3064e-04 - val_loss: 24.8505 - val_mean_squared_logarithmic_error: 1.1906e-04\n",
            "Epoch 131/200\n",
            "192/192 [==============================] - 1s 4ms/step - loss: 28.2186 - mean_squared_logarithmic_error: 1.3495e-04 - val_loss: 25.8296 - val_mean_squared_logarithmic_error: 1.2376e-04\n",
            "Epoch 132/200\n",
            "192/192 [==============================] - 0s 2ms/step - loss: 28.5099 - mean_squared_logarithmic_error: 1.3647e-04 - val_loss: 54.5327 - val_mean_squared_logarithmic_error: 2.6387e-04\n",
            "Epoch 133/200\n",
            "192/192 [==============================] - 0s 2ms/step - loss: 28.4330 - mean_squared_logarithmic_error: 1.3613e-04 - val_loss: 24.7499 - val_mean_squared_logarithmic_error: 1.1859e-04\n",
            "Epoch 134/200\n",
            "192/192 [==============================] - 0s 2ms/step - loss: 28.0259 - mean_squared_logarithmic_error: 1.3409e-04 - val_loss: 27.3106 - val_mean_squared_logarithmic_error: 1.3099e-04\n",
            "Epoch 135/200\n",
            "192/192 [==============================] - 0s 2ms/step - loss: 27.7293 - mean_squared_logarithmic_error: 1.3265e-04 - val_loss: 25.4896 - val_mean_squared_logarithmic_error: 1.2215e-04\n",
            "Epoch 136/200\n",
            "192/192 [==============================] - 0s 2ms/step - loss: 27.8408 - mean_squared_logarithmic_error: 1.3311e-04 - val_loss: 27.6880 - val_mean_squared_logarithmic_error: 1.3282e-04\n",
            "Epoch 137/200\n",
            "192/192 [==============================] - 0s 2ms/step - loss: 26.7351 - mean_squared_logarithmic_error: 1.2795e-04 - val_loss: 25.0085 - val_mean_squared_logarithmic_error: 1.1983e-04\n",
            "Epoch 138/200\n",
            "192/192 [==============================] - 0s 2ms/step - loss: 28.8839 - mean_squared_logarithmic_error: 1.3819e-04 - val_loss: 25.1796 - val_mean_squared_logarithmic_error: 1.2073e-04\n",
            "Epoch 139/200\n",
            "192/192 [==============================] - 1s 3ms/step - loss: 27.4965 - mean_squared_logarithmic_error: 1.3154e-04 - val_loss: 24.9523 - val_mean_squared_logarithmic_error: 1.1955e-04\n",
            "Epoch 140/200\n",
            "192/192 [==============================] - 0s 2ms/step - loss: 27.4735 - mean_squared_logarithmic_error: 1.3144e-04 - val_loss: 24.8787 - val_mean_squared_logarithmic_error: 1.1918e-04\n",
            "Epoch 141/200\n",
            "192/192 [==============================] - 0s 2ms/step - loss: 30.0086 - mean_squared_logarithmic_error: 1.4346e-04 - val_loss: 26.5320 - val_mean_squared_logarithmic_error: 1.2716e-04\n",
            "Epoch 142/200\n",
            "192/192 [==============================] - 0s 2ms/step - loss: 27.6927 - mean_squared_logarithmic_error: 1.3247e-04 - val_loss: 25.4674 - val_mean_squared_logarithmic_error: 1.2204e-04\n",
            "Epoch 143/200\n",
            "192/192 [==============================] - 0s 2ms/step - loss: 27.1645 - mean_squared_logarithmic_error: 1.3000e-04 - val_loss: 25.2825 - val_mean_squared_logarithmic_error: 1.2105e-04\n",
            "Epoch 144/200\n",
            "192/192 [==============================] - 0s 2ms/step - loss: 27.5536 - mean_squared_logarithmic_error: 1.3192e-04 - val_loss: 25.3162 - val_mean_squared_logarithmic_error: 1.2129e-04\n",
            "Epoch 145/200\n",
            "192/192 [==============================] - 0s 2ms/step - loss: 28.0286 - mean_squared_logarithmic_error: 1.3409e-04 - val_loss: 26.8658 - val_mean_squared_logarithmic_error: 1.2877e-04\n",
            "Epoch 146/200\n",
            "192/192 [==============================] - 0s 2ms/step - loss: 28.0985 - mean_squared_logarithmic_error: 1.3440e-04 - val_loss: 29.0962 - val_mean_squared_logarithmic_error: 1.3970e-04\n",
            "Epoch 147/200\n",
            "192/192 [==============================] - 0s 2ms/step - loss: 27.2420 - mean_squared_logarithmic_error: 1.3026e-04 - val_loss: 24.9816 - val_mean_squared_logarithmic_error: 1.1970e-04\n",
            "Epoch 148/200\n",
            "192/192 [==============================] - 0s 2ms/step - loss: 27.6844 - mean_squared_logarithmic_error: 1.3239e-04 - val_loss: 24.7263 - val_mean_squared_logarithmic_error: 1.1849e-04\n",
            "Epoch 149/200\n",
            "192/192 [==============================] - 0s 2ms/step - loss: 27.6934 - mean_squared_logarithmic_error: 1.3251e-04 - val_loss: 25.1255 - val_mean_squared_logarithmic_error: 1.2033e-04\n",
            "Epoch 150/200\n",
            "192/192 [==============================] - 0s 2ms/step - loss: 28.1155 - mean_squared_logarithmic_error: 1.3459e-04 - val_loss: 26.1160 - val_mean_squared_logarithmic_error: 1.2517e-04\n",
            "Epoch 151/200\n",
            "192/192 [==============================] - 0s 2ms/step - loss: 27.4506 - mean_squared_logarithmic_error: 1.3121e-04 - val_loss: 27.7776 - val_mean_squared_logarithmic_error: 1.3334e-04\n",
            "Epoch 152/200\n",
            "192/192 [==============================] - 0s 2ms/step - loss: 28.1264 - mean_squared_logarithmic_error: 1.3447e-04 - val_loss: 40.4732 - val_mean_squared_logarithmic_error: 1.9390e-04\n",
            "Epoch 153/200\n",
            "192/192 [==============================] - 0s 2ms/step - loss: 28.7607 - mean_squared_logarithmic_error: 1.3770e-04 - val_loss: 24.8678 - val_mean_squared_logarithmic_error: 1.1916e-04\n",
            "Epoch 154/200\n",
            "192/192 [==============================] - 0s 2ms/step - loss: 27.2625 - mean_squared_logarithmic_error: 1.3043e-04 - val_loss: 24.7306 - val_mean_squared_logarithmic_error: 1.1848e-04\n",
            "Epoch 155/200\n",
            "192/192 [==============================] - 1s 4ms/step - loss: 27.6285 - mean_squared_logarithmic_error: 1.3217e-04 - val_loss: 24.7566 - val_mean_squared_logarithmic_error: 1.1863e-04\n",
            "Epoch 156/200\n",
            "192/192 [==============================] - 1s 4ms/step - loss: 27.2402 - mean_squared_logarithmic_error: 1.3046e-04 - val_loss: 24.9463 - val_mean_squared_logarithmic_error: 1.1951e-04\n",
            "Epoch 157/200\n",
            "192/192 [==============================] - 1s 3ms/step - loss: 27.4515 - mean_squared_logarithmic_error: 1.3131e-04 - val_loss: 24.8329 - val_mean_squared_logarithmic_error: 1.1896e-04\n",
            "Epoch 158/200\n",
            "192/192 [==============================] - 1s 3ms/step - loss: 26.8403 - mean_squared_logarithmic_error: 1.2847e-04 - val_loss: 24.8208 - val_mean_squared_logarithmic_error: 1.1893e-04\n",
            "Epoch 159/200\n",
            "192/192 [==============================] - 0s 2ms/step - loss: 27.3349 - mean_squared_logarithmic_error: 1.3090e-04 - val_loss: 29.7395 - val_mean_squared_logarithmic_error: 1.4272e-04\n",
            "Epoch 160/200\n",
            "192/192 [==============================] - 0s 2ms/step - loss: 27.8347 - mean_squared_logarithmic_error: 1.3330e-04 - val_loss: 25.7584 - val_mean_squared_logarithmic_error: 1.2352e-04\n",
            "Epoch 161/200\n",
            "192/192 [==============================] - 0s 2ms/step - loss: 27.7257 - mean_squared_logarithmic_error: 1.3273e-04 - val_loss: 24.9945 - val_mean_squared_logarithmic_error: 1.1967e-04\n",
            "Epoch 162/200\n",
            "192/192 [==============================] - 0s 2ms/step - loss: 27.3980 - mean_squared_logarithmic_error: 1.3111e-04 - val_loss: 45.4927 - val_mean_squared_logarithmic_error: 2.1769e-04\n",
            "Epoch 163/200\n",
            "192/192 [==============================] - 0s 2ms/step - loss: 28.6759 - mean_squared_logarithmic_error: 1.3722e-04 - val_loss: 24.7282 - val_mean_squared_logarithmic_error: 1.1849e-04\n",
            "Epoch 164/200\n",
            "192/192 [==============================] - 0s 2ms/step - loss: 27.3873 - mean_squared_logarithmic_error: 1.3103e-04 - val_loss: 27.5277 - val_mean_squared_logarithmic_error: 1.3193e-04\n",
            "Epoch 165/200\n",
            "192/192 [==============================] - 0s 2ms/step - loss: 27.7842 - mean_squared_logarithmic_error: 1.3304e-04 - val_loss: 24.9375 - val_mean_squared_logarithmic_error: 1.1946e-04\n",
            "Epoch 166/200\n",
            "192/192 [==============================] - 0s 2ms/step - loss: 26.9820 - mean_squared_logarithmic_error: 1.2897e-04 - val_loss: 25.9411 - val_mean_squared_logarithmic_error: 1.2433e-04\n",
            "Epoch 167/200\n",
            "192/192 [==============================] - 0s 2ms/step - loss: 27.9706 - mean_squared_logarithmic_error: 1.3377e-04 - val_loss: 24.7896 - val_mean_squared_logarithmic_error: 1.1875e-04\n",
            "Epoch 168/200\n",
            "192/192 [==============================] - 0s 2ms/step - loss: 28.4292 - mean_squared_logarithmic_error: 1.3602e-04 - val_loss: 29.9829 - val_mean_squared_logarithmic_error: 1.4374e-04\n",
            "Epoch 169/200\n",
            "192/192 [==============================] - 0s 2ms/step - loss: 27.2615 - mean_squared_logarithmic_error: 1.3034e-04 - val_loss: 27.3471 - val_mean_squared_logarithmic_error: 1.3104e-04\n",
            "Epoch 170/200\n",
            "192/192 [==============================] - 0s 2ms/step - loss: 27.1426 - mean_squared_logarithmic_error: 1.2983e-04 - val_loss: 24.8376 - val_mean_squared_logarithmic_error: 1.1894e-04\n",
            "Epoch 171/200\n",
            "192/192 [==============================] - 0s 2ms/step - loss: 28.7658 - mean_squared_logarithmic_error: 1.3765e-04 - val_loss: 24.7095 - val_mean_squared_logarithmic_error: 1.1840e-04\n",
            "Epoch 172/200\n",
            "192/192 [==============================] - 0s 2ms/step - loss: 27.6562 - mean_squared_logarithmic_error: 1.3233e-04 - val_loss: 26.2291 - val_mean_squared_logarithmic_error: 1.2572e-04\n",
            "Epoch 173/200\n",
            "192/192 [==============================] - 0s 2ms/step - loss: 27.7894 - mean_squared_logarithmic_error: 1.3296e-04 - val_loss: 24.9008 - val_mean_squared_logarithmic_error: 1.1930e-04\n",
            "Epoch 174/200\n",
            "192/192 [==============================] - 0s 2ms/step - loss: 27.5208 - mean_squared_logarithmic_error: 1.3168e-04 - val_loss: 28.0228 - val_mean_squared_logarithmic_error: 1.3436e-04\n",
            "Epoch 175/200\n",
            "192/192 [==============================] - 0s 2ms/step - loss: 27.6381 - mean_squared_logarithmic_error: 1.3226e-04 - val_loss: 26.2170 - val_mean_squared_logarithmic_error: 1.2565e-04\n",
            "Epoch 176/200\n",
            "192/192 [==============================] - 0s 2ms/step - loss: 28.6709 - mean_squared_logarithmic_error: 1.3716e-04 - val_loss: 31.2377 - val_mean_squared_logarithmic_error: 1.5003e-04\n",
            "Epoch 177/200\n",
            "192/192 [==============================] - 0s 2ms/step - loss: 27.8022 - mean_squared_logarithmic_error: 1.3295e-04 - val_loss: 26.1809 - val_mean_squared_logarithmic_error: 1.2551e-04\n",
            "Epoch 178/200\n",
            "192/192 [==============================] - 0s 2ms/step - loss: 27.3118 - mean_squared_logarithmic_error: 1.3058e-04 - val_loss: 24.8210 - val_mean_squared_logarithmic_error: 1.1898e-04\n",
            "Epoch 179/200\n",
            "192/192 [==============================] - 0s 2ms/step - loss: 28.1814 - mean_squared_logarithmic_error: 1.3493e-04 - val_loss: 26.5456 - val_mean_squared_logarithmic_error: 1.2725e-04\n",
            "Epoch 180/200\n",
            "192/192 [==============================] - 0s 2ms/step - loss: 28.0929 - mean_squared_logarithmic_error: 1.3431e-04 - val_loss: 24.7095 - val_mean_squared_logarithmic_error: 1.1841e-04\n",
            "Epoch 181/200\n",
            "192/192 [==============================] - 0s 2ms/step - loss: 27.3601 - mean_squared_logarithmic_error: 1.3102e-04 - val_loss: 26.4465 - val_mean_squared_logarithmic_error: 1.2680e-04\n",
            "Epoch 182/200\n",
            "192/192 [==============================] - 1s 3ms/step - loss: 27.3796 - mean_squared_logarithmic_error: 1.3111e-04 - val_loss: 28.2175 - val_mean_squared_logarithmic_error: 1.3529e-04\n",
            "Epoch 183/200\n",
            "192/192 [==============================] - 1s 3ms/step - loss: 27.6546 - mean_squared_logarithmic_error: 1.3247e-04 - val_loss: 39.9960 - val_mean_squared_logarithmic_error: 1.9262e-04\n",
            "Epoch 184/200\n",
            "192/192 [==============================] - 1s 4ms/step - loss: 29.3507 - mean_squared_logarithmic_error: 1.4041e-04 - val_loss: 36.4180 - val_mean_squared_logarithmic_error: 1.7450e-04\n",
            "Epoch 185/200\n",
            "192/192 [==============================] - 1s 3ms/step - loss: 27.9427 - mean_squared_logarithmic_error: 1.3366e-04 - val_loss: 25.8340 - val_mean_squared_logarithmic_error: 1.2380e-04\n",
            "Epoch 186/200\n",
            "192/192 [==============================] - 0s 2ms/step - loss: 27.7836 - mean_squared_logarithmic_error: 1.3282e-04 - val_loss: 29.0312 - val_mean_squared_logarithmic_error: 1.3926e-04\n",
            "Epoch 187/200\n",
            "192/192 [==============================] - 0s 2ms/step - loss: 29.0348 - mean_squared_logarithmic_error: 1.3901e-04 - val_loss: 24.7342 - val_mean_squared_logarithmic_error: 1.1847e-04\n",
            "Epoch 188/200\n",
            "192/192 [==============================] - 1s 3ms/step - loss: 27.4865 - mean_squared_logarithmic_error: 1.3145e-04 - val_loss: 30.3362 - val_mean_squared_logarithmic_error: 1.4545e-04\n",
            "Epoch 189/200\n",
            "192/192 [==============================] - 0s 2ms/step - loss: 27.5925 - mean_squared_logarithmic_error: 1.3200e-04 - val_loss: 29.2187 - val_mean_squared_logarithmic_error: 1.4009e-04\n",
            "Epoch 190/200\n",
            "192/192 [==============================] - 0s 2ms/step - loss: 27.7267 - mean_squared_logarithmic_error: 1.3270e-04 - val_loss: 24.7191 - val_mean_squared_logarithmic_error: 1.1840e-04\n",
            "Epoch 191/200\n",
            "192/192 [==============================] - 0s 2ms/step - loss: 27.6280 - mean_squared_logarithmic_error: 1.3211e-04 - val_loss: 25.6356 - val_mean_squared_logarithmic_error: 1.2289e-04\n",
            "Epoch 192/200\n",
            "192/192 [==============================] - 0s 2ms/step - loss: 28.0340 - mean_squared_logarithmic_error: 1.3407e-04 - val_loss: 24.9115 - val_mean_squared_logarithmic_error: 1.1935e-04\n",
            "Epoch 193/200\n",
            "192/192 [==============================] - 0s 2ms/step - loss: 28.8051 - mean_squared_logarithmic_error: 1.3779e-04 - val_loss: 24.9996 - val_mean_squared_logarithmic_error: 1.1970e-04\n",
            "Epoch 194/200\n",
            "192/192 [==============================] - 0s 2ms/step - loss: 27.4385 - mean_squared_logarithmic_error: 1.3116e-04 - val_loss: 26.2035 - val_mean_squared_logarithmic_error: 1.2560e-04\n",
            "Epoch 195/200\n",
            "192/192 [==============================] - 0s 2ms/step - loss: 27.3487 - mean_squared_logarithmic_error: 1.3096e-04 - val_loss: 25.6004 - val_mean_squared_logarithmic_error: 1.2270e-04\n",
            "Epoch 196/200\n",
            "192/192 [==============================] - 0s 2ms/step - loss: 27.3291 - mean_squared_logarithmic_error: 1.3077e-04 - val_loss: 24.9132 - val_mean_squared_logarithmic_error: 1.1935e-04\n",
            "Epoch 197/200\n",
            "192/192 [==============================] - 0s 2ms/step - loss: 27.1398 - mean_squared_logarithmic_error: 1.2975e-04 - val_loss: 24.7450 - val_mean_squared_logarithmic_error: 1.1849e-04\n",
            "Epoch 198/200\n",
            "192/192 [==============================] - 0s 2ms/step - loss: 27.7879 - mean_squared_logarithmic_error: 1.3291e-04 - val_loss: 33.0975 - val_mean_squared_logarithmic_error: 1.5909e-04\n",
            "Epoch 199/200\n",
            "192/192 [==============================] - 0s 2ms/step - loss: 27.1732 - mean_squared_logarithmic_error: 1.2997e-04 - val_loss: 25.1382 - val_mean_squared_logarithmic_error: 1.2050e-04\n",
            "Epoch 200/200\n",
            "192/192 [==============================] - 0s 2ms/step - loss: 28.1984 - mean_squared_logarithmic_error: 1.3483e-04 - val_loss: 25.4286 - val_mean_squared_logarithmic_error: 1.2187e-04\n"
          ]
        }
      ],
      "source": [
        "classifier.compile(optimizer = 'adam', loss = 'mean_squared_error', metrics = ['MeanSquaredLogarithmicError'])\n",
        "\n",
        "# Fitting the ANN to the Training set\n",
        "model = classifier.fit(X_train, y_train, batch_size = 32, epochs = 200,validation_data=(X_val, y_val),\n",
        "              shuffle=True)"
      ]
    },
    {
      "cell_type": "markdown",
      "metadata": {
        "id": "55PgRgP0rZ8A"
      },
      "source": [
        "#**Testing the Model**"
      ]
    },
    {
      "cell_type": "code",
      "execution_count": null,
      "metadata": {
        "colab": {
          "base_uri": "https://localhost:8080/"
        },
        "id": "VPqoEf0VmVx0",
        "outputId": "86cdae5a-4059-4bd1-cc8d-c93cc3cd072e"
      },
      "outputs": [
        {
          "name": "stdout",
          "output_type": "stream",
          "text": [
            "60/60 [==============================] - 0s 1ms/step\n",
            "[[469.98 475.36]\n",
            " [458.92 454.86]\n",
            " [438.71 435.36]\n",
            " ...\n",
            " [438.08 438.09]\n",
            " [451.59 447.96]\n",
            " [472.39 471.63]]\n"
          ]
        }
      ],
      "source": [
        "y_pred = classifier.predict(X_test)\n",
        "np.set_printoptions(precision=2)\n",
        "print(np.concatenate((y_pred.reshape(len(y_pred),1), y_test.reshape(len(y_test),1)),1))"
      ]
    },
    {
      "cell_type": "markdown",
      "metadata": {
        "id": "yPzDW1yuWGfP"
      },
      "source": [
        "#**Metric values**\n",
        "\n",
        "**MAE (Mean Absolute Error) :-**\n",
        "\n",
        "$$MAE = (\\frac{1}{n})\\sum_{i=1}^{n}\\left | y_{i} - \\hat y_{i} \\right |$$\n",
        "\n",
        "**MSE (Mean Square Error) :-**\n",
        "\n",
        "$$MSE = (\\frac{1}{n})\\sum_{i=1}^{n}\\left ( y_{i} - \\hat y_{i} \\right )^2$$\n",
        "\n",
        "where y = actual value in the data set ;  $\\hat y$ = value computed by solving the regression equation\n",
        "\n",
        "**RMSE (Root Mean Square Error) :-**\n",
        "\n",
        "$$RMSE = \\sqrt{(\\frac{1}{n})\\sum_{i=1}^{n}\\left ( y_{i} - \\hat y_{i} \\right )^2}$$\n"
      ]
    },
    {
      "cell_type": "code",
      "execution_count": null,
      "metadata": {
        "id": "csYqpviWXRY2"
      },
      "outputs": [],
      "source": [
        "import matplotlib.pyplot as plt\n",
        "%matplotlib inline"
      ]
    },
    {
      "cell_type": "code",
      "execution_count": null,
      "metadata": {
        "colab": {
          "base_uri": "https://localhost:8080/"
        },
        "id": "jVhrXBFOXRa-",
        "outputId": "c7d5ddff-9c12-4946-b898-59d1d612f321"
      },
      "outputs": [
        {
          "name": "stdout",
          "output_type": "stream",
          "text": [
            "60/60 [==============================] - 0s 1ms/step\n",
            "60/60 [==============================] - 0s 1ms/step\n",
            "60/60 [==============================] - 0s 2ms/step\n"
          ]
        }
      ],
      "source": [
        "import sklearn.metrics\n",
        "from math import sqrt\n",
        "mae_no = sklearn.metrics.mean_absolute_error(y_test,classifier.predict(X_test))\n",
        "mse_no = sklearn.metrics.mean_squared_error(y_test,classifier.predict(X_test))\n",
        "rms = sqrt(sklearn.metrics.mean_squared_error(y_test,classifier.predict(X_test)))"
      ]
    },
    {
      "cell_type": "code",
      "execution_count": null,
      "metadata": {
        "colab": {
          "base_uri": "https://localhost:8080/"
        },
        "id": "OjxSyJCdXRdF",
        "outputId": "a32a0480-c132-411b-856c-d3fe9d00717b"
      },
      "outputs": [
        {
          "name": "stdout",
          "output_type": "stream",
          "text": [
            "Mean Absolute Error     : 4.0557620548579125\n",
            "Mean Square Error       : 25.97531418610697\n",
            "Root Mean Square Error: 5.096598295540563\n"
          ]
        }
      ],
      "source": [
        "print('Mean Absolute Error     :',mae_no)\n",
        "print('Mean Square Error       :',mse_no)\n",
        "print('Root Mean Square Error:', rms)"
      ]
    },
    {
      "cell_type": "markdown",
      "metadata": {
        "id": "Jl7Etoncxcas"
      },
      "source": [
        "# **Self Work**"
      ]
    },
    {
      "cell_type": "code",
      "execution_count": null,
      "metadata": {
        "id": "ZGZUEXZsYEln"
      },
      "outputs": [],
      "source": [
        "#compiling model with changes"
      ]
    },
    {
      "cell_type": "code",
      "execution_count": null,
      "metadata": {
        "id": "niSJwSLrxmok"
      },
      "outputs": [],
      "source": [
        "classifier = Sequential()\n",
        "# Adding the input layer and the first hidden layer\n",
        "classifier.add(Dense(units = 8, kernel_initializer = 'uniform', activation = 'leaky_relu', input_dim = 4))\n",
        "\n",
        "# Adding the second hidden layer\n",
        "classifier.add(Dense(units = 64, kernel_initializer = 'uniform', activation = 'relu'))\n",
        "\n",
        "# Adding the third hidden layer\n",
        "classifier.add(Dense(units = 128, kernel_initializer = 'uniform', activation = 'sigmoid'))\n",
        "\n",
        "# Adding the forth hidden layer\n",
        "classifier.add(Dense(units = 32, kernel_initializer = 'uniform', activation = 'leaky_relu'))\n",
        "\n",
        "\n",
        "# Adding the output layer\n",
        "classifier.add(Dense(units = 1, kernel_initializer = 'uniform'))"
      ]
    },
    {
      "cell_type": "code",
      "execution_count": null,
      "metadata": {
        "colab": {
          "background_save": true,
          "base_uri": "https://localhost:8080/"
        },
        "id": "j5UZMgxaxnj2",
        "outputId": "a09047ff-cc93-4c35-9319-e20011c4610b"
      },
      "outputs": [
        {
          "name": "stdout",
          "output_type": "stream",
          "text": [
            "Epoch 1/30\n",
            "192/192 [==============================] - 2s 3ms/step - loss: 147729.8906 - mean_squared_logarithmic_error: 9.3734 - val_loss: 49516.7695 - val_mean_squared_logarithmic_error: 0.4465\n",
            "Epoch 2/30\n",
            "192/192 [==============================] - 1s 4ms/step - loss: 10852.0938 - mean_squared_logarithmic_error: 0.0799 - val_loss: 326.9146 - val_mean_squared_logarithmic_error: 0.0015\n",
            "Epoch 3/30\n",
            "192/192 [==============================] - 1s 6ms/step - loss: 293.2028 - mean_squared_logarithmic_error: 0.0014 - val_loss: 291.7021 - val_mean_squared_logarithmic_error: 0.0014\n",
            "Epoch 4/30\n",
            "192/192 [==============================] - 1s 7ms/step - loss: 290.4230 - mean_squared_logarithmic_error: 0.0014 - val_loss: 291.4344 - val_mean_squared_logarithmic_error: 0.0014\n",
            "Epoch 5/30\n",
            "192/192 [==============================] - 1s 3ms/step - loss: 290.2988 - mean_squared_logarithmic_error: 0.0014 - val_loss: 291.6107 - val_mean_squared_logarithmic_error: 0.0014\n",
            "Epoch 6/30\n",
            "192/192 [==============================] - 0s 2ms/step - loss: 290.5804 - mean_squared_logarithmic_error: 0.0014 - val_loss: 291.4342 - val_mean_squared_logarithmic_error: 0.0014\n",
            "Epoch 7/30\n",
            "192/192 [==============================] - 0s 2ms/step - loss: 290.5254 - mean_squared_logarithmic_error: 0.0014 - val_loss: 291.4300 - val_mean_squared_logarithmic_error: 0.0014\n",
            "Epoch 8/30\n",
            "192/192 [==============================] - 0s 3ms/step - loss: 290.4476 - mean_squared_logarithmic_error: 0.0014 - val_loss: 291.4705 - val_mean_squared_logarithmic_error: 0.0014\n",
            "Epoch 9/30\n",
            "192/192 [==============================] - 1s 3ms/step - loss: 290.4655 - mean_squared_logarithmic_error: 0.0014 - val_loss: 291.4247 - val_mean_squared_logarithmic_error: 0.0014\n",
            "Epoch 10/30\n",
            "192/192 [==============================] - 0s 2ms/step - loss: 290.7293 - mean_squared_logarithmic_error: 0.0014 - val_loss: 291.4273 - val_mean_squared_logarithmic_error: 0.0014\n",
            "Epoch 11/30\n",
            "192/192 [==============================] - 0s 2ms/step - loss: 290.7518 - mean_squared_logarithmic_error: 0.0014 - val_loss: 291.4932 - val_mean_squared_logarithmic_error: 0.0014\n",
            "Epoch 12/30\n",
            "192/192 [==============================] - 0s 3ms/step - loss: 290.5340 - mean_squared_logarithmic_error: 0.0014 - val_loss: 291.5976 - val_mean_squared_logarithmic_error: 0.0014\n",
            "Epoch 13/30\n",
            "192/192 [==============================] - 0s 2ms/step - loss: 290.8602 - mean_squared_logarithmic_error: 0.0014 - val_loss: 291.4384 - val_mean_squared_logarithmic_error: 0.0014\n",
            "Epoch 14/30\n",
            "192/192 [==============================] - 0s 2ms/step - loss: 290.6041 - mean_squared_logarithmic_error: 0.0014 - val_loss: 292.4789 - val_mean_squared_logarithmic_error: 0.0014\n",
            "Epoch 15/30\n",
            "192/192 [==============================] - 1s 4ms/step - loss: 290.9573 - mean_squared_logarithmic_error: 0.0014 - val_loss: 291.6161 - val_mean_squared_logarithmic_error: 0.0014\n",
            "Epoch 16/30\n",
            "192/192 [==============================] - 1s 5ms/step - loss: 290.7720 - mean_squared_logarithmic_error: 0.0014 - val_loss: 291.7062 - val_mean_squared_logarithmic_error: 0.0014\n",
            "Epoch 17/30\n",
            "192/192 [==============================] - 1s 4ms/step - loss: 290.8192 - mean_squared_logarithmic_error: 0.0014 - val_loss: 291.4245 - val_mean_squared_logarithmic_error: 0.0014\n",
            "Epoch 18/30\n",
            "192/192 [==============================] - 1s 3ms/step - loss: 290.9823 - mean_squared_logarithmic_error: 0.0014 - val_loss: 291.5514 - val_mean_squared_logarithmic_error: 0.0014\n",
            "Epoch 19/30\n",
            "192/192 [==============================] - 1s 3ms/step - loss: 290.8772 - mean_squared_logarithmic_error: 0.0014 - val_loss: 292.0053 - val_mean_squared_logarithmic_error: 0.0014\n",
            "Epoch 20/30\n",
            "192/192 [==============================] - 1s 3ms/step - loss: 291.1433 - mean_squared_logarithmic_error: 0.0014 - val_loss: 291.4418 - val_mean_squared_logarithmic_error: 0.0014\n",
            "Epoch 21/30\n",
            "192/192 [==============================] - 1s 3ms/step - loss: 291.4119 - mean_squared_logarithmic_error: 0.0014 - val_loss: 291.4896 - val_mean_squared_logarithmic_error: 0.0014\n",
            "Epoch 22/30\n",
            "192/192 [==============================] - 2s 12ms/step - loss: 291.2988 - mean_squared_logarithmic_error: 0.0014 - val_loss: 291.4593 - val_mean_squared_logarithmic_error: 0.0014\n",
            "Epoch 23/30\n",
            "192/192 [==============================] - 2s 9ms/step - loss: 291.1488 - mean_squared_logarithmic_error: 0.0014 - val_loss: 291.9831 - val_mean_squared_logarithmic_error: 0.0014\n",
            "Epoch 24/30\n",
            "192/192 [==============================] - 2s 9ms/step - loss: 292.2850 - mean_squared_logarithmic_error: 0.0014 - val_loss: 294.0061 - val_mean_squared_logarithmic_error: 0.0014\n",
            "Epoch 25/30\n",
            "192/192 [==============================] - 1s 6ms/step - loss: 291.8013 - mean_squared_logarithmic_error: 0.0014 - val_loss: 291.4647 - val_mean_squared_logarithmic_error: 0.0014\n",
            "Epoch 26/30\n",
            "192/192 [==============================] - 0s 2ms/step - loss: 291.5909 - mean_squared_logarithmic_error: 0.0014 - val_loss: 293.1280 - val_mean_squared_logarithmic_error: 0.0014\n",
            "Epoch 27/30\n",
            "192/192 [==============================] - 0s 2ms/step - loss: 293.4979 - mean_squared_logarithmic_error: 0.0014 - val_loss: 291.6064 - val_mean_squared_logarithmic_error: 0.0014\n",
            "Epoch 28/30\n",
            "192/192 [==============================] - 0s 2ms/step - loss: 290.7595 - mean_squared_logarithmic_error: 0.0014 - val_loss: 291.7248 - val_mean_squared_logarithmic_error: 0.0014\n",
            "Epoch 29/30\n",
            "192/192 [==============================] - 0s 2ms/step - loss: 291.8413 - mean_squared_logarithmic_error: 0.0014 - val_loss: 302.3996 - val_mean_squared_logarithmic_error: 0.0015\n",
            "Epoch 30/30\n",
            "192/192 [==============================] - 0s 2ms/step - loss: 293.1236 - mean_squared_logarithmic_error: 0.0014 - val_loss: 291.9420 - val_mean_squared_logarithmic_error: 0.0014\n"
          ]
        }
      ],
      "source": [
        "classifier.compile(optimizer = 'adam', loss = 'mean_squared_error', metrics = ['MeanSquaredLogarithmicError'])\n",
        "\n",
        "# Fitting the ANN to the Training set\n",
        "model = classifier.fit(X_train, y_train, batch_size = 32, epochs = 30,validation_data=(X_val, y_val),\n",
        "              shuffle=True)"
      ]
    }
  ],
  "metadata": {
    "colab": {
      "provenance": []
    },
    "kernelspec": {
      "display_name": "Python 3",
      "name": "python3"
    },
    "language_info": {
      "name": "python"
    }
  },
  "nbformat": 4,
  "nbformat_minor": 0
}