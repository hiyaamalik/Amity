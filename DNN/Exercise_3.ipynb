{
  "cells": [
    {
      "cell_type": "markdown",
      "source": [
        "# Experiment 3\n",
        "###Aim: Build an artificial neural network to implement multiclass classification task using back propagation algorithm and test the same using appropriate data sets."
      ],
      "metadata": {
        "id": "nhKzdYx7OZS2"
      }
    },
    {
      "cell_type": "markdown",
      "metadata": {
        "id": "iJ0ZKrDxffoG"
      },
      "source": [
        "##**Importing Necessary Libraries**"
      ]
    },
    {
      "cell_type": "code",
      "execution_count": null,
      "metadata": {
        "id": "JuKSi3EJyGb-"
      },
      "outputs": [],
      "source": [
        "import numpy as np\n",
        "import pandas as pd"
      ]
    },
    {
      "cell_type": "markdown",
      "metadata": {
        "id": "92epT7aZgF74"
      },
      "source": [
        "##**Loading the Birds Dataset**\n",
        "\n",
        "There are many kinds of birds: pigeons, ducks, ostriches, penguins… Some are good at flying, others can't fly but run fast. Some swim under water, others wading in shallow pool.\n",
        "\n",
        "According to their living environments and living habits, birds are classified into different ecological groups. There are 6 ecological groups of birds:\n",
        "\n",
        "* Swimming Birds (SW)\n",
        "* Wading Birds (W)\n",
        "* Terrestrial Birds (T)\n",
        "* Raptors (R)\n",
        "* Scansorial Birds (P)\n",
        "* Singing Birds (SO)\n",
        "\n",
        "Apparently, birds belong to different ecological groups have different appearances: **flying birds have strong wings and wading birds have long legs**. Their living habits are somewhat reflected in their bones' shapes. As data scientists we may think of examining the underlying relationship between sizes of bones and ecological groups, and recognising birds' ecological groups by their bones' shapes.\n",
        "\n",
        "**Content**\n",
        "\n",
        "There are 420 birds contained in this dataset. Each bird is represented by 10 measurements (features):\n",
        "\n",
        "* Length and Diameter of Humerus\n",
        "* Length and Diameter of Ulna\n",
        "* Length and Diameter of Femur\n",
        "* Length and Diameter of Tibiotarsus\n",
        "* Length and Diameter of Tarsometatarsus"
      ]
    },
    {
      "cell_type": "code",
      "execution_count": null,
      "metadata": {
        "colab": {
          "base_uri": "https://localhost:8080/",
          "height": 206
        },
        "id": "mslwX-u6eqdi",
        "outputId": "631f9408-145b-44c5-f2c9-e6efb863f83e"
      },
      "outputs": [
        {
          "output_type": "execute_result",
          "data": {
            "text/plain": [
              "   id   huml  humw  ulnal  ulnaw   feml  femw   tibl  tibw   tarl  tarw type\n",
              "0   0  80.78  6.68  72.01   4.88  41.81  3.70   5.50  4.03  38.70  3.84   SW\n",
              "1   1  88.91  6.63  80.53   5.59  47.04  4.30  80.22  4.51  41.50  4.01   SW\n",
              "2   2  79.97  6.37  69.26   5.28  43.07  3.90  75.35  4.04  38.31  3.34   SW\n",
              "3   3  77.65  5.70  65.76   4.77  40.04  3.52  69.17  3.40  35.78  3.41   SW\n",
              "4   4  62.80  4.84  52.09   3.73  33.95  2.72  56.27  2.96  31.88  3.13   SW"
            ],
            "text/html": [
              "\n",
              "  <div id=\"df-9f4c046f-f1b8-4796-8afe-31fb90334aa0\" class=\"colab-df-container\">\n",
              "    <div>\n",
              "<style scoped>\n",
              "    .dataframe tbody tr th:only-of-type {\n",
              "        vertical-align: middle;\n",
              "    }\n",
              "\n",
              "    .dataframe tbody tr th {\n",
              "        vertical-align: top;\n",
              "    }\n",
              "\n",
              "    .dataframe thead th {\n",
              "        text-align: right;\n",
              "    }\n",
              "</style>\n",
              "<table border=\"1\" class=\"dataframe\">\n",
              "  <thead>\n",
              "    <tr style=\"text-align: right;\">\n",
              "      <th></th>\n",
              "      <th>id</th>\n",
              "      <th>huml</th>\n",
              "      <th>humw</th>\n",
              "      <th>ulnal</th>\n",
              "      <th>ulnaw</th>\n",
              "      <th>feml</th>\n",
              "      <th>femw</th>\n",
              "      <th>tibl</th>\n",
              "      <th>tibw</th>\n",
              "      <th>tarl</th>\n",
              "      <th>tarw</th>\n",
              "      <th>type</th>\n",
              "    </tr>\n",
              "  </thead>\n",
              "  <tbody>\n",
              "    <tr>\n",
              "      <th>0</th>\n",
              "      <td>0</td>\n",
              "      <td>80.78</td>\n",
              "      <td>6.68</td>\n",
              "      <td>72.01</td>\n",
              "      <td>4.88</td>\n",
              "      <td>41.81</td>\n",
              "      <td>3.70</td>\n",
              "      <td>5.50</td>\n",
              "      <td>4.03</td>\n",
              "      <td>38.70</td>\n",
              "      <td>3.84</td>\n",
              "      <td>SW</td>\n",
              "    </tr>\n",
              "    <tr>\n",
              "      <th>1</th>\n",
              "      <td>1</td>\n",
              "      <td>88.91</td>\n",
              "      <td>6.63</td>\n",
              "      <td>80.53</td>\n",
              "      <td>5.59</td>\n",
              "      <td>47.04</td>\n",
              "      <td>4.30</td>\n",
              "      <td>80.22</td>\n",
              "      <td>4.51</td>\n",
              "      <td>41.50</td>\n",
              "      <td>4.01</td>\n",
              "      <td>SW</td>\n",
              "    </tr>\n",
              "    <tr>\n",
              "      <th>2</th>\n",
              "      <td>2</td>\n",
              "      <td>79.97</td>\n",
              "      <td>6.37</td>\n",
              "      <td>69.26</td>\n",
              "      <td>5.28</td>\n",
              "      <td>43.07</td>\n",
              "      <td>3.90</td>\n",
              "      <td>75.35</td>\n",
              "      <td>4.04</td>\n",
              "      <td>38.31</td>\n",
              "      <td>3.34</td>\n",
              "      <td>SW</td>\n",
              "    </tr>\n",
              "    <tr>\n",
              "      <th>3</th>\n",
              "      <td>3</td>\n",
              "      <td>77.65</td>\n",
              "      <td>5.70</td>\n",
              "      <td>65.76</td>\n",
              "      <td>4.77</td>\n",
              "      <td>40.04</td>\n",
              "      <td>3.52</td>\n",
              "      <td>69.17</td>\n",
              "      <td>3.40</td>\n",
              "      <td>35.78</td>\n",
              "      <td>3.41</td>\n",
              "      <td>SW</td>\n",
              "    </tr>\n",
              "    <tr>\n",
              "      <th>4</th>\n",
              "      <td>4</td>\n",
              "      <td>62.80</td>\n",
              "      <td>4.84</td>\n",
              "      <td>52.09</td>\n",
              "      <td>3.73</td>\n",
              "      <td>33.95</td>\n",
              "      <td>2.72</td>\n",
              "      <td>56.27</td>\n",
              "      <td>2.96</td>\n",
              "      <td>31.88</td>\n",
              "      <td>3.13</td>\n",
              "      <td>SW</td>\n",
              "    </tr>\n",
              "  </tbody>\n",
              "</table>\n",
              "</div>\n",
              "    <div class=\"colab-df-buttons\">\n",
              "\n",
              "  <div class=\"colab-df-container\">\n",
              "    <button class=\"colab-df-convert\" onclick=\"convertToInteractive('df-9f4c046f-f1b8-4796-8afe-31fb90334aa0')\"\n",
              "            title=\"Convert this dataframe to an interactive table.\"\n",
              "            style=\"display:none;\">\n",
              "\n",
              "  <svg xmlns=\"http://www.w3.org/2000/svg\" height=\"24px\" viewBox=\"0 -960 960 960\">\n",
              "    <path d=\"M120-120v-720h720v720H120Zm60-500h600v-160H180v160Zm220 220h160v-160H400v160Zm0 220h160v-160H400v160ZM180-400h160v-160H180v160Zm440 0h160v-160H620v160ZM180-180h160v-160H180v160Zm440 0h160v-160H620v160Z\"/>\n",
              "  </svg>\n",
              "    </button>\n",
              "\n",
              "  <style>\n",
              "    .colab-df-container {\n",
              "      display:flex;\n",
              "      gap: 12px;\n",
              "    }\n",
              "\n",
              "    .colab-df-convert {\n",
              "      background-color: #E8F0FE;\n",
              "      border: none;\n",
              "      border-radius: 50%;\n",
              "      cursor: pointer;\n",
              "      display: none;\n",
              "      fill: #1967D2;\n",
              "      height: 32px;\n",
              "      padding: 0 0 0 0;\n",
              "      width: 32px;\n",
              "    }\n",
              "\n",
              "    .colab-df-convert:hover {\n",
              "      background-color: #E2EBFA;\n",
              "      box-shadow: 0px 1px 2px rgba(60, 64, 67, 0.3), 0px 1px 3px 1px rgba(60, 64, 67, 0.15);\n",
              "      fill: #174EA6;\n",
              "    }\n",
              "\n",
              "    .colab-df-buttons div {\n",
              "      margin-bottom: 4px;\n",
              "    }\n",
              "\n",
              "    [theme=dark] .colab-df-convert {\n",
              "      background-color: #3B4455;\n",
              "      fill: #D2E3FC;\n",
              "    }\n",
              "\n",
              "    [theme=dark] .colab-df-convert:hover {\n",
              "      background-color: #434B5C;\n",
              "      box-shadow: 0px 1px 3px 1px rgba(0, 0, 0, 0.15);\n",
              "      filter: drop-shadow(0px 1px 2px rgba(0, 0, 0, 0.3));\n",
              "      fill: #FFFFFF;\n",
              "    }\n",
              "  </style>\n",
              "\n",
              "    <script>\n",
              "      const buttonEl =\n",
              "        document.querySelector('#df-9f4c046f-f1b8-4796-8afe-31fb90334aa0 button.colab-df-convert');\n",
              "      buttonEl.style.display =\n",
              "        google.colab.kernel.accessAllowed ? 'block' : 'none';\n",
              "\n",
              "      async function convertToInteractive(key) {\n",
              "        const element = document.querySelector('#df-9f4c046f-f1b8-4796-8afe-31fb90334aa0');\n",
              "        const dataTable =\n",
              "          await google.colab.kernel.invokeFunction('convertToInteractive',\n",
              "                                                    [key], {});\n",
              "        if (!dataTable) return;\n",
              "\n",
              "        const docLinkHtml = 'Like what you see? Visit the ' +\n",
              "          '<a target=\"_blank\" href=https://colab.research.google.com/notebooks/data_table.ipynb>data table notebook</a>'\n",
              "          + ' to learn more about interactive tables.';\n",
              "        element.innerHTML = '';\n",
              "        dataTable['output_type'] = 'display_data';\n",
              "        await google.colab.output.renderOutput(dataTable, element);\n",
              "        const docLink = document.createElement('div');\n",
              "        docLink.innerHTML = docLinkHtml;\n",
              "        element.appendChild(docLink);\n",
              "      }\n",
              "    </script>\n",
              "  </div>\n",
              "\n",
              "\n",
              "<div id=\"df-057211d1-af2e-4f39-afd0-9ce74adc18f3\">\n",
              "  <button class=\"colab-df-quickchart\" onclick=\"quickchart('df-057211d1-af2e-4f39-afd0-9ce74adc18f3')\"\n",
              "            title=\"Suggest charts\"\n",
              "            style=\"display:none;\">\n",
              "\n",
              "<svg xmlns=\"http://www.w3.org/2000/svg\" height=\"24px\"viewBox=\"0 0 24 24\"\n",
              "     width=\"24px\">\n",
              "    <g>\n",
              "        <path d=\"M19 3H5c-1.1 0-2 .9-2 2v14c0 1.1.9 2 2 2h14c1.1 0 2-.9 2-2V5c0-1.1-.9-2-2-2zM9 17H7v-7h2v7zm4 0h-2V7h2v10zm4 0h-2v-4h2v4z\"/>\n",
              "    </g>\n",
              "</svg>\n",
              "  </button>\n",
              "\n",
              "<style>\n",
              "  .colab-df-quickchart {\n",
              "      --bg-color: #E8F0FE;\n",
              "      --fill-color: #1967D2;\n",
              "      --hover-bg-color: #E2EBFA;\n",
              "      --hover-fill-color: #174EA6;\n",
              "      --disabled-fill-color: #AAA;\n",
              "      --disabled-bg-color: #DDD;\n",
              "  }\n",
              "\n",
              "  [theme=dark] .colab-df-quickchart {\n",
              "      --bg-color: #3B4455;\n",
              "      --fill-color: #D2E3FC;\n",
              "      --hover-bg-color: #434B5C;\n",
              "      --hover-fill-color: #FFFFFF;\n",
              "      --disabled-bg-color: #3B4455;\n",
              "      --disabled-fill-color: #666;\n",
              "  }\n",
              "\n",
              "  .colab-df-quickchart {\n",
              "    background-color: var(--bg-color);\n",
              "    border: none;\n",
              "    border-radius: 50%;\n",
              "    cursor: pointer;\n",
              "    display: none;\n",
              "    fill: var(--fill-color);\n",
              "    height: 32px;\n",
              "    padding: 0;\n",
              "    width: 32px;\n",
              "  }\n",
              "\n",
              "  .colab-df-quickchart:hover {\n",
              "    background-color: var(--hover-bg-color);\n",
              "    box-shadow: 0 1px 2px rgba(60, 64, 67, 0.3), 0 1px 3px 1px rgba(60, 64, 67, 0.15);\n",
              "    fill: var(--button-hover-fill-color);\n",
              "  }\n",
              "\n",
              "  .colab-df-quickchart-complete:disabled,\n",
              "  .colab-df-quickchart-complete:disabled:hover {\n",
              "    background-color: var(--disabled-bg-color);\n",
              "    fill: var(--disabled-fill-color);\n",
              "    box-shadow: none;\n",
              "  }\n",
              "\n",
              "  .colab-df-spinner {\n",
              "    border: 2px solid var(--fill-color);\n",
              "    border-color: transparent;\n",
              "    border-bottom-color: var(--fill-color);\n",
              "    animation:\n",
              "      spin 1s steps(1) infinite;\n",
              "  }\n",
              "\n",
              "  @keyframes spin {\n",
              "    0% {\n",
              "      border-color: transparent;\n",
              "      border-bottom-color: var(--fill-color);\n",
              "      border-left-color: var(--fill-color);\n",
              "    }\n",
              "    20% {\n",
              "      border-color: transparent;\n",
              "      border-left-color: var(--fill-color);\n",
              "      border-top-color: var(--fill-color);\n",
              "    }\n",
              "    30% {\n",
              "      border-color: transparent;\n",
              "      border-left-color: var(--fill-color);\n",
              "      border-top-color: var(--fill-color);\n",
              "      border-right-color: var(--fill-color);\n",
              "    }\n",
              "    40% {\n",
              "      border-color: transparent;\n",
              "      border-right-color: var(--fill-color);\n",
              "      border-top-color: var(--fill-color);\n",
              "    }\n",
              "    60% {\n",
              "      border-color: transparent;\n",
              "      border-right-color: var(--fill-color);\n",
              "    }\n",
              "    80% {\n",
              "      border-color: transparent;\n",
              "      border-right-color: var(--fill-color);\n",
              "      border-bottom-color: var(--fill-color);\n",
              "    }\n",
              "    90% {\n",
              "      border-color: transparent;\n",
              "      border-bottom-color: var(--fill-color);\n",
              "    }\n",
              "  }\n",
              "</style>\n",
              "\n",
              "  <script>\n",
              "    async function quickchart(key) {\n",
              "      const quickchartButtonEl =\n",
              "        document.querySelector('#' + key + ' button');\n",
              "      quickchartButtonEl.disabled = true;  // To prevent multiple clicks.\n",
              "      quickchartButtonEl.classList.add('colab-df-spinner');\n",
              "      try {\n",
              "        const charts = await google.colab.kernel.invokeFunction(\n",
              "            'suggestCharts', [key], {});\n",
              "      } catch (error) {\n",
              "        console.error('Error during call to suggestCharts:', error);\n",
              "      }\n",
              "      quickchartButtonEl.classList.remove('colab-df-spinner');\n",
              "      quickchartButtonEl.classList.add('colab-df-quickchart-complete');\n",
              "    }\n",
              "    (() => {\n",
              "      let quickchartButtonEl =\n",
              "        document.querySelector('#df-057211d1-af2e-4f39-afd0-9ce74adc18f3 button');\n",
              "      quickchartButtonEl.style.display =\n",
              "        google.colab.kernel.accessAllowed ? 'block' : 'none';\n",
              "    })();\n",
              "  </script>\n",
              "</div>\n",
              "\n",
              "    </div>\n",
              "  </div>\n"
            ],
            "application/vnd.google.colaboratory.intrinsic+json": {
              "type": "dataframe",
              "variable_name": "bird_data",
              "summary": "{\n  \"name\": \"bird_data\",\n  \"rows\": 420,\n  \"fields\": [\n    {\n      \"column\": \"id\",\n      \"properties\": {\n        \"dtype\": \"number\",\n        \"std\": 121,\n        \"min\": 0,\n        \"max\": 419,\n        \"samples\": [\n          145,\n          334,\n          175\n        ],\n        \"num_unique_values\": 420,\n        \"semantic_type\": \"\",\n        \"description\": \"\"\n      }\n    },\n    {\n      \"column\": \"huml\",\n      \"properties\": {\n        \"dtype\": \"number\",\n        \"std\": 53.83454891540597,\n        \"min\": 9.85,\n        \"max\": 420.0,\n        \"samples\": [\n          43.45,\n          116.41,\n          44.47\n        ],\n        \"num_unique_values\": 407,\n        \"semantic_type\": \"\",\n        \"description\": \"\"\n      }\n    },\n    {\n      \"column\": \"humw\",\n      \"properties\": {\n        \"dtype\": \"number\",\n        \"std\": 2.8546165340184424,\n        \"min\": 1.14,\n        \"max\": 17.84,\n        \"samples\": [\n          3.91,\n          7.9,\n          6.44\n        ],\n        \"num_unique_values\": 321,\n        \"semantic_type\": \"\",\n        \"description\": \"\"\n      }\n    },\n    {\n      \"column\": \"ulnal\",\n      \"properties\": {\n        \"dtype\": \"number\",\n        \"std\": 58.78477494885037,\n        \"min\": 14.09,\n        \"max\": 422.0,\n        \"samples\": [\n          37.32,\n          22.53,\n          278.0\n        ],\n        \"num_unique_values\": 398,\n        \"semantic_type\": \"\",\n        \"description\": \"\"\n      }\n    },\n    {\n      \"column\": \"ulnaw\",\n      \"properties\": {\n        \"dtype\": \"number\",\n        \"std\": 2.186747492286786,\n        \"min\": 1.0,\n        \"max\": 12.0,\n        \"samples\": [\n          1.23,\n          7.05,\n          11.72\n        ],\n        \"num_unique_values\": 308,\n        \"semantic_type\": \"\",\n        \"description\": \"\"\n      }\n    },\n    {\n      \"column\": \"feml\",\n      \"properties\": {\n        \"dtype\": \"number\",\n        \"std\": 19.979082278223455,\n        \"min\": 11.83,\n        \"max\": 117.07,\n        \"samples\": [\n          37.0,\n          21.48,\n          56.87\n        ],\n        \"num_unique_values\": 402,\n        \"semantic_type\": \"\",\n        \"description\": \"\"\n      }\n    },\n    {\n      \"column\": \"femw\",\n      \"properties\": {\n        \"dtype\": \"number\",\n        \"std\": 2.0235814177427374,\n        \"min\": 0.93,\n        \"max\": 11.64,\n        \"samples\": [\n          2.77,\n          1.66,\n          5.31\n        ],\n        \"num_unique_values\": 290,\n        \"semantic_type\": \"\",\n        \"description\": \"\"\n      }\n    },\n    {\n      \"column\": \"tibl\",\n      \"properties\": {\n        \"dtype\": \"number\",\n        \"std\": 37.83814455517945,\n        \"min\": 5.5,\n        \"max\": 240.0,\n        \"samples\": [\n          49.09,\n          100.06,\n          34.77\n        ],\n        \"num_unique_values\": 405,\n        \"semantic_type\": \"\",\n        \"description\": \"\"\n      }\n    },\n    {\n      \"column\": \"tibw\",\n      \"properties\": {\n        \"dtype\": \"number\",\n        \"std\": 2.08082732665146,\n        \"min\": 0.87,\n        \"max\": 11.03,\n        \"samples\": [\n          7.9,\n          1.41,\n          2.16\n        ],\n        \"num_unique_values\": 288,\n        \"semantic_type\": \"\",\n        \"description\": \"\"\n      }\n    },\n    {\n      \"column\": \"tarl\",\n      \"properties\": {\n        \"dtype\": \"number\",\n        \"std\": 23.184313430289,\n        \"min\": 7.77,\n        \"max\": 175.0,\n        \"samples\": [\n          58.83,\n          37.17,\n          37.19\n        ],\n        \"num_unique_values\": 409,\n        \"semantic_type\": \"\",\n        \"description\": \"\"\n      }\n    },\n    {\n      \"column\": \"tarw\",\n      \"properties\": {\n        \"dtype\": \"number\",\n        \"std\": 2.185672736352316,\n        \"min\": 0.66,\n        \"max\": 14.09,\n        \"samples\": [\n          6.51,\n          1.25,\n          6.92\n        ],\n        \"num_unique_values\": 279,\n        \"semantic_type\": \"\",\n        \"description\": \"\"\n      }\n    },\n    {\n      \"column\": \"type\",\n      \"properties\": {\n        \"dtype\": \"category\",\n        \"samples\": [\n          \"SW\",\n          \"W\",\n          \"SO\"\n        ],\n        \"num_unique_values\": 6,\n        \"semantic_type\": \"\",\n        \"description\": \"\"\n      }\n    }\n  ]\n}"
            }
          },
          "metadata": {},
          "execution_count": 3
        }
      ],
      "source": [
        "bird_data = pd.read_csv('/content/bird.csv', delimiter = ',')\n",
        "bird_data.head(5)"
      ]
    },
    {
      "cell_type": "markdown",
      "metadata": {
        "id": "TgacS0JggQgr"
      },
      "source": [
        "##**Accessing the Column Names in the Dataset**"
      ]
    },
    {
      "cell_type": "code",
      "execution_count": null,
      "metadata": {
        "colab": {
          "base_uri": "https://localhost:8080/"
        },
        "id": "hqRcQ0jffWS6",
        "outputId": "bc795377-ff6f-4b09-b72a-434d4a5fe2e9"
      },
      "outputs": [
        {
          "output_type": "execute_result",
          "data": {
            "text/plain": [
              "Index(['id', 'huml', 'humw', 'ulnal', 'ulnaw', 'feml', 'femw', 'tibl', 'tibw',\n",
              "       'tarl', 'tarw', 'type'],\n",
              "      dtype='object')"
            ]
          },
          "metadata": {},
          "execution_count": 4
        }
      ],
      "source": [
        "bird_data.columns"
      ]
    },
    {
      "cell_type": "code",
      "execution_count": null,
      "metadata": {
        "colab": {
          "base_uri": "https://localhost:8080/",
          "height": 238
        },
        "id": "uHyanSIie5Xx",
        "outputId": "9886013f-9743-4654-c7b3-564ad3423bc0"
      },
      "outputs": [
        {
          "output_type": "execute_result",
          "data": {
            "text/plain": [
              "     huml  humw  ulnal  ulnaw   feml  femw   tibl  tibw   tarl  tarw type\n",
              "id                                                                       \n",
              "0   80.78  6.68  72.01   4.88  41.81  3.70   5.50  4.03  38.70  3.84   SW\n",
              "1   88.91  6.63  80.53   5.59  47.04  4.30  80.22  4.51  41.50  4.01   SW\n",
              "2   79.97  6.37  69.26   5.28  43.07  3.90  75.35  4.04  38.31  3.34   SW\n",
              "3   77.65  5.70  65.76   4.77  40.04  3.52  69.17  3.40  35.78  3.41   SW\n",
              "4   62.80  4.84  52.09   3.73  33.95  2.72  56.27  2.96  31.88  3.13   SW"
            ],
            "text/html": [
              "\n",
              "  <div id=\"df-3bc13c93-4232-4afa-8ee3-3a55f1d1e574\" class=\"colab-df-container\">\n",
              "    <div>\n",
              "<style scoped>\n",
              "    .dataframe tbody tr th:only-of-type {\n",
              "        vertical-align: middle;\n",
              "    }\n",
              "\n",
              "    .dataframe tbody tr th {\n",
              "        vertical-align: top;\n",
              "    }\n",
              "\n",
              "    .dataframe thead th {\n",
              "        text-align: right;\n",
              "    }\n",
              "</style>\n",
              "<table border=\"1\" class=\"dataframe\">\n",
              "  <thead>\n",
              "    <tr style=\"text-align: right;\">\n",
              "      <th></th>\n",
              "      <th>huml</th>\n",
              "      <th>humw</th>\n",
              "      <th>ulnal</th>\n",
              "      <th>ulnaw</th>\n",
              "      <th>feml</th>\n",
              "      <th>femw</th>\n",
              "      <th>tibl</th>\n",
              "      <th>tibw</th>\n",
              "      <th>tarl</th>\n",
              "      <th>tarw</th>\n",
              "      <th>type</th>\n",
              "    </tr>\n",
              "    <tr>\n",
              "      <th>id</th>\n",
              "      <th></th>\n",
              "      <th></th>\n",
              "      <th></th>\n",
              "      <th></th>\n",
              "      <th></th>\n",
              "      <th></th>\n",
              "      <th></th>\n",
              "      <th></th>\n",
              "      <th></th>\n",
              "      <th></th>\n",
              "      <th></th>\n",
              "    </tr>\n",
              "  </thead>\n",
              "  <tbody>\n",
              "    <tr>\n",
              "      <th>0</th>\n",
              "      <td>80.78</td>\n",
              "      <td>6.68</td>\n",
              "      <td>72.01</td>\n",
              "      <td>4.88</td>\n",
              "      <td>41.81</td>\n",
              "      <td>3.70</td>\n",
              "      <td>5.50</td>\n",
              "      <td>4.03</td>\n",
              "      <td>38.70</td>\n",
              "      <td>3.84</td>\n",
              "      <td>SW</td>\n",
              "    </tr>\n",
              "    <tr>\n",
              "      <th>1</th>\n",
              "      <td>88.91</td>\n",
              "      <td>6.63</td>\n",
              "      <td>80.53</td>\n",
              "      <td>5.59</td>\n",
              "      <td>47.04</td>\n",
              "      <td>4.30</td>\n",
              "      <td>80.22</td>\n",
              "      <td>4.51</td>\n",
              "      <td>41.50</td>\n",
              "      <td>4.01</td>\n",
              "      <td>SW</td>\n",
              "    </tr>\n",
              "    <tr>\n",
              "      <th>2</th>\n",
              "      <td>79.97</td>\n",
              "      <td>6.37</td>\n",
              "      <td>69.26</td>\n",
              "      <td>5.28</td>\n",
              "      <td>43.07</td>\n",
              "      <td>3.90</td>\n",
              "      <td>75.35</td>\n",
              "      <td>4.04</td>\n",
              "      <td>38.31</td>\n",
              "      <td>3.34</td>\n",
              "      <td>SW</td>\n",
              "    </tr>\n",
              "    <tr>\n",
              "      <th>3</th>\n",
              "      <td>77.65</td>\n",
              "      <td>5.70</td>\n",
              "      <td>65.76</td>\n",
              "      <td>4.77</td>\n",
              "      <td>40.04</td>\n",
              "      <td>3.52</td>\n",
              "      <td>69.17</td>\n",
              "      <td>3.40</td>\n",
              "      <td>35.78</td>\n",
              "      <td>3.41</td>\n",
              "      <td>SW</td>\n",
              "    </tr>\n",
              "    <tr>\n",
              "      <th>4</th>\n",
              "      <td>62.80</td>\n",
              "      <td>4.84</td>\n",
              "      <td>52.09</td>\n",
              "      <td>3.73</td>\n",
              "      <td>33.95</td>\n",
              "      <td>2.72</td>\n",
              "      <td>56.27</td>\n",
              "      <td>2.96</td>\n",
              "      <td>31.88</td>\n",
              "      <td>3.13</td>\n",
              "      <td>SW</td>\n",
              "    </tr>\n",
              "  </tbody>\n",
              "</table>\n",
              "</div>\n",
              "    <div class=\"colab-df-buttons\">\n",
              "\n",
              "  <div class=\"colab-df-container\">\n",
              "    <button class=\"colab-df-convert\" onclick=\"convertToInteractive('df-3bc13c93-4232-4afa-8ee3-3a55f1d1e574')\"\n",
              "            title=\"Convert this dataframe to an interactive table.\"\n",
              "            style=\"display:none;\">\n",
              "\n",
              "  <svg xmlns=\"http://www.w3.org/2000/svg\" height=\"24px\" viewBox=\"0 -960 960 960\">\n",
              "    <path d=\"M120-120v-720h720v720H120Zm60-500h600v-160H180v160Zm220 220h160v-160H400v160Zm0 220h160v-160H400v160ZM180-400h160v-160H180v160Zm440 0h160v-160H620v160ZM180-180h160v-160H180v160Zm440 0h160v-160H620v160Z\"/>\n",
              "  </svg>\n",
              "    </button>\n",
              "\n",
              "  <style>\n",
              "    .colab-df-container {\n",
              "      display:flex;\n",
              "      gap: 12px;\n",
              "    }\n",
              "\n",
              "    .colab-df-convert {\n",
              "      background-color: #E8F0FE;\n",
              "      border: none;\n",
              "      border-radius: 50%;\n",
              "      cursor: pointer;\n",
              "      display: none;\n",
              "      fill: #1967D2;\n",
              "      height: 32px;\n",
              "      padding: 0 0 0 0;\n",
              "      width: 32px;\n",
              "    }\n",
              "\n",
              "    .colab-df-convert:hover {\n",
              "      background-color: #E2EBFA;\n",
              "      box-shadow: 0px 1px 2px rgba(60, 64, 67, 0.3), 0px 1px 3px 1px rgba(60, 64, 67, 0.15);\n",
              "      fill: #174EA6;\n",
              "    }\n",
              "\n",
              "    .colab-df-buttons div {\n",
              "      margin-bottom: 4px;\n",
              "    }\n",
              "\n",
              "    [theme=dark] .colab-df-convert {\n",
              "      background-color: #3B4455;\n",
              "      fill: #D2E3FC;\n",
              "    }\n",
              "\n",
              "    [theme=dark] .colab-df-convert:hover {\n",
              "      background-color: #434B5C;\n",
              "      box-shadow: 0px 1px 3px 1px rgba(0, 0, 0, 0.15);\n",
              "      filter: drop-shadow(0px 1px 2px rgba(0, 0, 0, 0.3));\n",
              "      fill: #FFFFFF;\n",
              "    }\n",
              "  </style>\n",
              "\n",
              "    <script>\n",
              "      const buttonEl =\n",
              "        document.querySelector('#df-3bc13c93-4232-4afa-8ee3-3a55f1d1e574 button.colab-df-convert');\n",
              "      buttonEl.style.display =\n",
              "        google.colab.kernel.accessAllowed ? 'block' : 'none';\n",
              "\n",
              "      async function convertToInteractive(key) {\n",
              "        const element = document.querySelector('#df-3bc13c93-4232-4afa-8ee3-3a55f1d1e574');\n",
              "        const dataTable =\n",
              "          await google.colab.kernel.invokeFunction('convertToInteractive',\n",
              "                                                    [key], {});\n",
              "        if (!dataTable) return;\n",
              "\n",
              "        const docLinkHtml = 'Like what you see? Visit the ' +\n",
              "          '<a target=\"_blank\" href=https://colab.research.google.com/notebooks/data_table.ipynb>data table notebook</a>'\n",
              "          + ' to learn more about interactive tables.';\n",
              "        element.innerHTML = '';\n",
              "        dataTable['output_type'] = 'display_data';\n",
              "        await google.colab.output.renderOutput(dataTable, element);\n",
              "        const docLink = document.createElement('div');\n",
              "        docLink.innerHTML = docLinkHtml;\n",
              "        element.appendChild(docLink);\n",
              "      }\n",
              "    </script>\n",
              "  </div>\n",
              "\n",
              "\n",
              "<div id=\"df-76a88d1c-0663-46dc-b30c-71dc1524867d\">\n",
              "  <button class=\"colab-df-quickchart\" onclick=\"quickchart('df-76a88d1c-0663-46dc-b30c-71dc1524867d')\"\n",
              "            title=\"Suggest charts\"\n",
              "            style=\"display:none;\">\n",
              "\n",
              "<svg xmlns=\"http://www.w3.org/2000/svg\" height=\"24px\"viewBox=\"0 0 24 24\"\n",
              "     width=\"24px\">\n",
              "    <g>\n",
              "        <path d=\"M19 3H5c-1.1 0-2 .9-2 2v14c0 1.1.9 2 2 2h14c1.1 0 2-.9 2-2V5c0-1.1-.9-2-2-2zM9 17H7v-7h2v7zm4 0h-2V7h2v10zm4 0h-2v-4h2v4z\"/>\n",
              "    </g>\n",
              "</svg>\n",
              "  </button>\n",
              "\n",
              "<style>\n",
              "  .colab-df-quickchart {\n",
              "      --bg-color: #E8F0FE;\n",
              "      --fill-color: #1967D2;\n",
              "      --hover-bg-color: #E2EBFA;\n",
              "      --hover-fill-color: #174EA6;\n",
              "      --disabled-fill-color: #AAA;\n",
              "      --disabled-bg-color: #DDD;\n",
              "  }\n",
              "\n",
              "  [theme=dark] .colab-df-quickchart {\n",
              "      --bg-color: #3B4455;\n",
              "      --fill-color: #D2E3FC;\n",
              "      --hover-bg-color: #434B5C;\n",
              "      --hover-fill-color: #FFFFFF;\n",
              "      --disabled-bg-color: #3B4455;\n",
              "      --disabled-fill-color: #666;\n",
              "  }\n",
              "\n",
              "  .colab-df-quickchart {\n",
              "    background-color: var(--bg-color);\n",
              "    border: none;\n",
              "    border-radius: 50%;\n",
              "    cursor: pointer;\n",
              "    display: none;\n",
              "    fill: var(--fill-color);\n",
              "    height: 32px;\n",
              "    padding: 0;\n",
              "    width: 32px;\n",
              "  }\n",
              "\n",
              "  .colab-df-quickchart:hover {\n",
              "    background-color: var(--hover-bg-color);\n",
              "    box-shadow: 0 1px 2px rgba(60, 64, 67, 0.3), 0 1px 3px 1px rgba(60, 64, 67, 0.15);\n",
              "    fill: var(--button-hover-fill-color);\n",
              "  }\n",
              "\n",
              "  .colab-df-quickchart-complete:disabled,\n",
              "  .colab-df-quickchart-complete:disabled:hover {\n",
              "    background-color: var(--disabled-bg-color);\n",
              "    fill: var(--disabled-fill-color);\n",
              "    box-shadow: none;\n",
              "  }\n",
              "\n",
              "  .colab-df-spinner {\n",
              "    border: 2px solid var(--fill-color);\n",
              "    border-color: transparent;\n",
              "    border-bottom-color: var(--fill-color);\n",
              "    animation:\n",
              "      spin 1s steps(1) infinite;\n",
              "  }\n",
              "\n",
              "  @keyframes spin {\n",
              "    0% {\n",
              "      border-color: transparent;\n",
              "      border-bottom-color: var(--fill-color);\n",
              "      border-left-color: var(--fill-color);\n",
              "    }\n",
              "    20% {\n",
              "      border-color: transparent;\n",
              "      border-left-color: var(--fill-color);\n",
              "      border-top-color: var(--fill-color);\n",
              "    }\n",
              "    30% {\n",
              "      border-color: transparent;\n",
              "      border-left-color: var(--fill-color);\n",
              "      border-top-color: var(--fill-color);\n",
              "      border-right-color: var(--fill-color);\n",
              "    }\n",
              "    40% {\n",
              "      border-color: transparent;\n",
              "      border-right-color: var(--fill-color);\n",
              "      border-top-color: var(--fill-color);\n",
              "    }\n",
              "    60% {\n",
              "      border-color: transparent;\n",
              "      border-right-color: var(--fill-color);\n",
              "    }\n",
              "    80% {\n",
              "      border-color: transparent;\n",
              "      border-right-color: var(--fill-color);\n",
              "      border-bottom-color: var(--fill-color);\n",
              "    }\n",
              "    90% {\n",
              "      border-color: transparent;\n",
              "      border-bottom-color: var(--fill-color);\n",
              "    }\n",
              "  }\n",
              "</style>\n",
              "\n",
              "  <script>\n",
              "    async function quickchart(key) {\n",
              "      const quickchartButtonEl =\n",
              "        document.querySelector('#' + key + ' button');\n",
              "      quickchartButtonEl.disabled = true;  // To prevent multiple clicks.\n",
              "      quickchartButtonEl.classList.add('colab-df-spinner');\n",
              "      try {\n",
              "        const charts = await google.colab.kernel.invokeFunction(\n",
              "            'suggestCharts', [key], {});\n",
              "      } catch (error) {\n",
              "        console.error('Error during call to suggestCharts:', error);\n",
              "      }\n",
              "      quickchartButtonEl.classList.remove('colab-df-spinner');\n",
              "      quickchartButtonEl.classList.add('colab-df-quickchart-complete');\n",
              "    }\n",
              "    (() => {\n",
              "      let quickchartButtonEl =\n",
              "        document.querySelector('#df-76a88d1c-0663-46dc-b30c-71dc1524867d button');\n",
              "      quickchartButtonEl.style.display =\n",
              "        google.colab.kernel.accessAllowed ? 'block' : 'none';\n",
              "    })();\n",
              "  </script>\n",
              "</div>\n",
              "\n",
              "    </div>\n",
              "  </div>\n"
            ],
            "application/vnd.google.colaboratory.intrinsic+json": {
              "type": "dataframe",
              "variable_name": "bird_data",
              "summary": "{\n  \"name\": \"bird_data\",\n  \"rows\": 420,\n  \"fields\": [\n    {\n      \"column\": \"huml\",\n      \"properties\": {\n        \"dtype\": \"number\",\n        \"std\": 53.83454891540597,\n        \"min\": 9.85,\n        \"max\": 420.0,\n        \"samples\": [\n          43.45,\n          116.41,\n          44.47\n        ],\n        \"num_unique_values\": 407,\n        \"semantic_type\": \"\",\n        \"description\": \"\"\n      }\n    },\n    {\n      \"column\": \"humw\",\n      \"properties\": {\n        \"dtype\": \"number\",\n        \"std\": 2.8546165340184424,\n        \"min\": 1.14,\n        \"max\": 17.84,\n        \"samples\": [\n          3.91,\n          7.9,\n          6.44\n        ],\n        \"num_unique_values\": 321,\n        \"semantic_type\": \"\",\n        \"description\": \"\"\n      }\n    },\n    {\n      \"column\": \"ulnal\",\n      \"properties\": {\n        \"dtype\": \"number\",\n        \"std\": 58.78477494885037,\n        \"min\": 14.09,\n        \"max\": 422.0,\n        \"samples\": [\n          37.32,\n          22.53,\n          278.0\n        ],\n        \"num_unique_values\": 398,\n        \"semantic_type\": \"\",\n        \"description\": \"\"\n      }\n    },\n    {\n      \"column\": \"ulnaw\",\n      \"properties\": {\n        \"dtype\": \"number\",\n        \"std\": 2.186747492286786,\n        \"min\": 1.0,\n        \"max\": 12.0,\n        \"samples\": [\n          1.23,\n          7.05,\n          11.72\n        ],\n        \"num_unique_values\": 308,\n        \"semantic_type\": \"\",\n        \"description\": \"\"\n      }\n    },\n    {\n      \"column\": \"feml\",\n      \"properties\": {\n        \"dtype\": \"number\",\n        \"std\": 19.979082278223455,\n        \"min\": 11.83,\n        \"max\": 117.07,\n        \"samples\": [\n          37.0,\n          21.48,\n          56.87\n        ],\n        \"num_unique_values\": 402,\n        \"semantic_type\": \"\",\n        \"description\": \"\"\n      }\n    },\n    {\n      \"column\": \"femw\",\n      \"properties\": {\n        \"dtype\": \"number\",\n        \"std\": 2.0235814177427374,\n        \"min\": 0.93,\n        \"max\": 11.64,\n        \"samples\": [\n          2.77,\n          1.66,\n          5.31\n        ],\n        \"num_unique_values\": 290,\n        \"semantic_type\": \"\",\n        \"description\": \"\"\n      }\n    },\n    {\n      \"column\": \"tibl\",\n      \"properties\": {\n        \"dtype\": \"number\",\n        \"std\": 37.83814455517945,\n        \"min\": 5.5,\n        \"max\": 240.0,\n        \"samples\": [\n          49.09,\n          100.06,\n          34.77\n        ],\n        \"num_unique_values\": 405,\n        \"semantic_type\": \"\",\n        \"description\": \"\"\n      }\n    },\n    {\n      \"column\": \"tibw\",\n      \"properties\": {\n        \"dtype\": \"number\",\n        \"std\": 2.08082732665146,\n        \"min\": 0.87,\n        \"max\": 11.03,\n        \"samples\": [\n          7.9,\n          1.41,\n          2.16\n        ],\n        \"num_unique_values\": 288,\n        \"semantic_type\": \"\",\n        \"description\": \"\"\n      }\n    },\n    {\n      \"column\": \"tarl\",\n      \"properties\": {\n        \"dtype\": \"number\",\n        \"std\": 23.184313430289,\n        \"min\": 7.77,\n        \"max\": 175.0,\n        \"samples\": [\n          58.83,\n          37.17,\n          37.19\n        ],\n        \"num_unique_values\": 409,\n        \"semantic_type\": \"\",\n        \"description\": \"\"\n      }\n    },\n    {\n      \"column\": \"tarw\",\n      \"properties\": {\n        \"dtype\": \"number\",\n        \"std\": 2.185672736352316,\n        \"min\": 0.66,\n        \"max\": 14.09,\n        \"samples\": [\n          6.51,\n          1.25,\n          6.92\n        ],\n        \"num_unique_values\": 279,\n        \"semantic_type\": \"\",\n        \"description\": \"\"\n      }\n    },\n    {\n      \"column\": \"type\",\n      \"properties\": {\n        \"dtype\": \"category\",\n        \"samples\": [\n          \"SW\",\n          \"W\",\n          \"SO\"\n        ],\n        \"num_unique_values\": 6,\n        \"semantic_type\": \"\",\n        \"description\": \"\"\n      }\n    }\n  ]\n}"
            }
          },
          "metadata": {},
          "execution_count": 5
        }
      ],
      "source": [
        "bird_data = bird_data.set_index('id')\n",
        "bird_data.head()"
      ]
    },
    {
      "cell_type": "markdown",
      "metadata": {
        "id": "WbWc384ZgkNk"
      },
      "source": [
        "##**Finding the Shape of the Dataset**"
      ]
    },
    {
      "cell_type": "code",
      "execution_count": null,
      "metadata": {
        "colab": {
          "base_uri": "https://localhost:8080/"
        },
        "id": "v3r-6BsCfO6O",
        "outputId": "c10ded8b-112c-421a-cca9-c954943fe227"
      },
      "outputs": [
        {
          "output_type": "execute_result",
          "data": {
            "text/plain": [
              "(420, 11)"
            ]
          },
          "metadata": {},
          "execution_count": 6
        }
      ],
      "source": [
        "bird_data.shape"
      ]
    },
    {
      "cell_type": "code",
      "execution_count": null,
      "metadata": {
        "colab": {
          "base_uri": "https://localhost:8080/"
        },
        "id": "DR5iJOoggqVl",
        "outputId": "0b7933d9-9073-4781-9d58-227e7073b18b"
      },
      "outputs": [
        {
          "output_type": "stream",
          "name": "stdout",
          "text": [
            "<class 'pandas.core.frame.DataFrame'>\n",
            "Int64Index: 420 entries, 0 to 419\n",
            "Data columns (total 11 columns):\n",
            " #   Column  Non-Null Count  Dtype  \n",
            "---  ------  --------------  -----  \n",
            " 0   huml    419 non-null    float64\n",
            " 1   humw    419 non-null    float64\n",
            " 2   ulnal   417 non-null    float64\n",
            " 3   ulnaw   418 non-null    float64\n",
            " 4   feml    418 non-null    float64\n",
            " 5   femw    419 non-null    float64\n",
            " 6   tibl    418 non-null    float64\n",
            " 7   tibw    419 non-null    float64\n",
            " 8   tarl    419 non-null    float64\n",
            " 9   tarw    419 non-null    float64\n",
            " 10  type    420 non-null    object \n",
            "dtypes: float64(10), object(1)\n",
            "memory usage: 39.4+ KB\n"
          ]
        }
      ],
      "source": [
        "bird_data.info()"
      ]
    },
    {
      "cell_type": "markdown",
      "metadata": {
        "id": "MOi7okQ_tQrB"
      },
      "source": [
        "##**Checking Missing Values**"
      ]
    },
    {
      "cell_type": "code",
      "execution_count": null,
      "metadata": {
        "colab": {
          "base_uri": "https://localhost:8080/"
        },
        "id": "3XbsLJg0tN-L",
        "outputId": "bf764dbe-a986-4632-c5bf-12f6c7cff928"
      },
      "outputs": [
        {
          "output_type": "execute_result",
          "data": {
            "text/plain": [
              "huml     1\n",
              "humw     1\n",
              "ulnal    3\n",
              "ulnaw    2\n",
              "feml     2\n",
              "femw     1\n",
              "tibl     2\n",
              "tibw     1\n",
              "tarl     1\n",
              "tarw     1\n",
              "type     0\n",
              "dtype: int64"
            ]
          },
          "metadata": {},
          "execution_count": 8
        }
      ],
      "source": [
        "bird_data.isna().sum()"
      ]
    },
    {
      "cell_type": "code",
      "execution_count": null,
      "metadata": {
        "id": "lN0LogSwGCLy"
      },
      "outputs": [],
      "source": [
        "bird_data.dropna(how='any', inplace=True) #how='any'- any row containing at least one missing value (NaN) will be dropped"
      ]
    },
    {
      "cell_type": "code",
      "execution_count": null,
      "metadata": {
        "colab": {
          "base_uri": "https://localhost:8080/"
        },
        "id": "lhfQVtHAGPk1",
        "outputId": "b7c493eb-ce6c-4f35-85b0-ec389e5f7685"
      },
      "outputs": [
        {
          "output_type": "execute_result",
          "data": {
            "text/plain": [
              "huml     0\n",
              "humw     0\n",
              "ulnal    0\n",
              "ulnaw    0\n",
              "feml     0\n",
              "femw     0\n",
              "tibl     0\n",
              "tibw     0\n",
              "tarl     0\n",
              "tarw     0\n",
              "type     0\n",
              "dtype: int64"
            ]
          },
          "metadata": {},
          "execution_count": 10
        }
      ],
      "source": [
        "bird_data.isna().sum()"
      ]
    },
    {
      "cell_type": "code",
      "execution_count": null,
      "metadata": {
        "colab": {
          "base_uri": "https://localhost:8080/"
        },
        "id": "Qiui1vOsGidM",
        "outputId": "f4eb43ff-b72a-484f-a3d2-cff539ddae54"
      },
      "outputs": [
        {
          "output_type": "execute_result",
          "data": {
            "text/plain": [
              "(413, 11)"
            ]
          },
          "metadata": {},
          "execution_count": 11
        }
      ],
      "source": [
        "bird_data.shape"
      ]
    },
    {
      "cell_type": "markdown",
      "metadata": {
        "id": "gL5klaMFg4U0"
      },
      "source": [
        "## **Unique Values in the Data**"
      ]
    },
    {
      "cell_type": "code",
      "execution_count": null,
      "metadata": {
        "colab": {
          "base_uri": "https://localhost:8080/"
        },
        "id": "yNjlTn9yhJtA",
        "outputId": "74a03e5e-4e32-446f-c5f5-47c4f2ac0748"
      },
      "outputs": [
        {
          "output_type": "execute_result",
          "data": {
            "text/plain": [
              "huml     403\n",
              "humw     319\n",
              "ulnal    394\n",
              "ulnaw    305\n",
              "feml     397\n",
              "femw     287\n",
              "tibl     401\n",
              "tibw     283\n",
              "tarl     403\n",
              "tarw     277\n",
              "type       6\n",
              "dtype: int64"
            ]
          },
          "metadata": {},
          "execution_count": 12
        }
      ],
      "source": [
        "bird_data.nunique()"
      ]
    },
    {
      "cell_type": "code",
      "execution_count": null,
      "metadata": {
        "colab": {
          "base_uri": "https://localhost:8080/"
        },
        "id": "ccm8FqHuM2CQ",
        "outputId": "a6a57f17-423e-482a-fb3e-477e7a76c289"
      },
      "outputs": [
        {
          "output_type": "execute_result",
          "data": {
            "text/plain": [
              "array(['SW', 'W', 'T', 'R', 'P', 'SO'], dtype=object)"
            ]
          },
          "metadata": {},
          "execution_count": 13
        }
      ],
      "source": [
        "bird_data['type'].unique() #unique value in the type coloumn"
      ]
    },
    {
      "cell_type": "markdown",
      "metadata": {
        "id": "ohHEfCNNMDNU"
      },
      "source": [
        "## **Label Encoding of Categorical Variables**\n",
        "\n",
        "Label Encoding means converting categorical features into numerical values. So that they can be fitted by machine learning models which only take numerical data.\n",
        "\n",
        "**Example:**\n",
        "Suppose we have a column Height in some dataset that has elements as Tall, Medium, and short. To convert this categorical column into a numerical column we will apply label encoding to this column. After applying label encoding, the Height column is converted into a numerical column having elements 0,1, and 2 where 0 is the label for tall, 1 is the label for medium, and 2 is the label for short height."
      ]
    },
    {
      "cell_type": "code",
      "execution_count": null,
      "metadata": {
        "id": "-d9-2bXeMFg_"
      },
      "outputs": [],
      "source": [
        "\n",
        "from sklearn.preprocessing import LabelEncoder\n",
        "le = LabelEncoder()\n",
        "bird_data[['type']] = bird_data[['type']].apply(le.fit_transform)"
      ]
    },
    {
      "cell_type": "code",
      "execution_count": null,
      "metadata": {
        "colab": {
          "base_uri": "https://localhost:8080/",
          "height": 238
        },
        "id": "Y_MpErPUMrLx",
        "outputId": "de535012-6c15-4e22-93f1-dbad6ab6d1b5"
      },
      "outputs": [
        {
          "output_type": "execute_result",
          "data": {
            "text/plain": [
              "     huml  humw  ulnal  ulnaw   feml  femw   tibl  tibw   tarl  tarw  type\n",
              "id                                                                        \n",
              "0   80.78  6.68  72.01   4.88  41.81  3.70   5.50  4.03  38.70  3.84     3\n",
              "1   88.91  6.63  80.53   5.59  47.04  4.30  80.22  4.51  41.50  4.01     3\n",
              "2   79.97  6.37  69.26   5.28  43.07  3.90  75.35  4.04  38.31  3.34     3\n",
              "3   77.65  5.70  65.76   4.77  40.04  3.52  69.17  3.40  35.78  3.41     3\n",
              "4   62.80  4.84  52.09   3.73  33.95  2.72  56.27  2.96  31.88  3.13     3"
            ],
            "text/html": [
              "\n",
              "  <div id=\"df-89f70b8b-ebe8-4946-a0e2-06a3c7af04ea\" class=\"colab-df-container\">\n",
              "    <div>\n",
              "<style scoped>\n",
              "    .dataframe tbody tr th:only-of-type {\n",
              "        vertical-align: middle;\n",
              "    }\n",
              "\n",
              "    .dataframe tbody tr th {\n",
              "        vertical-align: top;\n",
              "    }\n",
              "\n",
              "    .dataframe thead th {\n",
              "        text-align: right;\n",
              "    }\n",
              "</style>\n",
              "<table border=\"1\" class=\"dataframe\">\n",
              "  <thead>\n",
              "    <tr style=\"text-align: right;\">\n",
              "      <th></th>\n",
              "      <th>huml</th>\n",
              "      <th>humw</th>\n",
              "      <th>ulnal</th>\n",
              "      <th>ulnaw</th>\n",
              "      <th>feml</th>\n",
              "      <th>femw</th>\n",
              "      <th>tibl</th>\n",
              "      <th>tibw</th>\n",
              "      <th>tarl</th>\n",
              "      <th>tarw</th>\n",
              "      <th>type</th>\n",
              "    </tr>\n",
              "    <tr>\n",
              "      <th>id</th>\n",
              "      <th></th>\n",
              "      <th></th>\n",
              "      <th></th>\n",
              "      <th></th>\n",
              "      <th></th>\n",
              "      <th></th>\n",
              "      <th></th>\n",
              "      <th></th>\n",
              "      <th></th>\n",
              "      <th></th>\n",
              "      <th></th>\n",
              "    </tr>\n",
              "  </thead>\n",
              "  <tbody>\n",
              "    <tr>\n",
              "      <th>0</th>\n",
              "      <td>80.78</td>\n",
              "      <td>6.68</td>\n",
              "      <td>72.01</td>\n",
              "      <td>4.88</td>\n",
              "      <td>41.81</td>\n",
              "      <td>3.70</td>\n",
              "      <td>5.50</td>\n",
              "      <td>4.03</td>\n",
              "      <td>38.70</td>\n",
              "      <td>3.84</td>\n",
              "      <td>3</td>\n",
              "    </tr>\n",
              "    <tr>\n",
              "      <th>1</th>\n",
              "      <td>88.91</td>\n",
              "      <td>6.63</td>\n",
              "      <td>80.53</td>\n",
              "      <td>5.59</td>\n",
              "      <td>47.04</td>\n",
              "      <td>4.30</td>\n",
              "      <td>80.22</td>\n",
              "      <td>4.51</td>\n",
              "      <td>41.50</td>\n",
              "      <td>4.01</td>\n",
              "      <td>3</td>\n",
              "    </tr>\n",
              "    <tr>\n",
              "      <th>2</th>\n",
              "      <td>79.97</td>\n",
              "      <td>6.37</td>\n",
              "      <td>69.26</td>\n",
              "      <td>5.28</td>\n",
              "      <td>43.07</td>\n",
              "      <td>3.90</td>\n",
              "      <td>75.35</td>\n",
              "      <td>4.04</td>\n",
              "      <td>38.31</td>\n",
              "      <td>3.34</td>\n",
              "      <td>3</td>\n",
              "    </tr>\n",
              "    <tr>\n",
              "      <th>3</th>\n",
              "      <td>77.65</td>\n",
              "      <td>5.70</td>\n",
              "      <td>65.76</td>\n",
              "      <td>4.77</td>\n",
              "      <td>40.04</td>\n",
              "      <td>3.52</td>\n",
              "      <td>69.17</td>\n",
              "      <td>3.40</td>\n",
              "      <td>35.78</td>\n",
              "      <td>3.41</td>\n",
              "      <td>3</td>\n",
              "    </tr>\n",
              "    <tr>\n",
              "      <th>4</th>\n",
              "      <td>62.80</td>\n",
              "      <td>4.84</td>\n",
              "      <td>52.09</td>\n",
              "      <td>3.73</td>\n",
              "      <td>33.95</td>\n",
              "      <td>2.72</td>\n",
              "      <td>56.27</td>\n",
              "      <td>2.96</td>\n",
              "      <td>31.88</td>\n",
              "      <td>3.13</td>\n",
              "      <td>3</td>\n",
              "    </tr>\n",
              "  </tbody>\n",
              "</table>\n",
              "</div>\n",
              "    <div class=\"colab-df-buttons\">\n",
              "\n",
              "  <div class=\"colab-df-container\">\n",
              "    <button class=\"colab-df-convert\" onclick=\"convertToInteractive('df-89f70b8b-ebe8-4946-a0e2-06a3c7af04ea')\"\n",
              "            title=\"Convert this dataframe to an interactive table.\"\n",
              "            style=\"display:none;\">\n",
              "\n",
              "  <svg xmlns=\"http://www.w3.org/2000/svg\" height=\"24px\" viewBox=\"0 -960 960 960\">\n",
              "    <path d=\"M120-120v-720h720v720H120Zm60-500h600v-160H180v160Zm220 220h160v-160H400v160Zm0 220h160v-160H400v160ZM180-400h160v-160H180v160Zm440 0h160v-160H620v160ZM180-180h160v-160H180v160Zm440 0h160v-160H620v160Z\"/>\n",
              "  </svg>\n",
              "    </button>\n",
              "\n",
              "  <style>\n",
              "    .colab-df-container {\n",
              "      display:flex;\n",
              "      gap: 12px;\n",
              "    }\n",
              "\n",
              "    .colab-df-convert {\n",
              "      background-color: #E8F0FE;\n",
              "      border: none;\n",
              "      border-radius: 50%;\n",
              "      cursor: pointer;\n",
              "      display: none;\n",
              "      fill: #1967D2;\n",
              "      height: 32px;\n",
              "      padding: 0 0 0 0;\n",
              "      width: 32px;\n",
              "    }\n",
              "\n",
              "    .colab-df-convert:hover {\n",
              "      background-color: #E2EBFA;\n",
              "      box-shadow: 0px 1px 2px rgba(60, 64, 67, 0.3), 0px 1px 3px 1px rgba(60, 64, 67, 0.15);\n",
              "      fill: #174EA6;\n",
              "    }\n",
              "\n",
              "    .colab-df-buttons div {\n",
              "      margin-bottom: 4px;\n",
              "    }\n",
              "\n",
              "    [theme=dark] .colab-df-convert {\n",
              "      background-color: #3B4455;\n",
              "      fill: #D2E3FC;\n",
              "    }\n",
              "\n",
              "    [theme=dark] .colab-df-convert:hover {\n",
              "      background-color: #434B5C;\n",
              "      box-shadow: 0px 1px 3px 1px rgba(0, 0, 0, 0.15);\n",
              "      filter: drop-shadow(0px 1px 2px rgba(0, 0, 0, 0.3));\n",
              "      fill: #FFFFFF;\n",
              "    }\n",
              "  </style>\n",
              "\n",
              "    <script>\n",
              "      const buttonEl =\n",
              "        document.querySelector('#df-89f70b8b-ebe8-4946-a0e2-06a3c7af04ea button.colab-df-convert');\n",
              "      buttonEl.style.display =\n",
              "        google.colab.kernel.accessAllowed ? 'block' : 'none';\n",
              "\n",
              "      async function convertToInteractive(key) {\n",
              "        const element = document.querySelector('#df-89f70b8b-ebe8-4946-a0e2-06a3c7af04ea');\n",
              "        const dataTable =\n",
              "          await google.colab.kernel.invokeFunction('convertToInteractive',\n",
              "                                                    [key], {});\n",
              "        if (!dataTable) return;\n",
              "\n",
              "        const docLinkHtml = 'Like what you see? Visit the ' +\n",
              "          '<a target=\"_blank\" href=https://colab.research.google.com/notebooks/data_table.ipynb>data table notebook</a>'\n",
              "          + ' to learn more about interactive tables.';\n",
              "        element.innerHTML = '';\n",
              "        dataTable['output_type'] = 'display_data';\n",
              "        await google.colab.output.renderOutput(dataTable, element);\n",
              "        const docLink = document.createElement('div');\n",
              "        docLink.innerHTML = docLinkHtml;\n",
              "        element.appendChild(docLink);\n",
              "      }\n",
              "    </script>\n",
              "  </div>\n",
              "\n",
              "\n",
              "<div id=\"df-952d83ee-5b67-4280-979d-88228bb2dbd8\">\n",
              "  <button class=\"colab-df-quickchart\" onclick=\"quickchart('df-952d83ee-5b67-4280-979d-88228bb2dbd8')\"\n",
              "            title=\"Suggest charts\"\n",
              "            style=\"display:none;\">\n",
              "\n",
              "<svg xmlns=\"http://www.w3.org/2000/svg\" height=\"24px\"viewBox=\"0 0 24 24\"\n",
              "     width=\"24px\">\n",
              "    <g>\n",
              "        <path d=\"M19 3H5c-1.1 0-2 .9-2 2v14c0 1.1.9 2 2 2h14c1.1 0 2-.9 2-2V5c0-1.1-.9-2-2-2zM9 17H7v-7h2v7zm4 0h-2V7h2v10zm4 0h-2v-4h2v4z\"/>\n",
              "    </g>\n",
              "</svg>\n",
              "  </button>\n",
              "\n",
              "<style>\n",
              "  .colab-df-quickchart {\n",
              "      --bg-color: #E8F0FE;\n",
              "      --fill-color: #1967D2;\n",
              "      --hover-bg-color: #E2EBFA;\n",
              "      --hover-fill-color: #174EA6;\n",
              "      --disabled-fill-color: #AAA;\n",
              "      --disabled-bg-color: #DDD;\n",
              "  }\n",
              "\n",
              "  [theme=dark] .colab-df-quickchart {\n",
              "      --bg-color: #3B4455;\n",
              "      --fill-color: #D2E3FC;\n",
              "      --hover-bg-color: #434B5C;\n",
              "      --hover-fill-color: #FFFFFF;\n",
              "      --disabled-bg-color: #3B4455;\n",
              "      --disabled-fill-color: #666;\n",
              "  }\n",
              "\n",
              "  .colab-df-quickchart {\n",
              "    background-color: var(--bg-color);\n",
              "    border: none;\n",
              "    border-radius: 50%;\n",
              "    cursor: pointer;\n",
              "    display: none;\n",
              "    fill: var(--fill-color);\n",
              "    height: 32px;\n",
              "    padding: 0;\n",
              "    width: 32px;\n",
              "  }\n",
              "\n",
              "  .colab-df-quickchart:hover {\n",
              "    background-color: var(--hover-bg-color);\n",
              "    box-shadow: 0 1px 2px rgba(60, 64, 67, 0.3), 0 1px 3px 1px rgba(60, 64, 67, 0.15);\n",
              "    fill: var(--button-hover-fill-color);\n",
              "  }\n",
              "\n",
              "  .colab-df-quickchart-complete:disabled,\n",
              "  .colab-df-quickchart-complete:disabled:hover {\n",
              "    background-color: var(--disabled-bg-color);\n",
              "    fill: var(--disabled-fill-color);\n",
              "    box-shadow: none;\n",
              "  }\n",
              "\n",
              "  .colab-df-spinner {\n",
              "    border: 2px solid var(--fill-color);\n",
              "    border-color: transparent;\n",
              "    border-bottom-color: var(--fill-color);\n",
              "    animation:\n",
              "      spin 1s steps(1) infinite;\n",
              "  }\n",
              "\n",
              "  @keyframes spin {\n",
              "    0% {\n",
              "      border-color: transparent;\n",
              "      border-bottom-color: var(--fill-color);\n",
              "      border-left-color: var(--fill-color);\n",
              "    }\n",
              "    20% {\n",
              "      border-color: transparent;\n",
              "      border-left-color: var(--fill-color);\n",
              "      border-top-color: var(--fill-color);\n",
              "    }\n",
              "    30% {\n",
              "      border-color: transparent;\n",
              "      border-left-color: var(--fill-color);\n",
              "      border-top-color: var(--fill-color);\n",
              "      border-right-color: var(--fill-color);\n",
              "    }\n",
              "    40% {\n",
              "      border-color: transparent;\n",
              "      border-right-color: var(--fill-color);\n",
              "      border-top-color: var(--fill-color);\n",
              "    }\n",
              "    60% {\n",
              "      border-color: transparent;\n",
              "      border-right-color: var(--fill-color);\n",
              "    }\n",
              "    80% {\n",
              "      border-color: transparent;\n",
              "      border-right-color: var(--fill-color);\n",
              "      border-bottom-color: var(--fill-color);\n",
              "    }\n",
              "    90% {\n",
              "      border-color: transparent;\n",
              "      border-bottom-color: var(--fill-color);\n",
              "    }\n",
              "  }\n",
              "</style>\n",
              "\n",
              "  <script>\n",
              "    async function quickchart(key) {\n",
              "      const quickchartButtonEl =\n",
              "        document.querySelector('#' + key + ' button');\n",
              "      quickchartButtonEl.disabled = true;  // To prevent multiple clicks.\n",
              "      quickchartButtonEl.classList.add('colab-df-spinner');\n",
              "      try {\n",
              "        const charts = await google.colab.kernel.invokeFunction(\n",
              "            'suggestCharts', [key], {});\n",
              "      } catch (error) {\n",
              "        console.error('Error during call to suggestCharts:', error);\n",
              "      }\n",
              "      quickchartButtonEl.classList.remove('colab-df-spinner');\n",
              "      quickchartButtonEl.classList.add('colab-df-quickchart-complete');\n",
              "    }\n",
              "    (() => {\n",
              "      let quickchartButtonEl =\n",
              "        document.querySelector('#df-952d83ee-5b67-4280-979d-88228bb2dbd8 button');\n",
              "      quickchartButtonEl.style.display =\n",
              "        google.colab.kernel.accessAllowed ? 'block' : 'none';\n",
              "    })();\n",
              "  </script>\n",
              "</div>\n",
              "\n",
              "    </div>\n",
              "  </div>\n"
            ],
            "application/vnd.google.colaboratory.intrinsic+json": {
              "type": "dataframe",
              "variable_name": "bird_data",
              "summary": "{\n  \"name\": \"bird_data\",\n  \"rows\": 413,\n  \"fields\": [\n    {\n      \"column\": \"huml\",\n      \"properties\": {\n        \"dtype\": \"number\",\n        \"std\": 54.056078031339645,\n        \"min\": 9.85,\n        \"max\": 420.0,\n        \"samples\": [\n          43.45,\n          41.6,\n          30.28\n        ],\n        \"num_unique_values\": 403,\n        \"semantic_type\": \"\",\n        \"description\": \"\"\n      }\n    },\n    {\n      \"column\": \"humw\",\n      \"properties\": {\n        \"dtype\": \"number\",\n        \"std\": 2.8614599565699317,\n        \"min\": 1.14,\n        \"max\": 17.84,\n        \"samples\": [\n          5.72,\n          5.71,\n          3.37\n        ],\n        \"num_unique_values\": 319,\n        \"semantic_type\": \"\",\n        \"description\": \"\"\n      }\n    },\n    {\n      \"column\": \"ulnal\",\n      \"properties\": {\n        \"dtype\": \"number\",\n        \"std\": 58.92949018048317,\n        \"min\": 14.09,\n        \"max\": 422.0,\n        \"samples\": [\n          61.4,\n          23.15,\n          57.13\n        ],\n        \"num_unique_values\": 394,\n        \"semantic_type\": \"\",\n        \"description\": \"\"\n      }\n    },\n    {\n      \"column\": \"ulnaw\",\n      \"properties\": {\n        \"dtype\": \"number\",\n        \"std\": 2.19015036316517,\n        \"min\": 1.0,\n        \"max\": 12.0,\n        \"samples\": [\n          9.42,\n          4.87,\n          5.31\n        ],\n        \"num_unique_values\": 305,\n        \"semantic_type\": \"\",\n        \"description\": \"\"\n      }\n    },\n    {\n      \"column\": \"feml\",\n      \"properties\": {\n        \"dtype\": \"number\",\n        \"std\": 19.899355884952186,\n        \"min\": 11.83,\n        \"max\": 117.07,\n        \"samples\": [\n          24.95,\n          21.9,\n          81.42\n        ],\n        \"num_unique_values\": 397,\n        \"semantic_type\": \"\",\n        \"description\": \"\"\n      }\n    },\n    {\n      \"column\": \"femw\",\n      \"properties\": {\n        \"dtype\": \"number\",\n        \"std\": 2.0211692819321905,\n        \"min\": 0.93,\n        \"max\": 11.64,\n        \"samples\": [\n          7.44,\n          1.75,\n          4.66\n        ],\n        \"num_unique_values\": 287,\n        \"semantic_type\": \"\",\n        \"description\": \"\"\n      }\n    },\n    {\n      \"column\": \"tibl\",\n      \"properties\": {\n        \"dtype\": \"number\",\n        \"std\": 37.97792917287119,\n        \"min\": 5.5,\n        \"max\": 240.0,\n        \"samples\": [\n          50.47,\n          24.71,\n          68.67\n        ],\n        \"num_unique_values\": 401,\n        \"semantic_type\": \"\",\n        \"description\": \"\"\n      }\n    },\n    {\n      \"column\": \"tibw\",\n      \"properties\": {\n        \"dtype\": \"number\",\n        \"std\": 2.084124090492309,\n        \"min\": 0.87,\n        \"max\": 11.03,\n        \"samples\": [\n          7.31,\n          1.1,\n          3.69\n        ],\n        \"num_unique_values\": 283,\n        \"semantic_type\": \"\",\n        \"description\": \"\"\n      }\n    },\n    {\n      \"column\": \"tarl\",\n      \"properties\": {\n        \"dtype\": \"number\",\n        \"std\": 23.2727035608317,\n        \"min\": 7.77,\n        \"max\": 175.0,\n        \"samples\": [\n          21.62,\n          20.86,\n          15.19\n        ],\n        \"num_unique_values\": 403,\n        \"semantic_type\": \"\",\n        \"description\": \"\"\n      }\n    },\n    {\n      \"column\": \"tarw\",\n      \"properties\": {\n        \"dtype\": \"number\",\n        \"std\": 2.1947441189824146,\n        \"min\": 0.66,\n        \"max\": 14.09,\n        \"samples\": [\n          6.51,\n          1.25,\n          1.98\n        ],\n        \"num_unique_values\": 277,\n        \"semantic_type\": \"\",\n        \"description\": \"\"\n      }\n    },\n    {\n      \"column\": \"type\",\n      \"properties\": {\n        \"dtype\": \"number\",\n        \"std\": 1,\n        \"min\": 0,\n        \"max\": 5,\n        \"samples\": [\n          3,\n          5,\n          2\n        ],\n        \"num_unique_values\": 6,\n        \"semantic_type\": \"\",\n        \"description\": \"\"\n      }\n    }\n  ]\n}"
            }
          },
          "metadata": {},
          "execution_count": 15
        }
      ],
      "source": [
        "bird_data.head()"
      ]
    },
    {
      "cell_type": "markdown",
      "metadata": {
        "id": "RBhC2pV6kG-m"
      },
      "source": [
        "##**Seperating Label from Data**"
      ]
    },
    {
      "cell_type": "code",
      "execution_count": null,
      "metadata": {
        "id": "CU-h5H-vilid"
      },
      "outputs": [],
      "source": [
        "y = bird_data['type']\n",
        "X = bird_data.drop(['type'],axis=1)"
      ]
    },
    {
      "cell_type": "code",
      "execution_count": null,
      "metadata": {
        "colab": {
          "base_uri": "https://localhost:8080/"
        },
        "id": "doNxQbxXkrXv",
        "outputId": "2a54e12f-baec-4366-905f-adad99c19593"
      },
      "outputs": [
        {
          "output_type": "execute_result",
          "data": {
            "text/plain": [
              "Index(['huml', 'humw', 'ulnal', 'ulnaw', 'feml', 'femw', 'tibl', 'tibw',\n",
              "       'tarl', 'tarw'],\n",
              "      dtype='object')"
            ]
          },
          "metadata": {},
          "execution_count": 17
        }
      ],
      "source": [
        "X.columns"
      ]
    },
    {
      "cell_type": "code",
      "execution_count": null,
      "metadata": {
        "colab": {
          "base_uri": "https://localhost:8080/"
        },
        "id": "JxmY3LYgksbe",
        "outputId": "2161e67b-e085-402d-b067-ee0504d3b90d"
      },
      "outputs": [
        {
          "output_type": "execute_result",
          "data": {
            "text/plain": [
              "id\n",
              "0      3\n",
              "1      3\n",
              "2      3\n",
              "3      3\n",
              "4      3\n",
              "      ..\n",
              "415    2\n",
              "416    2\n",
              "417    2\n",
              "418    2\n",
              "419    2\n",
              "Name: type, Length: 413, dtype: int64"
            ]
          },
          "metadata": {},
          "execution_count": 18
        }
      ],
      "source": [
        "y"
      ]
    },
    {
      "cell_type": "code",
      "execution_count": null,
      "metadata": {
        "colab": {
          "base_uri": "https://localhost:8080/"
        },
        "id": "Y3L_7AdDLqrR",
        "outputId": "35ad1270-30b7-4f6a-ed36-c75ff7e23875"
      },
      "outputs": [
        {
          "output_type": "execute_result",
          "data": {
            "text/plain": [
              "(413,)"
            ]
          },
          "metadata": {},
          "execution_count": 19
        }
      ],
      "source": [
        "y.shape"
      ]
    },
    {
      "cell_type": "markdown",
      "metadata": {
        "id": "ZKjRtpJ0JWJf"
      },
      "source": [
        "##**One-Hot-Encoding**\n",
        "\n",
        "* It allows the use of categorical variables in models that require numerical input.\n",
        "* It can improve model performance by providing more information to the model about the categorical variable.\n",
        "* It can help to avoid the problem of ordinality, which can occur when a categorical variable has a natural ordering (e.g. “small”, “medium”, “large”)."
      ]
    },
    {
      "cell_type": "code",
      "source": [
        "!pip install keras"
      ],
      "metadata": {
        "colab": {
          "base_uri": "https://localhost:8080/"
        },
        "id": "cBHKZ_E1QdNR",
        "outputId": "88a95ba4-6611-4638-c4c0-ef80a4cdf161"
      },
      "execution_count": null,
      "outputs": [
        {
          "output_type": "stream",
          "name": "stdout",
          "text": [
            "Requirement already satisfied: keras in /usr/local/lib/python3.10/dist-packages (2.15.0)\n"
          ]
        }
      ]
    },
    {
      "cell_type": "code",
      "execution_count": null,
      "metadata": {
        "id": "L5twQod-KyJY"
      },
      "outputs": [],
      "source": [
        "from tensorflow.keras.utils import to_categorical"
      ]
    },
    {
      "cell_type": "code",
      "source": [
        "from tensorflow.keras.utils import to_categorical\n",
        "\n",
        "num_classes = 6\n",
        "\n",
        "y = to_categorical(y, num_classes)\n",
        "y"
      ],
      "metadata": {
        "colab": {
          "base_uri": "https://localhost:8080/"
        },
        "id": "HQYYEGcHRFiZ",
        "outputId": "5c58bd05-1545-4671-ca7d-427c948e9f99"
      },
      "execution_count": null,
      "outputs": [
        {
          "output_type": "execute_result",
          "data": {
            "text/plain": [
              "array([[0., 0., 0., 1., 0., 0.],\n",
              "       [0., 0., 0., 1., 0., 0.],\n",
              "       [0., 0., 0., 1., 0., 0.],\n",
              "       ...,\n",
              "       [0., 0., 1., 0., 0., 0.],\n",
              "       [0., 0., 1., 0., 0., 0.],\n",
              "       [0., 0., 1., 0., 0., 0.]], dtype=float32)"
            ]
          },
          "metadata": {},
          "execution_count": 24
        }
      ]
    },
    {
      "cell_type": "markdown",
      "metadata": {
        "id": "OB8cY_fNk2KG"
      },
      "source": [
        "##**Splitting the Data into Training and Testing**"
      ]
    },
    {
      "cell_type": "code",
      "execution_count": null,
      "metadata": {
        "id": "ONhh9fw5kunZ"
      },
      "outputs": [],
      "source": [
        "from sklearn.model_selection import train_test_split\n",
        "X_train, X_test, y_train, y_test = train_test_split(X, y, test_size = 0.2, random_state = 2)"
      ]
    },
    {
      "cell_type": "code",
      "execution_count": null,
      "metadata": {
        "colab": {
          "base_uri": "https://localhost:8080/"
        },
        "id": "n7QUNsrflJyd",
        "outputId": "92d9e1cc-9dbf-47cc-a8d8-b414dd431f6d"
      },
      "outputs": [
        {
          "output_type": "stream",
          "name": "stdout",
          "text": [
            "Shape of the X_train (330, 10)\n",
            "Shape of the X_test (83, 10)\n",
            "Shape of the y_train (330, 6)\n",
            "Shape of the y_test (83, 6)\n"
          ]
        }
      ],
      "source": [
        "print(\"Shape of the X_train\", X_train.shape)\n",
        "print(\"Shape of the X_test\", X_test.shape)\n",
        "print(\"Shape of the y_train\", y_train.shape)\n",
        "print(\"Shape of the y_test\", y_test.shape)"
      ]
    },
    {
      "cell_type": "markdown",
      "metadata": {
        "id": "qRe4F-ZllGU0"
      },
      "source": [
        "## **Feature Scaling:**\n",
        "The result of **standardization** (or **Z-Score normalization**) is that the features will be re scaled so that they'll have the properties of a standard normal distribution with:\n",
        "$$\\mu = 0$$\n",
        "And\n",
        "$$\\sigma = 1$$\n",
        "\n",
        "Where $\\mu$ is the mean(average) and $\\sigma$ is the standard deviation from the mean; standard scores (also called **Z** scores) of the sampels are calculated as follows:\n",
        "$$z = \\frac{x - \\mu}{\\sigma}$$\n",
        "\n",
        "***\n",
        "\n",
        "## **About Min-Max Scaling**\n",
        "\n",
        "An alternative approach to **Z-Score** normalization (or called standardization) is the so-called **Min-Max Scaling** (often also simply called **Normalization** - a common cause for ambiguities)\n",
        "\n",
        "In this approach, the data is scaled to a fixed range - usually `[0, 1]`.\n",
        "The cost of having this bounded range - in contrast to standrdization - is that we will end up with smaaller standard deviations, which can suppress the effect of outliers.\n",
        "\n",
        "**Note**:\n",
        "\n",
        "If the dataset have lot's of outliers, and the algorithms are sensitive to outliers, please use `Min-Max Scaler`\n",
        "\n",
        "A `Min-Max Scaling` is typically done via the foloowing equation:\n",
        "\n",
        "$$X_{norm} = \\frac{X_{i} - X_{min}}{X_{max} - X_{min}}$$\n",
        "\n",
        "$X_i$ is the $i^{th}$ sample of dataset.\n",
        "\n",
        "\n",
        "## **Z-Score Standardization or Min-Max Scaling**\n",
        "\n",
        "\"Standardization or Min-Max scaling\"? - There is no obvious answer to this question: it really depends on the application.\n",
        "\n",
        "However this doesn't mean that `Min-Max Scaling` is not useful at all, A popular application is `image processing`, where pixel intensities have to be normalized to fit withint a certain range (i.e., `[0, 255]` for the RGB colour range). Also, typical _Neural Network_ Algorithm require data that on a `0 - 1` scale."
      ]
    },
    {
      "cell_type": "code",
      "execution_count": null,
      "metadata": {
        "id": "0tJwn52Wk9ty"
      },
      "outputs": [],
      "source": [
        "from sklearn.preprocessing import StandardScaler\n",
        "sc = StandardScaler()\n",
        "X_train = sc.fit_transform(X_train)\n",
        "X_test = sc.transform(X_test)"
      ]
    },
    {
      "cell_type": "markdown",
      "metadata": {
        "id": "N-18bjO3rOHB"
      },
      "source": [
        "##**Building the ANN Model**"
      ]
    },
    {
      "cell_type": "code",
      "execution_count": null,
      "metadata": {
        "id": "lYWxtWt4lwsa"
      },
      "outputs": [],
      "source": [
        "# sequential model to initialise our ann and dense module to build the layers\n",
        "from keras.models import Sequential\n",
        "from keras.layers import Dense"
      ]
    },
    {
      "cell_type": "code",
      "execution_count": null,
      "metadata": {
        "id": "5SHVdj9Xl6se"
      },
      "outputs": [],
      "source": [
        "classifier = Sequential()\n",
        "# Adding the input layer and the first hidden layer\n",
        "classifier.add(Dense(units = 8, kernel_initializer = 'uniform', activation = 'relu', input_dim = 10))\n",
        "\n",
        "# Adding the second hidden layer\n",
        "classifier.add(Dense(units = 16, kernel_initializer = 'uniform', activation = 'relu'))\n",
        "\n",
        "# Adding the third hidden layer\n",
        "classifier.add(Dense(units = 32, kernel_initializer = 'uniform', activation = 'relu'))\n",
        "\n",
        "# Adding the output layer\n",
        "classifier.add(Dense(units = 6, kernel_initializer = 'uniform', activation = 'softmax'))"
      ]
    },
    {
      "cell_type": "markdown",
      "metadata": {
        "id": "MDjrKcLnrSw0"
      },
      "source": [
        "## **Compiling and Fitting the Model**"
      ]
    },
    {
      "cell_type": "code",
      "execution_count": null,
      "metadata": {
        "collapsed": true,
        "id": "RRtVuxFumFcS",
        "jupyter": {
          "outputs_hidden": true
        }
      },
      "outputs": [],
      "source": [
        "classifier.compile(optimizer = 'adam', loss = 'categorical_crossentropy', metrics = ['accuracy'])\n",
        "\n",
        "# Fitting the ANN to the Training set\n",
        "classifier.fit(X_train, y_train, batch_size = 16, epochs = 800, verbose = 1)"
      ]
    },
    {
      "cell_type": "markdown",
      "metadata": {
        "id": "55PgRgP0rZ8A"
      },
      "source": [
        "##**Testing the Model**"
      ]
    },
    {
      "cell_type": "code",
      "execution_count": null,
      "metadata": {
        "colab": {
          "base_uri": "https://localhost:8080/"
        },
        "id": "VPqoEf0VmVx0",
        "outputId": "188c9894-8ca2-4ee3-fd9b-f4e6b096ada7"
      },
      "outputs": [
        {
          "output_type": "stream",
          "name": "stdout",
          "text": [
            "33/33 [==============================] - 0s 2ms/step - loss: 0.0744 - accuracy: 0.9848\n",
            "Train score: 0.07442142069339752\n",
            "Train accuracy: 0.9848484992980957\n",
            "********************\n",
            "9/9 [==============================] - 0s 2ms/step - loss: 0.2492 - accuracy: 0.9398\n",
            "Test score: 0.2491978406906128\n",
            "Test accuracy: 0.9397590160369873\n"
          ]
        }
      ],
      "source": [
        "score, acc = classifier.evaluate(X_train, y_train,\n",
        "                            batch_size=10)\n",
        "print('Train score:', score)\n",
        "print('Train accuracy:', acc)\n",
        "\n",
        "print('*'*20)\n",
        "score, acc = classifier.evaluate(X_test, y_test,\n",
        "                            batch_size=10)\n",
        "print('Test score:', score)\n",
        "print('Test accuracy:', acc)"
      ]
    },
    {
      "cell_type": "markdown",
      "metadata": {
        "id": "zLS1Qv2Yrfj4"
      },
      "source": [
        "##**Confusion Matrix**\n",
        "\n",
        "### * **Accuracy**\n",
        "number of examples correctly predicted / total number of examples  \n",
        "![alt text](https://wikimedia.org/api/rest_v1/media/math/render/svg/c72ec21ef2505c2d376e96197637fc64f75e5891)"
      ]
    },
    {
      "cell_type": "code",
      "execution_count": null,
      "metadata": {
        "id": "Tv7u8KsKNyrk"
      },
      "outputs": [],
      "source": [
        "# Predicting the Test set results\n",
        "pred = classifier.predict(X_test)\n",
        "print(\"Y_pred:\", pred)\n",
        "print(\"*****************\")\n",
        "y_pred = np.argmax(pred, axis = 1)\n",
        "print(\"Y_pred:\", y_pred)\n",
        "print(\"*****************\")\n",
        "print(\"Y_test:\", y_test)\n",
        "y_true = np.argmax(y_test, axis = 1)\n",
        "print(\"*****************\")\n",
        "print(\"Y_test:\", y_true)"
      ]
    },
    {
      "cell_type": "code",
      "execution_count": null,
      "metadata": {
        "id": "kf2vqlsamx7r"
      },
      "outputs": [],
      "source": [
        "# Making the Confusion Matrix\n",
        "from sklearn.metrics import confusion_matrix\n",
        "cm = confusion_matrix(y_true, y_pred)\n",
        "target_names = ['P', 'R', 'SO', 'SW', 'T', 'W']"
      ]
    },
    {
      "cell_type": "code",
      "execution_count": null,
      "metadata": {
        "id": "EQPEuDuBnkgN"
      },
      "outputs": [],
      "source": [
        "import matplotlib.pyplot as plt\n",
        "import seaborn as sns"
      ]
    },
    {
      "cell_type": "code",
      "execution_count": null,
      "metadata": {
        "colab": {
          "base_uri": "https://localhost:8080/",
          "height": 526
        },
        "id": "ZE0yRVvRm4ng",
        "outputId": "4aee581d-aeac-4531-bff6-d577b27e0c4f"
      },
      "outputs": [
        {
          "output_type": "execute_result",
          "data": {
            "text/plain": [
              "Text(0.5, 23.52222222222222, 'Predicted label')"
            ]
          },
          "metadata": {},
          "execution_count": 37
        },
        {
          "output_type": "display_data",
          "data": {
            "text/plain": [
              "<Figure size 640x480 with 2 Axes>"
            ],
            "image/png": "[encoded data removed]"
          },
          "metadata": {}
        }
      ],
      "source": [
        "p = sns.heatmap(pd.DataFrame(cm), annot=True,xticklabels=target_names, yticklabels=target_names, cmap=\"YlGnBu\" ,fmt='g')\n",
        "plt.title('Confusion matrix', y=1.1)\n",
        "plt.ylabel('Actual label')\n",
        "plt.xlabel('Predicted label')"
      ]
    },
    {
      "cell_type": "markdown",
      "metadata": {
        "id": "vA-IrzYPrkah"
      },
      "source": [
        "##**Classification Report**\n",
        "##**Classification Report**\n",
        "\n",
        "### * **True Positive Rate**\n",
        "number of samples actually and predicted as  `Positive` / total number of samples actually `Positive`  \n",
        "Also called **Sensitivity or Recall**.  \n",
        "![alt text](https://wikimedia.org/api/rest_v1/media/math/render/svg/64d5540cbadeb83f864d7a731b7ab43cccd0f353)\n",
        "\n",
        "\n",
        "### * **Positive Predictive Value**\n",
        "number of samples actually and predicted as  `Positive` / total number of samples predicted as `Positive`  \n",
        "Also called **Precision**.  \n",
        "![alt text](https://wikimedia.org/api/rest_v1/media/math/render/svg/699fcdb880b7f6a92742bc0845b8b60b59806a98)\n",
        "\n",
        "### * **F1 score**\n",
        "Harmonic Mean of Precision and Recall.  \n",
        "![alt text](https://wikimedia.org/api/rest_v1/media/math/render/svg/5663ca95d471868169c4e4ea57c936f1b6f4a588)"
      ]
    },
    {
      "cell_type": "code",
      "execution_count": null,
      "metadata": {
        "colab": {
          "base_uri": "https://localhost:8080/"
        },
        "id": "h9PnAQtCm7wC",
        "outputId": "7260407d-8cc2-4371-fc19-0e99cd41d6df"
      },
      "outputs": [
        {
          "output_type": "stream",
          "name": "stdout",
          "text": [
            "              precision    recall  f1-score   support\n",
            "\n",
            "           P       0.86      1.00      0.92         6\n",
            "           R       1.00      1.00      1.00        11\n",
            "          SO       0.97      1.00      0.98        31\n",
            "          SW       0.89      0.85      0.87        20\n",
            "           T       1.00      1.00      1.00         3\n",
            "           W       0.91      0.83      0.87        12\n",
            "\n",
            "    accuracy                           0.94        83\n",
            "   macro avg       0.94      0.95      0.94        83\n",
            "weighted avg       0.94      0.94      0.94        83\n",
            "\n"
          ]
        }
      ],
      "source": [
        "#import classification_report\n",
        "from sklearn.metrics import classification_report\n",
        "print(classification_report(y_true,y_pred, target_names = target_names))"
      ]
    },
    {
      "cell_type": "markdown",
      "metadata": {
        "id": "m4WoHrjxrooT"
      },
      "source": [
        "##**ROC curve**"
      ]
    },
    {
      "cell_type": "code",
      "execution_count": null,
      "metadata": {
        "colab": {
          "base_uri": "https://localhost:8080/",
          "height": 2747
        },
        "id": "PxrEaVsSRRXu",
        "outputId": "96a5444a-5cb3-4a75-cee6-b6d4a0777a5b"
      },
      "outputs": [
        {
          "output_type": "display_data",
          "data": {
            "text/plain": [
              "<Figure size 640x480 with 1 Axes>"
            ],
            "image/png": "[encoded data removed]"
          },
          "metadata": {}
        },
        {
          "output_type": "display_data",
          "data": {
            "text/plain": [
              "<Figure size 640x480 with 1 Axes>"
            ],
            "image/png": "[encoded data removed]"
          },
          "metadata": {}
        },
        {
          "output_type": "display_data",
          "data": {
            "text/plain": [
              "<Figure size 640x480 with 1 Axes>"
            ],
            "image/png": "[encoded data removed]"
          },
          "metadata": {}
        },
        {
          "output_type": "display_data",
          "data": {
            "text/plain": [
              "<Figure size 640x480 with 1 Axes>"
            ],
            "image/png": "[encoded data removed]"
          },
          "metadata": {}
        },
        {
          "output_type": "display_data",
          "data": {
            "text/plain": [
              "<Figure size 640x480 with 1 Axes>"
            ],
            "image/png": "[encoded data removed]"
          },
          "metadata": {}
        },
        {
          "output_type": "display_data",
          "data": {
            "text/plain": [
              "<Figure size 640x480 with 1 Axes>"
            ],
            "image/png": "[encoded data removed]"
          },
          "metadata": {}
        }
      ],
      "source": [
        "from sklearn.metrics import roc_curve, auc\n",
        "from itertools import cycle\n",
        "fpr = dict()\n",
        "tpr = dict()\n",
        "roc_auc = dict()\n",
        "for i in range(6):\n",
        "    fpr[i], tpr[i], _ = roc_curve(y_test[:, i], pred[:, i])\n",
        "    roc_auc[i] = auc(fpr[i], tpr[i])\n",
        "\n",
        "# Plot of a ROC curve for a specific class\n",
        "for i in range(6):\n",
        "    plt.figure()\n",
        "    plt.plot(fpr[i], tpr[i], label='ROC curve (area = %0.2f)' % roc_auc[i])\n",
        "    plt.plot([0, 1], [0, 1], 'k--')\n",
        "    plt.xlim([0.0, 1.0])\n",
        "    plt.ylim([0.0, 1.05])\n",
        "    plt.xlabel('False Positive Rate')\n",
        "    plt.ylabel('True Positive Rate')\n",
        "    plt.title('Receiver operating characteristic example')\n",
        "    plt.legend(loc=\"lower right\")\n",
        "    plt.show()"
      ]
    },
    {
      "cell_type": "code",
      "execution_count": null,
      "metadata": {
        "colab": {
          "base_uri": "https://localhost:8080/",
          "height": 455
        },
        "id": "6t01_ocrm-zD",
        "outputId": "03458d71-8ca0-42b2-8605-1e730ac3d402"
      },
      "outputs": [
        {
          "output_type": "display_data",
          "data": {
            "text/plain": [
              "<Figure size 640x480 with 1 Axes>"
            ],
            "image/png": "[encoded data removed]"
          },
          "metadata": {}
        }
      ],
      "source": [
        "fpr = dict()\n",
        "tpr = dict()\n",
        "roc_auc = dict()\n",
        "lw=2\n",
        "for i in range(6):\n",
        "    fpr[i], tpr[i], _ = roc_curve(y_test[:, i], pred[:, i])\n",
        "    roc_auc[i] = auc(fpr[i], tpr[i])\n",
        "colors =cycle(['blue', 'green', 'red','darkorange','olive','purple'])\n",
        "for i, color in zip(range(6), colors):\n",
        "    plt.plot(fpr[i], tpr[i], color=color, lw=2,\n",
        "             label='AUC = {1:0.4f}'\n",
        "             ''.format(i, roc_auc[i]))\n",
        "plt.plot([0, 1], [0, 1], 'k--', lw=lw)\n",
        "plt.xlim([-0.05, 1.0])\n",
        "plt.ylim([0.0, 1.05])\n",
        "plt.xlabel('False Positive Rate',fontsize=15)\n",
        "plt.ylabel('True Positive Rate',fontsize=15)\n",
        "# plt.title('Receiver operating characteristic for multi-class data')\n",
        "plt.legend(loc=\"lower right\")\n",
        "plt.show()"
      ]
    },
    {
      "cell_type": "markdown",
      "source": [
        "## **Self Work**"
      ],
      "metadata": {
        "id": "LPV3Ai4nSWld"
      }
    },
    {
      "cell_type": "code",
      "source": [
        "classifier = Sequential()\n",
        "# Adding the input layer and the first hidden layer\n",
        "classifier.add(Dense(units = 8, kernel_initializer = 'uniform', activation = 'relu', input_dim = 10))\n",
        "\n",
        "# Adding the second hidden layer\n",
        "classifier.add(Dense(units = 16, kernel_initializer = 'uniform', activation = 'softmax'))\n",
        "\n",
        "# Adding the third hidden layer\n",
        "classifier.add(Dense(units = 32, kernel_initializer = 'uniform', activation = 'softmax'))\n",
        "\n",
        "# Adding the output layer\n",
        "classifier.add(Dense(units = 6, kernel_initializer = 'uniform', activation = 'softmax'))"
      ],
      "metadata": {
        "id": "RwxXp99rSdni"
      },
      "execution_count": null,
      "outputs": []
    },
    {
      "cell_type": "code",
      "source": [
        "classifier.compile(optimizer = 'adam', loss = 'categorical_crossentropy', metrics = ['accuracy'])\n",
        "\n",
        "# Fitting the ANN to the Training set\n",
        "classifier.fit(X_train, y_train, batch_size = 32, epochs = 1000, verbose = 1)"
      ],
      "metadata": {
        "id": "0UrBq7-4S53g"
      },
      "execution_count": null,
      "outputs": []
    },
    {
      "cell_type": "code",
      "source": [
        "score, acc = classifier.evaluate(X_train, y_train,\n",
        "                            batch_size=10)\n",
        "print('Train score:', score)\n",
        "print('Train accuracy:', acc)\n",
        "\n",
        "print('*'*20)\n",
        "score, acc = classifier.evaluate(X_test, y_test,\n",
        "                            batch_size=10)\n",
        "print('Test score:', score)\n",
        "print('Test accuracy:', acc)"
      ],
      "metadata": {
        "colab": {
          "base_uri": "https://localhost:8080/"
        },
        "id": "-EXfiE2pTDo_",
        "outputId": "666447bd-35f2-48b6-d21b-e017776d6fe1"
      },
      "execution_count": null,
      "outputs": [
        {
          "output_type": "stream",
          "name": "stdout",
          "text": [
            "33/33 [==============================] - 0s 2ms/step - loss: 0.6135 - accuracy: 0.7788\n",
            "Train score: 0.6134886145591736\n",
            "Train accuracy: 0.7787878513336182\n",
            "********************\n",
            "9/9 [==============================] - 0s 10ms/step - loss: 0.6937 - accuracy: 0.7349\n",
            "Test score: 0.6937418580055237\n",
            "Test accuracy: 0.7349397540092468\n"
          ]
        }
      ]
    },
    {
      "cell_type": "code",
      "source": [
        "print(classification_report(y_true,y_pred, target_names = target_names))"
      ],
      "metadata": {
        "colab": {
          "base_uri": "https://localhost:8080/"
        },
        "id": "K-GG-NmxVaFO",
        "outputId": "c62a74af-e91c-49fe-c72e-ff04d2ce97d5"
      },
      "execution_count": null,
      "outputs": [
        {
          "output_type": "stream",
          "name": "stdout",
          "text": [
            "              precision    recall  f1-score   support\n",
            "\n",
            "           P       0.83      0.83      0.83         6\n",
            "           R       1.00      0.09      0.17        11\n",
            "          SO       0.91      0.97      0.94        31\n",
            "          SW       0.51      0.90      0.65        20\n",
            "           T       0.75      1.00      0.86         3\n",
            "           W       1.00      0.33      0.50        12\n",
            "\n",
            "    accuracy                           0.73        83\n",
            "   macro avg       0.83      0.69      0.66        83\n",
            "weighted avg       0.83      0.73      0.69        83\n",
            "\n"
          ]
        }
      ]
    },
    {
      "cell_type": "code",
      "source": [
        "cm = confusion_matrix(y_true, y_pred)\n",
        "target_names = ['P', 'R', 'SO', 'SW', 'T', 'W']"
      ],
      "metadata": {
        "id": "y49uKkdvV1mD"
      },
      "execution_count": null,
      "outputs": []
    },
    {
      "cell_type": "code",
      "source": [
        "p = sns.heatmap(pd.DataFrame(cm), annot=True,xticklabels=target_names, yticklabels=target_names, cmap=\"YlGnBu\" ,fmt='g')\n",
        "plt.title('Confusion matrix', y=1.1)\n",
        "plt.ylabel('Actual label')\n",
        "plt.xlabel('Predicted label')"
      ],
      "metadata": {
        "colab": {
          "base_uri": "https://localhost:8080/",
          "height": 526
        },
        "id": "D5fLkVS3VbLP",
        "outputId": "13b4a421-8cf4-4e29-f359-621181a31f11"
      },
      "execution_count": null,
      "outputs": [
        {
          "output_type": "execute_result",
          "data": {
            "text/plain": [
              "Text(0.5, 23.52222222222222, 'Predicted label')"
            ]
          },
          "metadata": {},
          "execution_count": 62
        },
        {
          "output_type": "display_data",
          "data": {
            "text/plain": [
              "<Figure size 640x480 with 2 Axes>"
            ],
            "image/png": "[encoded data removed]"
          },
          "metadata": {}
        }
      ]
    },
    {
      "cell_type": "code",
      "source": [
        "#"
      ],
      "metadata": {
        "id": "xzXlUiS2WGum"
      },
      "execution_count": null,
      "outputs": []
    },
    {
      "cell_type": "code",
      "source": [
        "#"
      ],
      "metadata": {
        "id": "eDzTy6vfWprF"
      },
      "execution_count": null,
      "outputs": []
    },
    {
      "cell_type": "code",
      "source": [
        "#"
      ],
      "metadata": {
        "id": "niJaNCnWWpC0"
      },
      "execution_count": null,
      "outputs": []
    },
    {
      "cell_type": "code",
      "source": [
        "#"
      ],
      "metadata": {
        "id": "1UnyQ6kKWoWu"
      },
      "execution_count": null,
      "outputs": []
    },
    {
      "cell_type": "code",
      "source": [
        "#"
      ],
      "metadata": {
        "id": "d6DFCwBgWvrp"
      },
      "execution_count": null,
      "outputs": []
    },
    {
      "cell_type": "code",
      "source": [
        "#"
      ],
      "metadata": {
        "id": "lbr0q1q9WvEo"
      },
      "execution_count": null,
      "outputs": []
    },
    {
      "cell_type": "code",
      "source": [
        "#"
      ],
      "metadata": {
        "id": "WEAmQdNgWujR"
      },
      "execution_count": null,
      "outputs": []
    },
    {
      "cell_type": "code",
      "source": [
        "#"
      ],
      "metadata": {
        "id": "e6Ml8PnYW0zj"
      },
      "execution_count": null,
      "outputs": []
    },
    {
      "cell_type": "code",
      "source": [
        "#"
      ],
      "metadata": {
        "id": "Mdr0ali4W1nR"
      },
      "execution_count": null,
      "outputs": []
    }
  ],
  "metadata": {
    "colab": {
      "provenance": []
    },
    "kernelspec": {
      "display_name": "Python 3 (ipykernel)",
      "language": "python",
      "name": "python3"
    },
    "language_info": {
      "codemirror_mode": {
        "name": "ipython",
        "version": 3
      },
      "file_extension": ".py",
      "mimetype": "text/x-python",
      "name": "python",
      "nbconvert_exporter": "python",
      "pygments_lexer": "ipython3",
      "version": "3.8.10"
    }
  },
  "nbformat": 4,
  "nbformat_minor": 0
}