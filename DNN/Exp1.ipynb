{
  "nbformat": 4,
  "nbformat_minor": 0,
  "metadata": {
    "colab": {
      "provenance": []
    },
    "kernelspec": {
      "name": "python3",
      "display_name": "Python 3"
    },
    "language_info": {
      "name": "python"
    }
  },
  "cells": [
    {
      "cell_type": "markdown",
      "source": [
        "### Write a program to understand the different basic data types and expressions.\n"
      ],
      "metadata": {
        "id": "0tXhjE2j2Lqw"
      }
    },
    {
      "cell_type": "code",
      "source": [
        "# Integer data type\n",
        "num1 = 10\n",
        "\n",
        "# Float data type\n",
        "num2 = 3.14\n",
        "\n",
        "# String data type\n",
        "name = \"Hiyaa\"\n",
        "\n",
        "# Boolean data type\n",
        "is_true = True\n"
      ],
      "metadata": {
        "id": "9Arbbfk82OXF"
      },
      "execution_count": 1,
      "outputs": []
    },
    {
      "cell_type": "code",
      "source": [
        "# Basic arithmetic expressions\n",
        "sum_result = num1 + num2\n",
        "difference_result = num1 - num2\n",
        "product_result = num1 * num2\n",
        "division_result = num1 / num2\n",
        "modulus_result = num1 % 3"
      ],
      "metadata": {
        "id": "WoBY7ZRobe67"
      },
      "execution_count": 2,
      "outputs": []
    },
    {
      "cell_type": "code",
      "source": [
        "# String concatenation\n",
        "greeting = \"Hello, \" + name + \"!\""
      ],
      "metadata": {
        "id": "XPS6n9sQbj1j"
      },
      "execution_count": 3,
      "outputs": []
    },
    {
      "cell_type": "code",
      "source": [
        "# Boolean expressions\n",
        "is_equal = num1 == num2\n",
        "is_greater = num1 > num2\n",
        "is_true_and_greater = is_true and is_greater\n",
        "is_true_or_equal = is_true or is_equal"
      ],
      "metadata": {
        "id": "uhcPU3BXbmew"
      },
      "execution_count": 4,
      "outputs": []
    },
    {
      "cell_type": "code",
      "source": [
        "print(\"num1:\", num1, \" (int)\")\n",
        "print(\"num2:\", num2, \" (float)\")\n",
        "print(\"name:\", name, \" (string)\")\n",
        "print(\"is_true:\", is_true, \" (boolean)\")"
      ],
      "metadata": {
        "colab": {
          "base_uri": "https://localhost:8080/"
        },
        "id": "Jj-wU9lUbpmv",
        "outputId": "0a545084-1628-42d2-bd96-36e56459218b"
      },
      "execution_count": 5,
      "outputs": [
        {
          "output_type": "stream",
          "name": "stdout",
          "text": [
            "num1: 10  (int)\n",
            "num2: 3.14  (float)\n",
            "name: Hiyaa  (string)\n",
            "is_true: True  (boolean)\n"
          ]
        }
      ]
    },
    {
      "cell_type": "code",
      "source": [
        "print(\"Arithmetic Expressions:\")\n",
        "print(\"Sum:\", sum_result)\n",
        "print(\"Difference:\", difference_result)\n",
        "print(\"Product:\", product_result)\n",
        "print(\"Division:\", division_result)\n",
        "print(\"Modulus:\", modulus_result)"
      ],
      "metadata": {
        "colab": {
          "base_uri": "https://localhost:8080/"
        },
        "id": "1yCnRq_Bbr05",
        "outputId": "7097014c-365f-4dd6-9e7c-a61b518e979d"
      },
      "execution_count": 6,
      "outputs": [
        {
          "output_type": "stream",
          "name": "stdout",
          "text": [
            "Arithmetic Expressions:\n",
            "Sum: 13.14\n",
            "Difference: 6.859999999999999\n",
            "Product: 31.400000000000002\n",
            "Division: 3.184713375796178\n",
            "Modulus: 1\n"
          ]
        }
      ]
    },
    {
      "cell_type": "code",
      "source": [
        "print(\"String Concatenation:\")\n",
        "print(greeting)"
      ],
      "metadata": {
        "colab": {
          "base_uri": "https://localhost:8080/"
        },
        "id": "Qtzkq3HBbvB6",
        "outputId": "e1733e9e-8527-41ac-cdd6-1eb9fe1f59d4"
      },
      "execution_count": 7,
      "outputs": [
        {
          "output_type": "stream",
          "name": "stdout",
          "text": [
            "String Concatenation:\n",
            "Hello, Hiyaa!\n"
          ]
        }
      ]
    },
    {
      "cell_type": "code",
      "source": [
        "print(\"Boolean Expressions:\")\n",
        "print(\"num1 == num2:\", is_equal)\n",
        "print(\"num1 > num2:\", is_greater)\n",
        "print(\"is_true and is_greater:\", is_true_and_greater)\n",
        "print(\"is_true or is_equal:\", is_true_or_equal)"
      ],
      "metadata": {
        "colab": {
          "base_uri": "https://localhost:8080/"
        },
        "id": "Qaomxj9ZbxL1",
        "outputId": "187b9c9a-e01b-4d5d-b8da-99ac5c5685d4"
      },
      "execution_count": 8,
      "outputs": [
        {
          "output_type": "stream",
          "name": "stdout",
          "text": [
            "Boolean Expressions:\n",
            "num1 == num2: False\n",
            "num1 > num2: True\n",
            "is_true and is_greater: True\n",
            "is_true or is_equal: True\n"
          ]
        }
      ]
    }
  ]
}